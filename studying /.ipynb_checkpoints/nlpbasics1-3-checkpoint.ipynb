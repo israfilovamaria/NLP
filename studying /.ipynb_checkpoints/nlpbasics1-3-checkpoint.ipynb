{
 "cells": [
  {
   "cell_type": "markdown",
   "id": "4f5729d0",
   "metadata": {},
   "source": [
    "## *Базовая обработка и анализ текста* "
   ]
  },
  {
   "cell_type": "code",
   "execution_count": 1,
   "id": "c0bf868f",
   "metadata": {},
   "outputs": [],
   "source": [
    "#remove irritating warnings\n",
    "import warnings\n",
    "warnings.filterwarnings('ignore')"
   ]
  },
  {
   "cell_type": "code",
   "execution_count": 2,
   "id": "c3fe1f36",
   "metadata": {},
   "outputs": [],
   "source": [
    "#importing libraries\n",
    "import numpy as np \n",
    "import pandas as pd\n",
    "import spacy \n",
    "import re\n",
    "from collections import Counter "
   ]
  },
  {
   "cell_type": "code",
   "execution_count": 3,
   "id": "355b1226",
   "metadata": {},
   "outputs": [],
   "source": [
    "#importing data\n",
    "data = pd.read_csv('financial_review.csv')"
   ]
  },
  {
   "cell_type": "code",
   "execution_count": 4,
   "id": "5ea18956",
   "metadata": {},
   "outputs": [
    {
     "data": {
      "text/html": [
       "<div>\n",
       "<style scoped>\n",
       "    .dataframe tbody tr th:only-of-type {\n",
       "        vertical-align: middle;\n",
       "    }\n",
       "\n",
       "    .dataframe tbody tr th {\n",
       "        vertical-align: top;\n",
       "    }\n",
       "\n",
       "    .dataframe thead th {\n",
       "        text-align: right;\n",
       "    }\n",
       "</style>\n",
       "<table border=\"1\" class=\"dataframe\">\n",
       "  <thead>\n",
       "    <tr style=\"text-align: right;\">\n",
       "      <th></th>\n",
       "      <th>bank_href</th>\n",
       "      <th>login</th>\n",
       "      <th>review</th>\n",
       "      <th>bank_name</th>\n",
       "      <th>site</th>\n",
       "      <th>date</th>\n",
       "      <th>message_href</th>\n",
       "      <th>score</th>\n",
       "      <th>status</th>\n",
       "      <th>user_href</th>\n",
       "    </tr>\n",
       "  </thead>\n",
       "  <tbody>\n",
       "    <tr>\n",
       "      <th>0</th>\n",
       "      <td>/kredit-evropa-bank.html</td>\n",
       "      <td>NaN</td>\n",
       "      <td>Брал кредит в данной организации, после погаше...</td>\n",
       "      <td>кредит европа банк</td>\n",
       "      <td>http://bankireview.ru</td>\n",
       "      <td>NaN</td>\n",
       "      <td>NaN</td>\n",
       "      <td>NaN</td>\n",
       "      <td>NaN</td>\n",
       "      <td>NaN</td>\n",
       "    </tr>\n",
       "    <tr>\n",
       "      <th>1</th>\n",
       "      <td>/kredit-evropa-bank.html</td>\n",
       "      <td>NaN</td>\n",
       "      <td>В 2011 году,мною была оформлена мега карта в Т...</td>\n",
       "      <td>кредит европа банк</td>\n",
       "      <td>http://bankireview.ru</td>\n",
       "      <td>NaN</td>\n",
       "      <td>NaN</td>\n",
       "      <td>NaN</td>\n",
       "      <td>NaN</td>\n",
       "      <td>NaN</td>\n",
       "    </tr>\n",
       "  </tbody>\n",
       "</table>\n",
       "</div>"
      ],
      "text/plain": [
       "                  bank_href login  \\\n",
       "0  /kredit-evropa-bank.html   NaN   \n",
       "1  /kredit-evropa-bank.html   NaN   \n",
       "\n",
       "                                              review           bank_name  \\\n",
       "0  Брал кредит в данной организации, после погаше...  кредит европа банк   \n",
       "1  В 2011 году,мною была оформлена мега карта в Т...  кредит европа банк   \n",
       "\n",
       "                    site date message_href score status user_href  \n",
       "0  http://bankireview.ru  NaN          NaN   NaN    NaN       NaN  \n",
       "1  http://bankireview.ru  NaN          NaN   NaN    NaN       NaN  "
      ]
     },
     "execution_count": 4,
     "metadata": {},
     "output_type": "execute_result"
    }
   ],
   "source": [
    "data.head(2)"
   ]
  },
  {
   "cell_type": "code",
   "execution_count": 5,
   "id": "289a2d8b",
   "metadata": {},
   "outputs": [],
   "source": [
    "#filtering reviews by bank name\n",
    "reviews = data[data.bank_name == 'тинькофф банк'][['review', 'score']]"
   ]
  },
  {
   "cell_type": "code",
   "execution_count": 6,
   "id": "3331f596",
   "metadata": {},
   "outputs": [],
   "source": [
    "nlp = spacy.load('ru_core_news_sm')"
   ]
  },
  {
   "cell_type": "code",
   "execution_count": 7,
   "id": "d1c60d57",
   "metadata": {},
   "outputs": [],
   "source": [
    "#function for cleaning data \n",
    "def cleaningdata(text):\n",
    "    #delete punctuation and another not alphanumeric symbols \n",
    "    text = re.sub(r'[^\\w\\s]', ' ', text)\n",
    "    #delete digitals \n",
    "    text = re.sub(r'[\\d]', ' ', text)\n",
    "    #delete extra whitespace \n",
    "    text = re.sub(r'\\s+', ' ', text)\n",
    "    #transform to lower-case \n",
    "    text = text.lower()\n",
    "    text = nlp(text)\n",
    "    #lemmatisation and deleting stop-words \n",
    "    tokens = [token.lemma_ for token in text if token.is_stop == False]\n",
    "    text = \" \".join(tokens)\n",
    "    return text"
   ]
  },
  {
   "cell_type": "code",
   "execution_count": 8,
   "id": "f74a2c81",
   "metadata": {},
   "outputs": [],
   "source": [
    "reviews['review'] = reviews['review'].apply(cleaningdata)"
   ]
  },
  {
   "cell_type": "code",
   "execution_count": 9,
   "id": "e9bb6b83",
   "metadata": {},
   "outputs": [
    {
     "data": {
      "text/html": [
       "<div>\n",
       "<style scoped>\n",
       "    .dataframe tbody tr th:only-of-type {\n",
       "        vertical-align: middle;\n",
       "    }\n",
       "\n",
       "    .dataframe tbody tr th {\n",
       "        vertical-align: top;\n",
       "    }\n",
       "\n",
       "    .dataframe thead th {\n",
       "        text-align: right;\n",
       "    }\n",
       "</style>\n",
       "<table border=\"1\" class=\"dataframe\">\n",
       "  <thead>\n",
       "    <tr style=\"text-align: right;\">\n",
       "      <th></th>\n",
       "      <th>review</th>\n",
       "      <th>score</th>\n",
       "    </tr>\n",
       "  </thead>\n",
       "  <tbody>\n",
       "    <tr>\n",
       "      <th>2487</th>\n",
       "      <td>финансами плохо работа муж постоянный доход бо...</td>\n",
       "      <td>NaN</td>\n",
       "    </tr>\n",
       "    <tr>\n",
       "      <th>2488</th>\n",
       "      <td>вчера закрывать задолженность карта тинькофф о...</td>\n",
       "      <td>NaN</td>\n",
       "    </tr>\n",
       "  </tbody>\n",
       "</table>\n",
       "</div>"
      ],
      "text/plain": [
       "                                                 review score\n",
       "2487  финансами плохо работа муж постоянный доход бо...   NaN\n",
       "2488  вчера закрывать задолженность карта тинькофф о...   NaN"
      ]
     },
     "execution_count": 9,
     "metadata": {},
     "output_type": "execute_result"
    }
   ],
   "source": [
    "#quick look on result \n",
    "reviews.head(2)"
   ]
  },
  {
   "cell_type": "code",
   "execution_count": 10,
   "id": "fb924b4e",
   "metadata": {},
   "outputs": [
    {
     "data": {
      "text/html": [
       "<div>\n",
       "<style scoped>\n",
       "    .dataframe tbody tr th:only-of-type {\n",
       "        vertical-align: middle;\n",
       "    }\n",
       "\n",
       "    .dataframe tbody tr th {\n",
       "        vertical-align: top;\n",
       "    }\n",
       "\n",
       "    .dataframe thead th {\n",
       "        text-align: right;\n",
       "    }\n",
       "</style>\n",
       "<table border=\"1\" class=\"dataframe\">\n",
       "  <thead>\n",
       "    <tr style=\"text-align: right;\">\n",
       "      <th></th>\n",
       "      <th>review</th>\n",
       "      <th>score</th>\n",
       "    </tr>\n",
       "  </thead>\n",
       "  <tbody>\n",
       "    <tr>\n",
       "      <th>2487</th>\n",
       "      <td>С финансами было все не плохо,была работа у му...</td>\n",
       "      <td>NaN</td>\n",
       "    </tr>\n",
       "    <tr>\n",
       "      <th>2488</th>\n",
       "      <td>Вчера закрывал задолженность по карте Тинькофф...</td>\n",
       "      <td>NaN</td>\n",
       "    </tr>\n",
       "  </tbody>\n",
       "</table>\n",
       "</div>"
      ],
      "text/plain": [
       "                                                 review score\n",
       "2487  С финансами было все не плохо,была работа у му...   NaN\n",
       "2488  Вчера закрывал задолженность по карте Тинькофф...   NaN"
      ]
     },
     "execution_count": 10,
     "metadata": {},
     "output_type": "execute_result"
    }
   ],
   "source": [
    "#for comparing\n",
    "data[data.bank_name == 'тинькофф банк'][['review', 'score']].head(2)"
   ]
  },
  {
   "cell_type": "code",
   "execution_count": 11,
   "id": "ffaeb441",
   "metadata": {},
   "outputs": [
    {
     "data": {
      "text/plain": [
       "[('банк', 4977),\n",
       " ('карта', 2236),\n",
       " ('тинькофф', 1407),\n",
       " ('счёт', 1044),\n",
       " ('день', 911),\n",
       " ('клиент', 831),\n",
       " ('вопрос', 794),\n",
       " ('сотрудник', 779),\n",
       " ('деньга', 726),\n",
       " ('год', 712)]"
      ]
     },
     "execution_count": 11,
     "metadata": {},
     "output_type": "execute_result"
    }
   ],
   "source": [
    "#top 10 most common words \n",
    "Counter(reviews.review.sum().split()).most_common()[0:10]"
   ]
  },
  {
   "cell_type": "code",
   "execution_count": 12,
   "id": "a81a18e6",
   "metadata": {},
   "outputs": [
    {
     "data": {
      "text/plain": [
       "'7.9%'"
      ]
     },
     "execution_count": 12,
     "metadata": {},
     "output_type": "execute_result"
    }
   ],
   "source": [
    "#how many NaN values we have in a score column as a percentage? \n",
    "f'{np.round(reviews.score.isnull().sum()/reviews.score.shape[0]*100, 1)}%'"
   ]
  },
  {
   "cell_type": "code",
   "execution_count": 13,
   "id": "08da88fd",
   "metadata": {},
   "outputs": [
    {
     "data": {
      "text/plain": [
       "array([nan, '5', 'Без оценки', '2', '3', '1', '4'], dtype=object)"
      ]
     },
     "execution_count": 13,
     "metadata": {},
     "output_type": "execute_result"
    }
   ],
   "source": [
    "#what other values do we have?\n",
    "reviews['score'].unique()"
   ]
  },
  {
   "cell_type": "code",
   "execution_count": 14,
   "id": "f917079d",
   "metadata": {},
   "outputs": [
    {
     "data": {
      "text/plain": [
       "'14.6%'"
      ]
     },
     "execution_count": 14,
     "metadata": {},
     "output_type": "execute_result"
    }
   ],
   "source": [
    "#how many \"unrated\" values we have in a score column as a percentage? \n",
    "f'{np.round(sum(reviews[\"score\"] == \"Без оценки\")/reviews.score.shape[0]*100, 1)}%'"
   ]
  },
  {
   "cell_type": "code",
   "execution_count": 15,
   "id": "e374db22",
   "metadata": {},
   "outputs": [],
   "source": [
    "#let's fill none-values and \"unrated\" values with an average score \n",
    "reviews.loc[reviews.score == 'Без оценки', 'score'] = 0 \n",
    "reviews['score'] = pd.to_numeric(reviews['score'])\n",
    "reviews.loc[reviews.score == 0,'score'] = reviews['score'].mean()\n",
    "reviews['score'] = reviews['score'].fillna(reviews['score'].mean())"
   ]
  },
  {
   "cell_type": "code",
   "execution_count": 16,
   "id": "d235c162",
   "metadata": {},
   "outputs": [],
   "source": [
    "#treshold for categorisation \n",
    "threshold = (reviews['score'].max() - reviews['score'].min())/2"
   ]
  },
  {
   "cell_type": "code",
   "execution_count": 17,
   "id": "65834ffe",
   "metadata": {},
   "outputs": [],
   "source": [
    "#labeling\n",
    "reviews['label'] = reviews['score'].apply(lambda x: 'positive'if x > threshold else 'negative')"
   ]
  },
  {
   "cell_type": "code",
   "execution_count": 18,
   "id": "55747502",
   "metadata": {},
   "outputs": [
    {
     "data": {
      "text/plain": [
       "positive    1145\n",
       "negative     331\n",
       "Name: label, dtype: int64"
      ]
     },
     "execution_count": 18,
     "metadata": {},
     "output_type": "execute_result"
    }
   ],
   "source": [
    "#is our data balanced?\n",
    "reviews.label.value_counts()"
   ]
  },
  {
   "cell_type": "code",
   "execution_count": 19,
   "id": "2c6457a2",
   "metadata": {},
   "outputs": [],
   "source": [
    "#function for finding most common adjectives  \n",
    "def popular_adjectives(emotional_reviews):\n",
    "    text = nlp(emotional_reviews)\n",
    "    tokens = [token.lemma_ for token in text if token.pos_ == 'ADJ']\n",
    "    return Counter(tokens).most_common()[0:10]"
   ]
  },
  {
   "cell_type": "code",
   "execution_count": 20,
   "id": "7dab965d",
   "metadata": {},
   "outputs": [
    {
     "data": {
      "text/plain": [
       "[('счёт', 432),\n",
       " ('кредитный', 395),\n",
       " ('хороший', 307),\n",
       " ('удобный', 294),\n",
       " ('дебетовый', 239),\n",
       " ('новый', 177),\n",
       " ('первый', 176),\n",
       " ('личный', 172),\n",
       " ('мобильный', 169),\n",
       " ('деньга', 147)]"
      ]
     },
     "execution_count": 20,
     "metadata": {},
     "output_type": "execute_result"
    }
   ],
   "source": [
    "#top-10 most common adjectives in positive reviews \n",
    "popular_adjectives(reviews[reviews.label == 'positive'].review.values.sum())"
   ]
  },
  {
   "cell_type": "code",
   "execution_count": 21,
   "id": "692289be",
   "metadata": {},
   "outputs": [
    {
     "data": {
      "text/plain": [
       "[('кредитный', 176),\n",
       " ('счёт', 154),\n",
       " ('дебетовый', 64),\n",
       " ('первый', 58),\n",
       " ('личный', 57),\n",
       " ('деньга', 50),\n",
       " ('новый', 46),\n",
       " ('следующий', 45),\n",
       " ('нужный', 40),\n",
       " ('тинькофф', 40)]"
      ]
     },
     "execution_count": 21,
     "metadata": {},
     "output_type": "execute_result"
    }
   ],
   "source": [
    "#top-10 most common adjectives in negative reviews \n",
    "popular_adjectives(reviews[reviews.label == 'negative'].review.values.sum())"
   ]
  },
  {
   "cell_type": "markdown",
   "id": "e586c706",
   "metadata": {},
   "source": [
    "## *Частотные подходы* "
   ]
  },
  {
   "cell_type": "code",
   "execution_count": 22,
   "id": "23d0d912",
   "metadata": {},
   "outputs": [],
   "source": [
    "#importing everything we need \n",
    "from sklearn.feature_extraction.text import TfidfVectorizer\n",
    "from sklearn.feature_extraction.text import CountVectorizer\n",
    "from sklearn.model_selection import train_test_split\n",
    "from sklearn.pipeline import Pipeline\n",
    "from sklearn.model_selection import GridSearchCV\n",
    "from sklearn.ensemble import RandomForestClassifier\n",
    "from sklearn.linear_model import LogisticRegression\n",
    "from sklearn.preprocessing import LabelEncoder\n",
    "from sklearn.metrics import classification_report"
   ]
  },
  {
   "cell_type": "code",
   "execution_count": 23,
   "id": "7e7fb664",
   "metadata": {},
   "outputs": [],
   "source": [
    "allreviews = data[['review', 'score']]"
   ]
  },
  {
   "cell_type": "code",
   "execution_count": 24,
   "id": "27423105",
   "metadata": {},
   "outputs": [],
   "source": [
    "#let's again fill none-values and \"unrated\" values with an average score \n",
    "allreviews.loc[allreviews.score == 'Без оценки', 'score'] = 0 \n",
    "allreviews['score'] = pd.to_numeric(allreviews['score'])\n",
    "allreviews.loc[allreviews.score == 0,'score'] = allreviews['score'].mean()\n",
    "allreviews['score'] = allreviews['score'].fillna(allreviews['score'].mean())"
   ]
  },
  {
   "cell_type": "code",
   "execution_count": 25,
   "id": "b432f50a",
   "metadata": {},
   "outputs": [],
   "source": [
    "#labeling\n",
    "allreviews['label'] = allreviews['score'].apply(lambda x: 'positive'if x > threshold else 'negative')"
   ]
  },
  {
   "cell_type": "code",
   "execution_count": 26,
   "id": "b6c84b83",
   "metadata": {},
   "outputs": [],
   "source": [
    "#from the previous lab we found out that our data is unbalanced \n",
    "#this can make the model more focused on positive values \n",
    "#let's fix it by under-sampling \n",
    "#plus my pc can't hadle all the data:))) \n",
    "positive = allreviews[allreviews.label == 'positive'].iloc[0:2000]\n",
    "negative = allreviews[allreviews.label == 'negative'].iloc[0:2000]"
   ]
  },
  {
   "cell_type": "code",
   "execution_count": 27,
   "id": "481e2c20",
   "metadata": {},
   "outputs": [],
   "source": [
    "#concatenating data \n",
    "balanced_data = pd.concat([positive, negative], ignore_index=True)"
   ]
  },
  {
   "cell_type": "code",
   "execution_count": 28,
   "id": "89b01a47",
   "metadata": {},
   "outputs": [
    {
     "name": "stdout",
     "output_type": "stream",
     "text": [
      "CPU times: user 3min 45s, sys: 7.98 s, total: 3min 53s\n",
      "Wall time: 3min 53s\n"
     ]
    }
   ],
   "source": [
    "%%time\n",
    "balanced_data['review'] = balanced_data['review'].apply(cleaningdata)"
   ]
  },
  {
   "cell_type": "code",
   "execution_count": 29,
   "id": "84f6d420",
   "metadata": {},
   "outputs": [],
   "source": [
    "X = balanced_data.review \n",
    "y = balanced_data.label "
   ]
  },
  {
   "cell_type": "code",
   "execution_count": 30,
   "id": "4575ca0a",
   "metadata": {},
   "outputs": [],
   "source": [
    "label_encoder = LabelEncoder()\n",
    "y = label_encoder.fit_transform(y)"
   ]
  },
  {
   "cell_type": "code",
   "execution_count": 31,
   "id": "654e889f",
   "metadata": {},
   "outputs": [],
   "source": [
    "X_train, X_test, y_train, y_test = train_test_split(X, y, random_state=0)"
   ]
  },
  {
   "cell_type": "code",
   "execution_count": 32,
   "id": "262e74c1",
   "metadata": {},
   "outputs": [],
   "source": [
    "pipeline1 = Pipeline([\n",
    "    ('tfidf', TfidfVectorizer()),\n",
    "    ('forest', RandomForestClassifier())\n",
    "])\n",
    "pipeline2 = Pipeline([\n",
    "    ('tfidf', TfidfVectorizer()),\n",
    "    ('logreg', LogisticRegression())\n",
    "])\n",
    "pipeline3 = Pipeline([\n",
    "    ('bow', CountVectorizer()),\n",
    "    ('logreg', LogisticRegression())\n",
    "])\n",
    "pipeline4 = Pipeline([\n",
    "    ('bow', CountVectorizer()),\n",
    "    ('forest', RandomForestClassifier())\n",
    "])"
   ]
  },
  {
   "cell_type": "code",
   "execution_count": 33,
   "id": "6ab5441f",
   "metadata": {},
   "outputs": [],
   "source": [
    "parameters1 = {\n",
    "    'tfidf__max_df': (0.5, 0.75, 1.0),\n",
    "    'tfidf__ngram_range': ((1, 1), (1, 2)),\n",
    "    'forest__n_estimators': [100, 200, 300],\n",
    "    'forest__max_depth': [5, 10, 20]\n",
    "}\n",
    "parameters2 = {\n",
    "    'tfidf__max_df': (0.5, 0.75, 1.0),\n",
    "    'tfidf__ngram_range': ((1, 1), (1, 2)),\n",
    "    'logreg__C': [0.1, 1.0, 10.0]\n",
    "}\n",
    "parameters3 = {\n",
    "    'bow__max_df': [0.5, 0.75, 1.0], \n",
    "    'bow__ngram_range': [(1, 1), (1, 2)],\n",
    "    'logreg__C': [0.1, 1.0, 10.0]\n",
    "}\n",
    "parameters4 = {\n",
    "    'bow__max_df': [0.5, 0.75, 1.0], \n",
    "    'bow__ngram_range': [(1, 1), (1, 2)],\n",
    "    'forest__n_estimators': [100, 200, 300],\n",
    "    'forest__max_depth': [5, 10, 20]\n",
    "}"
   ]
  },
  {
   "cell_type": "code",
   "execution_count": 34,
   "id": "3214acaf",
   "metadata": {},
   "outputs": [],
   "source": [
    "models = [pipeline1, pipeline2, pipeline3, pipeline4]\n",
    "parameters = [parameters1, parameters2, parameters3, parameters4]"
   ]
  },
  {
   "cell_type": "code",
   "execution_count": 35,
   "id": "b1516cfb",
   "metadata": {},
   "outputs": [
    {
     "name": "stdout",
     "output_type": "stream",
     "text": [
      "Fitting 2 folds for each of 54 candidates, totalling 108 fits\n",
      "Best parameters for tfidf + forest:\n",
      "{'forest__max_depth': 20, 'forest__n_estimators': 300, 'tfidf__max_df': 1.0, 'tfidf__ngram_range': (1, 1)}\n",
      "              precision    recall  f1-score   support\n",
      "\n",
      "           0       0.74      0.77      0.75       492\n",
      "           1       0.77      0.73      0.75       508\n",
      "\n",
      "    accuracy                           0.75      1000\n",
      "   macro avg       0.75      0.75      0.75      1000\n",
      "weighted avg       0.75      0.75      0.75      1000\n",
      "\n",
      "Fitting 2 folds for each of 18 candidates, totalling 36 fits\n",
      "Best parameters for tfidf + logreg:\n",
      "{'logreg__C': 10.0, 'tfidf__max_df': 0.5, 'tfidf__ngram_range': (1, 1)}\n",
      "              precision    recall  f1-score   support\n",
      "\n",
      "           0       0.79      0.76      0.78       492\n",
      "           1       0.78      0.81      0.79       508\n",
      "\n",
      "    accuracy                           0.79      1000\n",
      "   macro avg       0.79      0.78      0.78      1000\n",
      "weighted avg       0.79      0.79      0.78      1000\n",
      "\n",
      "Fitting 2 folds for each of 18 candidates, totalling 36 fits\n"
     ]
    },
    {
     "name": "stderr",
     "output_type": "stream",
     "text": [
      "/Users/mariaisrafilova/opt/anaconda3/lib/python3.9/site-packages/sklearn/linear_model/_logistic.py:444: ConvergenceWarning: lbfgs failed to converge (status=1):\n",
      "STOP: TOTAL NO. of ITERATIONS REACHED LIMIT.\n",
      "\n",
      "Increase the number of iterations (max_iter) or scale the data as shown in:\n",
      "    https://scikit-learn.org/stable/modules/preprocessing.html\n",
      "Please also refer to the documentation for alternative solver options:\n",
      "    https://scikit-learn.org/stable/modules/linear_model.html#logistic-regression\n",
      "  n_iter_i = _check_optimize_result(\n",
      "/Users/mariaisrafilova/opt/anaconda3/lib/python3.9/site-packages/sklearn/linear_model/_logistic.py:444: ConvergenceWarning: lbfgs failed to converge (status=1):\n",
      "STOP: TOTAL NO. of ITERATIONS REACHED LIMIT.\n",
      "\n",
      "Increase the number of iterations (max_iter) or scale the data as shown in:\n",
      "    https://scikit-learn.org/stable/modules/preprocessing.html\n",
      "Please also refer to the documentation for alternative solver options:\n",
      "    https://scikit-learn.org/stable/modules/linear_model.html#logistic-regression\n",
      "  n_iter_i = _check_optimize_result(\n",
      "/Users/mariaisrafilova/opt/anaconda3/lib/python3.9/site-packages/sklearn/linear_model/_logistic.py:444: ConvergenceWarning: lbfgs failed to converge (status=1):\n",
      "STOP: TOTAL NO. of ITERATIONS REACHED LIMIT.\n",
      "\n",
      "Increase the number of iterations (max_iter) or scale the data as shown in:\n",
      "    https://scikit-learn.org/stable/modules/preprocessing.html\n",
      "Please also refer to the documentation for alternative solver options:\n",
      "    https://scikit-learn.org/stable/modules/linear_model.html#logistic-regression\n",
      "  n_iter_i = _check_optimize_result(\n",
      "/Users/mariaisrafilova/opt/anaconda3/lib/python3.9/site-packages/sklearn/linear_model/_logistic.py:444: ConvergenceWarning: lbfgs failed to converge (status=1):\n",
      "STOP: TOTAL NO. of ITERATIONS REACHED LIMIT.\n",
      "\n",
      "Increase the number of iterations (max_iter) or scale the data as shown in:\n",
      "    https://scikit-learn.org/stable/modules/preprocessing.html\n",
      "Please also refer to the documentation for alternative solver options:\n",
      "    https://scikit-learn.org/stable/modules/linear_model.html#logistic-regression\n",
      "  n_iter_i = _check_optimize_result(\n",
      "/Users/mariaisrafilova/opt/anaconda3/lib/python3.9/site-packages/sklearn/linear_model/_logistic.py:444: ConvergenceWarning: lbfgs failed to converge (status=1):\n",
      "STOP: TOTAL NO. of ITERATIONS REACHED LIMIT.\n",
      "\n",
      "Increase the number of iterations (max_iter) or scale the data as shown in:\n",
      "    https://scikit-learn.org/stable/modules/preprocessing.html\n",
      "Please also refer to the documentation for alternative solver options:\n",
      "    https://scikit-learn.org/stable/modules/linear_model.html#logistic-regression\n",
      "  n_iter_i = _check_optimize_result(\n",
      "/Users/mariaisrafilova/opt/anaconda3/lib/python3.9/site-packages/sklearn/linear_model/_logistic.py:444: ConvergenceWarning: lbfgs failed to converge (status=1):\n",
      "STOP: TOTAL NO. of ITERATIONS REACHED LIMIT.\n",
      "\n",
      "Increase the number of iterations (max_iter) or scale the data as shown in:\n",
      "    https://scikit-learn.org/stable/modules/preprocessing.html\n",
      "Please also refer to the documentation for alternative solver options:\n",
      "    https://scikit-learn.org/stable/modules/linear_model.html#logistic-regression\n",
      "  n_iter_i = _check_optimize_result(\n",
      "/Users/mariaisrafilova/opt/anaconda3/lib/python3.9/site-packages/sklearn/linear_model/_logistic.py:444: ConvergenceWarning: lbfgs failed to converge (status=1):\n",
      "STOP: TOTAL NO. of ITERATIONS REACHED LIMIT.\n",
      "\n",
      "Increase the number of iterations (max_iter) or scale the data as shown in:\n",
      "    https://scikit-learn.org/stable/modules/preprocessing.html\n",
      "Please also refer to the documentation for alternative solver options:\n",
      "    https://scikit-learn.org/stable/modules/linear_model.html#logistic-regression\n",
      "  n_iter_i = _check_optimize_result(\n",
      "/Users/mariaisrafilova/opt/anaconda3/lib/python3.9/site-packages/sklearn/linear_model/_logistic.py:444: ConvergenceWarning: lbfgs failed to converge (status=1):\n",
      "STOP: TOTAL NO. of ITERATIONS REACHED LIMIT.\n",
      "\n",
      "Increase the number of iterations (max_iter) or scale the data as shown in:\n",
      "    https://scikit-learn.org/stable/modules/preprocessing.html\n",
      "Please also refer to the documentation for alternative solver options:\n",
      "    https://scikit-learn.org/stable/modules/linear_model.html#logistic-regression\n",
      "  n_iter_i = _check_optimize_result(\n",
      "/Users/mariaisrafilova/opt/anaconda3/lib/python3.9/site-packages/sklearn/linear_model/_logistic.py:444: ConvergenceWarning: lbfgs failed to converge (status=1):\n",
      "STOP: TOTAL NO. of ITERATIONS REACHED LIMIT.\n",
      "\n",
      "Increase the number of iterations (max_iter) or scale the data as shown in:\n",
      "    https://scikit-learn.org/stable/modules/preprocessing.html\n",
      "Please also refer to the documentation for alternative solver options:\n",
      "    https://scikit-learn.org/stable/modules/linear_model.html#logistic-regression\n",
      "  n_iter_i = _check_optimize_result(\n",
      "/Users/mariaisrafilova/opt/anaconda3/lib/python3.9/site-packages/sklearn/linear_model/_logistic.py:444: ConvergenceWarning: lbfgs failed to converge (status=1):\n",
      "STOP: TOTAL NO. of ITERATIONS REACHED LIMIT.\n",
      "\n",
      "Increase the number of iterations (max_iter) or scale the data as shown in:\n",
      "    https://scikit-learn.org/stable/modules/preprocessing.html\n",
      "Please also refer to the documentation for alternative solver options:\n",
      "    https://scikit-learn.org/stable/modules/linear_model.html#logistic-regression\n",
      "  n_iter_i = _check_optimize_result(\n"
     ]
    },
    {
     "name": "stdout",
     "output_type": "stream",
     "text": [
      "Best parameters for bow + logreg:\n",
      "{'bow__max_df': 0.75, 'bow__ngram_range': (1, 1), 'logreg__C': 0.1}\n",
      "              precision    recall  f1-score   support\n",
      "\n",
      "           0       0.76      0.77      0.76       492\n",
      "           1       0.77      0.76      0.77       508\n",
      "\n",
      "    accuracy                           0.76      1000\n",
      "   macro avg       0.76      0.76      0.76      1000\n",
      "weighted avg       0.76      0.76      0.76      1000\n",
      "\n",
      "Fitting 2 folds for each of 54 candidates, totalling 108 fits\n",
      "Best parameters for bow + forest:\n",
      "{'bow__max_df': 0.75, 'bow__ngram_range': (1, 1), 'forest__max_depth': 20, 'forest__n_estimators': 300}\n",
      "              precision    recall  f1-score   support\n",
      "\n",
      "           0       0.77      0.87      0.81       492\n",
      "           1       0.85      0.75      0.80       508\n",
      "\n",
      "    accuracy                           0.81      1000\n",
      "   macro avg       0.81      0.81      0.80      1000\n",
      "weighted avg       0.81      0.81      0.80      1000\n",
      "\n"
     ]
    }
   ],
   "source": [
    "#finding hyperparams \n",
    "for model, parameter in zip(models, parameters):\n",
    "    grid_search = GridSearchCV(model, parameter, cv=2, n_jobs=-1, verbose=1, error_score='raise')\n",
    "    grid_search.fit(X_train, y_train)\n",
    "    print(f\"Best parameters for {list(parameter.keys())[0].split('__')[0]} + {list(parameter.keys())[2].split('__')[0]}:\")\n",
    "    print(grid_search.best_params_)\n",
    "    y_pred = grid_search.predict(X_test)\n",
    "    print(classification_report(y_test, y_pred))"
   ]
  },
  {
   "cell_type": "markdown",
   "id": "551cca5d",
   "metadata": {},
   "source": [
    "По результатм видно, что лучше всего с классификацией справилась модель случайного леса с bag of words векторезацией, в которой использовались все униграммы. "
   ]
  },
  {
   "cell_type": "markdown",
   "id": "e5890e68",
   "metadata": {},
   "source": [
    "## *Тематическое моделирование* "
   ]
  },
  {
   "cell_type": "code",
   "execution_count": 36,
   "id": "61be0651",
   "metadata": {},
   "outputs": [],
   "source": [
    "#importing all we need \n",
    "import gensim\n",
    "from gensim import corpora\n",
    "from gensim.models import CoherenceModel\n",
    "import seaborn as sns "
   ]
  },
  {
   "cell_type": "code",
   "execution_count": 37,
   "id": "2a8f51be",
   "metadata": {},
   "outputs": [
    {
     "data": {
      "text/plain": [
       "втб                             2603\n",
       "сбербанк                        2481\n",
       "тинькофф банк                   1476\n",
       "почта банк                      1264\n",
       "альфа-банк                      1260\n",
       "                                ... \n",
       "национальный банк сбережений       1\n",
       "электронный платежный сервис       1\n",
       "внешфинбанк                        1\n",
       "металлург                          1\n",
       "банк развитие-столица              1\n",
       "Name: bank_name, Length: 475, dtype: int64"
      ]
     },
     "execution_count": 37,
     "metadata": {},
     "output_type": "execute_result"
    }
   ],
   "source": [
    "#most common banks \n",
    "data.bank_name.value_counts()"
   ]
  },
  {
   "cell_type": "code",
   "execution_count": 38,
   "id": "758b00c6",
   "metadata": {},
   "outputs": [],
   "source": [
    "topic_data = data[data.bank_name == 'сбербанк']['review']"
   ]
  },
  {
   "cell_type": "code",
   "execution_count": 39,
   "id": "1360d892",
   "metadata": {},
   "outputs": [],
   "source": [
    "topic_data = topic_data.apply(cleaningdata)"
   ]
  },
  {
   "cell_type": "code",
   "execution_count": 40,
   "id": "eb874b1f",
   "metadata": {},
   "outputs": [],
   "source": [
    "def tokens(text):\n",
    "    text = nlp(text)\n",
    "    tokens = [token.lemma_ for token in text if token.is_stop == False]\n",
    "    return tokens"
   ]
  },
  {
   "cell_type": "code",
   "execution_count": 41,
   "id": "26d2a3b7",
   "metadata": {},
   "outputs": [],
   "source": [
    "topic_data = topic_data.apply(tokens)"
   ]
  },
  {
   "cell_type": "code",
   "execution_count": 42,
   "id": "bce676ef",
   "metadata": {},
   "outputs": [],
   "source": [
    "dictionary = corpora.Dictionary(topic_data.values)\n",
    "doc_term_matrix = [dictionary.doc2bow(review) for review in topic_data.values]"
   ]
  },
  {
   "cell_type": "code",
   "execution_count": 69,
   "id": "2a043992",
   "metadata": {},
   "outputs": [
    {
     "name": "stdout",
     "output_type": "stream",
     "text": [
      "Number of topics: 3\n",
      "Topic: 1 \n",
      "Keywords: 0.023*\"деньга\" + 0.016*\"сбербанк\" + 0.016*\"банк\" + 0.012*\"счёт\" + 0.012*\"банкомат\" + 0.009*\"день\" + 0.008*\"отделение\" + 0.007*\"карта\" + 0.007*\"клиент\" + 0.006*\"сотрудник\"\n",
      "Topic: 2 \n",
      "Keywords: 0.022*\"банк\" + 0.019*\"кредит\" + 0.019*\"сбербанк\" + 0.010*\"сотрудник\" + 0.009*\"документ\" + 0.009*\"день\" + 0.008*\"год\" + 0.008*\"договор\" + 0.007*\"отделение\" + 0.007*\"менеджер\"\n",
      "Topic: 3 \n",
      "Keywords: 0.040*\"карта\" + 0.025*\"банк\" + 0.019*\"сбербанк\" + 0.011*\"отделение\" + 0.011*\"деньга\" + 0.009*\"сотрудник\" + 0.008*\"клиент\" + 0.007*\"день\" + 0.007*\"счёт\" + 0.006*\"сказать\"\n",
      "Perplexity: -7.623569997079989\n",
      "Сoherence: 0.3358216365921074\n",
      "\n",
      "Number of topics: 4\n",
      "Topic: 1 \n",
      "Keywords: 0.010*\"сбербанк\" + 0.007*\"деньга\" + 0.006*\"отделение\" + 0.006*\"счёт\" + 0.005*\"банк\" + 0.004*\"документ\" + 0.004*\"день\" + 0.004*\"клиент\" + 0.003*\"работать\" + 0.003*\"работа\"\n",
      "Topic: 2 \n",
      "Keywords: 0.019*\"банк\" + 0.015*\"сбербанк\" + 0.015*\"отделение\" + 0.015*\"сотрудник\" + 0.013*\"клиент\" + 0.009*\"банкомат\" + 0.009*\"деньга\" + 0.008*\"работать\" + 0.007*\"человек\" + 0.007*\"работа\"\n",
      "Topic: 3 \n",
      "Keywords: 0.024*\"банк\" + 0.021*\"сбербанк\" + 0.019*\"деньга\" + 0.015*\"кредит\" + 0.012*\"день\" + 0.012*\"сумма\" + 0.010*\"счёт\" + 0.008*\"средство\" + 0.008*\"год\" + 0.007*\"платёж\"\n",
      "Topic: 4 \n",
      "Keywords: 0.036*\"карта\" + 0.024*\"банк\" + 0.019*\"сбербанк\" + 0.009*\"отделение\" + 0.009*\"сказать\" + 0.009*\"день\" + 0.009*\"деньга\" + 0.007*\"сотрудник\" + 0.006*\"счёт\" + 0.006*\"получить\"\n",
      "Perplexity: -7.6274469997053\n",
      "Сoherence: 0.3202644071760714\n",
      "\n",
      "Number of topics: 5\n",
      "Topic: 1 \n",
      "Keywords: 0.005*\"обязательство\" + 0.004*\"исполнение\" + 0.004*\"закладной\" + 0.003*\"бонус\" + 0.003*\"пао\" + 0.002*\"сочи\" + 0.002*\"книжка\" + 0.002*\"закон\" + 0.002*\"товар\" + 0.002*\"новый\"\n",
      "Topic: 2 \n",
      "Keywords: 0.021*\"сбербанк\" + 0.020*\"банк\" + 0.016*\"счёт\" + 0.011*\"средство\" + 0.011*\"сумма\" + 0.009*\"платёж\" + 0.008*\"карта\" + 0.008*\"денежный\" + 0.007*\"кредитный\" + 0.007*\"обращение\"\n",
      "Topic: 3 \n",
      "Keywords: 0.021*\"сотрудник\" + 0.017*\"клиент\" + 0.015*\"отделение\" + 0.015*\"банк\" + 0.014*\"сбербанк\" + 0.008*\"работа\" + 0.008*\"офис\" + 0.007*\"очередь\" + 0.007*\"вопрос\" + 0.007*\"обслуживание\"\n",
      "Topic: 4 \n",
      "Keywords: 0.027*\"банк\" + 0.026*\"кредит\" + 0.019*\"сбербанк\" + 0.011*\"документ\" + 0.010*\"год\" + 0.010*\"день\" + 0.009*\"договор\" + 0.009*\"менеджер\" + 0.009*\"ипотека\" + 0.008*\"сказать\"\n",
      "Topic: 5 \n",
      "Keywords: 0.039*\"карта\" + 0.023*\"банк\" + 0.022*\"деньга\" + 0.019*\"сбербанк\" + 0.011*\"отделение\" + 0.011*\"день\" + 0.008*\"банкомат\" + 0.008*\"счёт\" + 0.007*\"сказать\" + 0.007*\"заявление\"\n",
      "Perplexity: -7.610104432103093\n",
      "Сoherence: 0.3819003049628519\n",
      "\n",
      "Number of topics: 6\n",
      "Topic: 1 \n",
      "Keywords: 0.022*\"_\" + 0.018*\"благодарность\" + 0.016*\"спасибо\" + 0.011*\"  \" + 0.009*\"огромный\" + 0.009*\"выразить\" + 0.008*\"работа\" + 0.008*\"клиент\" + 0.008*\"сбербанк\" + 0.007*\"профессионализм\"\n",
      "Topic: 2 \n",
      "Keywords: 0.021*\"обременение\" + 0.014*\"снятие\" + 0.011*\"закладной\" + 0.007*\"обязательство\" + 0.004*\"закладная\" + 0.004*\"снять\" + 0.004*\"приложение\" + 0.004*\"календарный\" + 0.003*\"украина\" + 0.003*\"полностью\"\n",
      "Topic: 3 \n",
      "Keywords: 0.014*\"банкомат\" + 0.008*\"br\" + 0.006*\"сбербанк\" + 0.005*\"город\" + 0.005*\"сб\" + 0.004*\"работать\" + 0.004*\"снять\" + 0.004*\"комиссия\" + 0.003*\"пользоваться\" + 0.003*\"купюра\"\n",
      "Topic: 4 \n",
      "Keywords: 0.026*\"карта\" + 0.023*\"банк\" + 0.018*\"сбербанк\" + 0.015*\"отделение\" + 0.014*\"деньга\" + 0.013*\"сотрудник\" + 0.012*\"клиент\" + 0.008*\"сказать\" + 0.006*\"человек\" + 0.006*\"прийти\"\n",
      "Topic: 5 \n",
      "Keywords: 0.027*\"деньга\" + 0.022*\"сбербанк\" + 0.019*\"счёт\" + 0.017*\"банк\" + 0.015*\"средство\" + 0.014*\"карта\" + 0.013*\"день\" + 0.011*\"сумма\" + 0.010*\"банкомат\" + 0.010*\"обращение\"\n",
      "Topic: 6 \n",
      "Keywords: 0.028*\"банк\" + 0.019*\"сбербанк\" + 0.018*\"карта\" + 0.015*\"кредит\" + 0.009*\"день\" + 0.007*\"сотрудник\" + 0.007*\"кредитный\" + 0.007*\"документ\" + 0.007*\"год\" + 0.007*\"договор\"\n",
      "Perplexity: -7.64681310401218\n",
      "Сoherence: 0.390663387662248\n",
      "\n",
      "Number of topics: 7\n",
      "Topic: 1 \n",
      "Keywords: 0.020*\"банк\" + 0.020*\"кредит\" + 0.018*\"сбербанк\" + 0.014*\"клиент\" + 0.013*\"сотрудник\" + 0.010*\"вопрос\" + 0.008*\"отделение\" + 0.008*\"менеджер\" + 0.007*\"работа\" + 0.007*\"страховка\"\n",
      "Topic: 2 \n",
      "Keywords: 0.033*\"деньга\" + 0.021*\"сбербанк\" + 0.021*\"банк\" + 0.016*\"счёт\" + 0.014*\"сумма\" + 0.013*\"кредит\" + 0.010*\"год\" + 0.010*\"день\" + 0.009*\"вернуть\" + 0.009*\"заявление\"\n",
      "Topic: 3 \n",
      "Keywords: 0.028*\"деньга\" + 0.024*\"сбербанк\" + 0.019*\"банк\" + 0.015*\"карта\" + 0.015*\"день\" + 0.014*\"банкомат\" + 0.012*\"средство\" + 0.011*\"сумма\" + 0.010*\"обращение\" + 0.009*\"операция\"\n",
      "Topic: 4 \n",
      "Keywords: 0.019*\"банк\" + 0.017*\"сбербанк\" + 0.013*\"документ\" + 0.013*\"день\" + 0.012*\"сотрудник\" + 0.011*\"отделение\" + 0.009*\"договор\" + 0.009*\"сказать\" + 0.008*\"год\" + 0.007*\"счёт\"\n",
      "Topic: 5 \n",
      "Keywords: 0.017*\"банк\" + 0.015*\"клиент\" + 0.013*\"очередь\" + 0.011*\"сбербанк\" + 0.011*\"платёж\" + 0.011*\"работать\" + 0.011*\"отделение\" + 0.009*\"человек\" + 0.008*\"сотрудник\" + 0.007*\"окно\"\n",
      "Topic: 6 \n",
      "Keywords: 0.070*\"карта\" + 0.032*\"банк\" + 0.017*\"сбербанк\" + 0.013*\"отделение\" + 0.010*\"деньга\" + 0.008*\"сотрудник\" + 0.007*\"телефон\" + 0.006*\"сказать\" + 0.006*\"мобильный\" + 0.006*\"номер\"\n",
      "Topic: 7 \n",
      "Keywords: 0.005*\"пао\" + 0.005*\"дом\" + 0.004*\"россия\" + 0.003*\"петербург\" + 0.003*\"санкт\" + 0.003*\"федеральный\" + 0.003*\"мпс\" + 0.002*\"ул\" + 0.002*\"житель\" + 0.002*\"война\"\n",
      "Perplexity: -7.654450947680979\n",
      "Сoherence: 0.3837206219699415\n",
      "\n",
      "Number of topics: 8\n",
      "Topic: 1 \n",
      "Keywords: 0.052*\"_\" + 0.005*\"цско\" + 0.004*\"украина\" + 0.004*\"очередь\" + 0.003*\"лист\" + 0.003*\"приходиться\" + 0.003*\"знать\" + 0.003*\"электронный\" + 0.003*\"офис\" + 0.003*\"дизайн\"\n",
      "Topic: 2 \n",
      "Keywords: 0.022*\"банк\" + 0.020*\"сбербанк\" + 0.015*\"кредит\" + 0.014*\"сотрудник\" + 0.010*\"клиент\" + 0.009*\"отделение\" + 0.008*\"год\" + 0.008*\"день\" + 0.008*\"документ\" + 0.008*\"сказать\"\n",
      "Topic: 3 \n",
      "Keywords: 0.005*\"удалять\" + 0.003*\"дом\" + 0.002*\"стол\" + 0.002*\"галина\" + 0.002*\"загвоздка\" + 0.002*\"достойный\" + 0.002*\"корп\" + 0.002*\"современный\" + 0.002*\"субординация\" + 0.002*\"приветливый\"\n",
      "Topic: 4 \n",
      "Keywords: 0.016*\"документ\" + 0.015*\"обременение\" + 0.011*\"кредитный\" + 0.010*\"снятие\" + 0.009*\"закладной\" + 0.009*\"доверенность\" + 0.009*\"сбербанк\" + 0.008*\"год\" + 0.008*\"договор\" + 0.006*\"пао\"\n",
      "Topic: 5 \n",
      "Keywords: 0.024*\"деньга\" + 0.023*\"сбербанк\" + 0.023*\"карта\" + 0.022*\"банк\" + 0.013*\"день\" + 0.010*\"счёт\" + 0.009*\"банкомат\" + 0.009*\"средство\" + 0.008*\"сумма\" + 0.008*\"отделение\"\n",
      "Topic: 6 \n",
      "Keywords: 0.053*\"карта\" + 0.033*\"банк\" + 0.014*\"отделение\" + 0.012*\"сбербанк\" + 0.012*\"счёт\" + 0.010*\"сотрудник\" + 0.010*\"клиент\" + 0.010*\"деньга\" + 0.007*\"обслуживание\" + 0.007*\"офис\"\n",
      "Topic: 7 \n",
      "Keywords: 0.018*\"деньга\" + 0.016*\"платёж\" + 0.014*\"сбербанк\" + 0.014*\"кредит\" + 0.012*\"отделение\" + 0.011*\"счёт\" + 0.011*\"задолженность\" + 0.010*\"погашение\" + 0.010*\"сумма\" + 0.010*\"месяц\"\n",
      "Topic: 8 \n",
      "Keywords: 0.018*\"бонус\" + 0.012*\"спасибо\" + 0.006*\"большой\" + 0.004*\"город\" + 0.003*\"машина\" + 0.003*\"снятие\" + 0.003*\"попасть\" + 0.003*\"видеть\" + 0.003*\"пользователь\" + 0.003*\"полный\"\n",
      "Perplexity: -7.651469077591009\n",
      "Сoherence: 0.41721311766789526\n",
      "\n",
      "Number of topics: 9\n",
      "Topic: 1 \n",
      "Keywords: 0.030*\"br\" + 0.011*\"фонд\" + 0.010*\"пенсионный\" + 0.009*\"сб\" + 0.005*\"комиссия\" + 0.004*\"реут\" + 0.004*\"знать\" + 0.004*\"сотрудник\" + 0.004*\"простой\" + 0.003*\"пенсия\"\n",
      "Topic: 2 \n",
      "Keywords: 0.019*\"сбербанк\" + 0.019*\"банк\" + 0.014*\"документ\" + 0.014*\"день\" + 0.011*\"договор\" + 0.011*\"кредит\" + 0.010*\"год\" + 0.010*\"ипотека\" + 0.009*\"сотрудник\" + 0.008*\"менеджер\"\n",
      "Topic: 3 \n",
      "Keywords: 0.027*\"деньга\" + 0.026*\"сбербанк\" + 0.025*\"карта\" + 0.022*\"банк\" + 0.014*\"средство\" + 0.013*\"день\" + 0.012*\"обращение\" + 0.011*\"счёт\" + 0.011*\"банкомат\" + 0.010*\"заявление\"\n",
      "Topic: 4 \n",
      "Keywords: 0.026*\"счёт\" + 0.025*\"деньга\" + 0.017*\"сбербанк\" + 0.015*\"банк\" + 0.014*\"сумма\" + 0.013*\"кредит\" + 0.008*\"отделение\" + 0.008*\"погашение\" + 0.007*\"платёж\" + 0.007*\"вернуть\"\n",
      "Topic: 5 \n",
      "Keywords: 0.029*\"банк\" + 0.025*\"кредит\" + 0.014*\"сбербанк\" + 0.011*\"сказать\" + 0.011*\"клиент\" + 0.010*\"страховка\" + 0.010*\"сотрудник\" + 0.009*\"год\" + 0.008*\"заявка\" + 0.007*\"офис\"\n",
      "Topic: 6 \n",
      "Keywords: 0.022*\"сотрудник\" + 0.019*\"сбербанк\" + 0.017*\"клиент\" + 0.013*\"банк\" + 0.012*\"отделение\" + 0.011*\"спасибо\" + 0.011*\"работа\" + 0.010*\"благодарность\" + 0.010*\"  \" + 0.008*\"отношение\"\n",
      "Topic: 7 \n",
      "Keywords: 0.050*\"карта\" + 0.033*\"банк\" + 0.020*\"сбербанк\" + 0.015*\"деньга\" + 0.008*\"день\" + 0.007*\"телефон\" + 0.007*\"мобильный\" + 0.007*\"клиент\" + 0.006*\"услуга\" + 0.006*\"прийти\"\n",
      "Topic: 8 \n",
      "Keywords: 0.023*\"карта\" + 0.012*\"лимит\" + 0.010*\"тариф\" + 0.009*\"кредитный\" + 0.007*\"руб\" + 0.007*\"обслуживание\" + 0.006*\"требование\" + 0.006*\"получать\" + 0.005*\"кредитка\" + 0.005*\"комиссия\"\n",
      "Topic: 9 \n",
      "Keywords: 0.027*\"карта\" + 0.022*\"отделение\" + 0.014*\"банк\" + 0.010*\"сказать\" + 0.010*\"очередь\" + 0.010*\"сбербанк\" + 0.009*\"сотрудник\" + 0.008*\"клиент\" + 0.007*\"деньга\" + 0.007*\"минута\"\n"
     ]
    },
    {
     "name": "stdout",
     "output_type": "stream",
     "text": [
      "Perplexity: -7.659645834382509\n",
      "Сoherence: 0.355546187809512\n",
      "\n"
     ]
    }
   ],
   "source": [
    "#let's try 3-10 topics and see does it make sense or not\n",
    "perplexity_list = []\n",
    "coherence_list = []\n",
    "for n_topics in range(3, 10):\n",
    "    print(f'Number of topics: {n_topics}')\n",
    "    lda_model = gensim.models.ldamodel.LdaModel(doc_term_matrix, num_topics=n_topics, id2word = dictionary, passes=60)\n",
    "    for idx, topic in lda_model.print_topics(-1):\n",
    "        print('Topic: {} \\nKeywords: {}'.format(idx + 1, topic))\n",
    "    print(f'Perplexity: {lda_model.log_perplexity(doc_term_matrix)}')\n",
    "    perplexity_list.append(lda_model.log_perplexity(doc_term_matrix))\n",
    "    coherence_model_lda = CoherenceModel(model=lda_model, texts=topic_data, \n",
    "                                         dictionary=dictionary, coherence='c_v')\n",
    "    coherence = coherence_model_lda.get_coherence()\n",
    "    print(f'Сoherence: {coherence}')\n",
    "    coherence_list.append(coherence)\n",
    "    print()    "
   ]
  },
  {
   "cell_type": "code",
   "execution_count": 70,
   "id": "40ad2a35",
   "metadata": {},
   "outputs": [
    {
     "data": {
      "text/plain": [
       "<AxesSubplot:>"
      ]
     },
     "execution_count": 70,
     "metadata": {},
     "output_type": "execute_result"
    },
    {
     "data": {
      "image/png": "[encoded data removed]",
      "text/plain": [
       "<Figure size 432x288 with 1 Axes>"
      ]
     },
     "metadata": {},
     "output_type": "display_data"
    }
   ],
   "source": [
    "#coherence score vs number of topics \n",
    "sns.set()\n",
    "sns.lineplot(np.arange(3, 10), coherence_list, label='coherence')"
   ]
  },
  {
   "cell_type": "markdown",
   "id": "58bfbfe1",
   "metadata": {},
   "source": [
    "По результатм можно сделать вывод, что самым оптимальным является 8 тем. \n",
    "По распределению слов в темах можно предположить следующие названия: \n",
    "1. цско  \n",
    "2. оформление кредита   \n",
    "3. ?????? \n",
    "4. ипотека/закладная по доверенности  \n",
    "5. снятие денег/банкомат \n",
    "6. обращение в офис  \n",
    "7. погашение задолженности по кредиту \n",
    "8. бонус-спасибо "
   ]
  },
  {
   "cell_type": "code",
   "execution_count": 72,
   "id": "0396e8e1",
   "metadata": {},
   "outputs": [],
   "source": [
    "n_topics = 8\n",
    "lda_model = gensim.models.LdaMulticore(doc_term_matrix, num_topics=n_topics, id2word = dictionary, passes=60)"
   ]
  },
  {
   "cell_type": "code",
   "execution_count": 73,
   "id": "41d6560c",
   "metadata": {},
   "outputs": [],
   "source": [
    "#main topic in each query \n",
    "dominant_topics = [item[-1][0] for item in lda_model[doc_term_matrix]]"
   ]
  },
  {
   "cell_type": "code",
   "execution_count": 78,
   "id": "3811d673",
   "metadata": {},
   "outputs": [],
   "source": [
    "topics = pd.DataFrame()\n",
    "topics['text'] = topic_data\n",
    "topics['topic'] = dominant_topics\n",
    "topics['score'] = data[data.bank_name == 'сбербанк']['score']\n",
    "topics.columns = ['text', 'topic', 'score']"
   ]
  },
  {
   "cell_type": "code",
   "execution_count": 79,
   "id": "98fab587",
   "metadata": {},
   "outputs": [
    {
     "data": {
      "text/html": [
       "<div>\n",
       "<style scoped>\n",
       "    .dataframe tbody tr th:only-of-type {\n",
       "        vertical-align: middle;\n",
       "    }\n",
       "\n",
       "    .dataframe tbody tr th {\n",
       "        vertical-align: top;\n",
       "    }\n",
       "\n",
       "    .dataframe thead th {\n",
       "        text-align: right;\n",
       "    }\n",
       "</style>\n",
       "<table border=\"1\" class=\"dataframe\">\n",
       "  <thead>\n",
       "    <tr style=\"text-align: right;\">\n",
       "      <th></th>\n",
       "      <th>text</th>\n",
       "      <th>topic</th>\n",
       "      <th>score</th>\n",
       "    </tr>\n",
       "  </thead>\n",
       "  <tbody>\n",
       "    <tr>\n",
       "      <th>232</th>\n",
       "      <td>[  , раз, обращаться, вопрос, списание, овердр...</td>\n",
       "      <td>4</td>\n",
       "      <td>NaN</td>\n",
       "    </tr>\n",
       "    <tr>\n",
       "      <th>233</th>\n",
       "      <td>[возмутить, удивить, сложиться, ситуация, сбер...</td>\n",
       "      <td>7</td>\n",
       "      <td>NaN</td>\n",
       "    </tr>\n",
       "    <tr>\n",
       "      <th>234</th>\n",
       "      <td>[знать, дождаться, сбер, провести, клиентский,...</td>\n",
       "      <td>7</td>\n",
       "      <td>NaN</td>\n",
       "    </tr>\n",
       "    <tr>\n",
       "      <th>235</th>\n",
       "      <td>[здравствовать, возникнуть, следующий, проблем...</td>\n",
       "      <td>7</td>\n",
       "      <td>NaN</td>\n",
       "    </tr>\n",
       "    <tr>\n",
       "      <th>236</th>\n",
       "      <td>[дорогой, друг, сбербанк, хотеться, дело, огро...</td>\n",
       "      <td>3</td>\n",
       "      <td>NaN</td>\n",
       "    </tr>\n",
       "  </tbody>\n",
       "</table>\n",
       "</div>"
      ],
      "text/plain": [
       "                                                  text  topic score\n",
       "232  [  , раз, обращаться, вопрос, списание, овердр...      4   NaN\n",
       "233  [возмутить, удивить, сложиться, ситуация, сбер...      7   NaN\n",
       "234  [знать, дождаться, сбер, провести, клиентский,...      7   NaN\n",
       "235  [здравствовать, возникнуть, следующий, проблем...      7   NaN\n",
       "236  [дорогой, друг, сбербанк, хотеться, дело, огро...      3   NaN"
      ]
     },
     "execution_count": 79,
     "metadata": {},
     "output_type": "execute_result"
    }
   ],
   "source": [
    "topics.head()"
   ]
  },
  {
   "cell_type": "code",
   "execution_count": 80,
   "id": "c17caa98",
   "metadata": {},
   "outputs": [
    {
     "name": "stdout",
     "output_type": "stream",
     "text": [
      "Chi-squared = 455.58017465961694 with a p-value 1.1781273625452775e-74\n"
     ]
    }
   ],
   "source": [
    "#correlation between score and topic? \n",
    "results = pd.crosstab(topics['topic'], topics['score'])\n",
    "from scipy.stats import chi2_contingency\n",
    "chi2 = chi2_contingency(results)\n",
    "print(f'Chi-squared = {chi2[0]} with a p-value {chi2[1]}')"
   ]
  },
  {
   "cell_type": "code",
   "execution_count": 88,
   "id": "00c5f006",
   "metadata": {},
   "outputs": [
    {
     "name": "stderr",
     "output_type": "stream",
     "text": [
      "/Users/mariaisrafilova/opt/anaconda3/lib/python3.9/site-packages/past/builtins/misc.py:45: DeprecationWarning: the imp module is deprecated in favour of importlib; see the module's documentation for alternative uses\n",
      "  from imp import reload\n",
      "/Users/mariaisrafilova/opt/anaconda3/lib/python3.9/site-packages/past/builtins/misc.py:45: DeprecationWarning: the imp module is deprecated in favour of importlib; see the module's documentation for alternative uses\n",
      "  from imp import reload\n",
      "/Users/mariaisrafilova/opt/anaconda3/lib/python3.9/site-packages/past/builtins/misc.py:45: DeprecationWarning: the imp module is deprecated in favour of importlib; see the module's documentation for alternative uses\n",
      "  from imp import reload\n",
      "/Users/mariaisrafilova/opt/anaconda3/lib/python3.9/site-packages/past/builtins/misc.py:45: DeprecationWarning: the imp module is deprecated in favour of importlib; see the module's documentation for alternative uses\n",
      "  from imp import reload\n",
      "/Users/mariaisrafilova/opt/anaconda3/lib/python3.9/site-packages/past/builtins/misc.py:45: DeprecationWarning: the imp module is deprecated in favour of importlib; see the module's documentation for alternative uses\n",
      "  from imp import reload\n",
      "/Users/mariaisrafilova/opt/anaconda3/lib/python3.9/site-packages/past/builtins/misc.py:45: DeprecationWarning: the imp module is deprecated in favour of importlib; see the module's documentation for alternative uses\n",
      "  from imp import reload\n",
      "/Users/mariaisrafilova/opt/anaconda3/lib/python3.9/site-packages/past/builtins/misc.py:45: DeprecationWarning: the imp module is deprecated in favour of importlib; see the module's documentation for alternative uses\n",
      "  from imp import reload\n",
      "/Users/mariaisrafilova/opt/anaconda3/lib/python3.9/site-packages/past/builtins/misc.py:45: DeprecationWarning: the imp module is deprecated in favour of importlib; see the module's documentation for alternative uses\n",
      "  from imp import reload\n"
     ]
    }
   ],
   "source": [
    "import pyLDAvis\n",
    "import pyLDAvis.gensim_models as gensimvis\n",
    "pyLDAvis.enable_notebook()\n",
    "\n",
    "# feed the LDA model into the pyLDAvis instance\n",
    "lda_viz = gensimvis.prepare(lda_model, doc_term_matrix, dictionary)"
   ]
  },
  {
   "cell_type": "code",
   "execution_count": 89,
   "id": "e4304eff",
   "metadata": {},
   "outputs": [
    {
     "data": {
      "text/html": [
       "\n",
       "<link rel=\"stylesheet\" type=\"text/css\" href=\"https://cdn.jsdelivr.net/gh/bmabey/pyLDAvis@3.3.1/pyLDAvis/js/ldavis.v1.0.0.css\">\n",
       "\n",
       "\n",
       "<div id=\"ldavis_el9171405261854675686708493894\"></div>\n",
       "<script type=\"text/javascript\">\n",
       "\n",
       "var ldavis_el9171405261854675686708493894_data = {\"mdsDat\": {\"x\": [0.13313301360646487, 0.08818852081472316, 0.13202474447075443, 0.05202746350938962, 0.011177868352982172, -0.14296554187297073, -0.06562977788297417, -0.20795629099836932], \"y\": [0.02792672489001748, 0.02915153465607018, 0.009507786501192958, -0.11918771453977277, 0.09498600768095679, 0.13736882068912273, -0.1415517148929868, -0.03820144498460121], \"topics\": [1, 2, 3, 4, 5, 6, 7, 8], \"cluster\": [1, 1, 1, 1, 1, 1, 1, 1], \"Freq\": [29.069957648276468, 25.428944729759333, 17.215602926412988, 15.912271844370283, 4.909221821806015, 2.9425753797346648, 2.751925473885498, 1.7695001757547468]}, \"tinfo\": {\"Term\": [\"\\u043a\\u0430\\u0440\\u0442\\u0430\", \"\\u043a\\u0440\\u0435\\u0434\\u0438\\u0442\", \"\\u0434\\u0435\\u043d\\u044c\\u0433\\u0430\", \"\\u0431\\u0430\\u043d\\u043a\", \"\\u0441\\u0431\\u0435\\u0440\\u0431\\u0430\\u043d\\u043a\", \"_\", \"\\u0434\\u043e\\u0433\\u043e\\u0432\\u043e\\u0440\", \"\\u0441\\u0447\\u0451\\u0442\", \"\\u0434\\u043e\\u043a\\u0443\\u043c\\u0435\\u043d\\u0442\", \"\\u0431\\u0430\\u043d\\u043a\\u043e\\u043c\\u0430\\u0442\", \"\\u043e\\u0442\\u0434\\u0435\\u043b\\u0435\\u043d\\u0438\\u0435\", \"\\u0441\\u0442\\u0430\\u0432\\u043a\\u0430\", \"\\u043a\\u043b\\u0438\\u0435\\u043d\\u0442\", \"\\u0441\\u0442\\u0440\\u0430\\u0445\\u043e\\u0432\\u0430\\u043d\\u0438\\u0435\", \"\\u0432\\u043a\\u043b\\u0430\\u0434\", \"\\u0441\\u0440\\u0435\\u0434\\u0441\\u0442\\u0432\\u043e\", \"\\u0441\\u043e\\u0442\\u0440\\u0443\\u0434\\u043d\\u0438\\u043a\", \"\\u043e\\u0431\\u0440\\u0430\\u0449\\u0435\\u043d\\u0438\\u0435\", \"\\u0434\\u0435\\u043d\\u0435\\u0436\\u043d\\u044b\\u0439\", \"\\u043e\\u0442\\u0432\\u0435\\u0442\", \"\\u0438\\u043f\\u043e\\u0442\\u0435\\u043a\\u0430\", \"\\u0445\\u043e\\u0440\\u043e\\u0448\\u0438\\u0439\", \"\\u0433\\u043e\\u0432\\u043e\\u0440\\u0438\\u0442\\u044c\", \"\\u043e\\u0447\\u0435\\u0440\\u0435\\u0434\\u044c\", \"\\u043c\\u0435\\u043d\\u0435\\u0434\\u0436\\u0435\\u0440\", \"\\u0441\\u0442\\u0440\\u0430\\u0445\\u043e\\u0432\\u043a\\u0430\", \"\\u043f\\u0440\\u0435\\u0434\\u043e\\u0441\\u0442\\u0430\\u0432\\u0438\\u0442\\u044c\", \"\\u0441\\u0443\\u043c\\u043c\\u0430\", \"\\u043a\\u0440\\u0435\\u0434\\u0438\\u0442\\u043d\\u044b\\u0439\", \"\\u0437\\u0430\\u044f\\u0432\\u043a\\u0430\", \"\\u0447\\u0435\\u043a\", \"\\u043a\\u0443\\u043f\\u044e\\u0440\\u0430\", \"\\u043d\\u0430\\u043b\\u043e\\u0436\\u0438\\u0442\\u044c\", \"\\u043d\\u043e\\u043c\\u0438\\u043d\\u0430\\u043b\", \"\\u043d\\u0430\\u043b\\u0438\\u0447\\u043a\\u0430\", \"\\u0437\\u0430\\u0447\\u0438\\u0441\\u043b\\u0438\\u0442\\u044c\", \"\\u043f\\u0430\\u0447\\u043a\\u0430\", \"\\u0432\\u043e\\u0440\\u043e\\u0432\\u0430\\u0442\\u044c\", \"\\u0432\\u043d\\u043e\\u0441\\u0438\\u043b\\u0430\", \"\\u0432\\u0438\\u0440\\u0443\\u0441\", \"\\u0434\\u0435\\u0442\\u0430\\u043b\\u0438\\u0437\\u0430\\u0446\\u0438\\u044f\", \"\\u0430\\u0440\\u0435\\u0441\\u0442\\u043e\\u0432\\u0430\\u0442\\u044c\", \"\\u043e\\u0432\\u0435\\u0440\\u0434\\u0440\\u0430\\u0444\\u0442\", \"\\u043e\\u0442\\u043f\\u0440\\u0430\\u0432\\u0438\\u0442\\u0435\\u043b\\u044c\", \"\\u0437\\u0430\\u0447\\u0438\\u0441\\u043b\\u0435\\u043d\\u0438\\u0435\", \"usd\", \"\\u0437\\u0430\\u0447\\u0438\\u0441\\u043b\\u0438\\u0442\\u044c\\u0441\\u044f\", \"\\u043a\\u043e\\u043f\", \"\\u043c\\u0433\\u043d\\u043e\\u0432\\u0435\\u043d\\u043d\\u043e\", \"\\u0438\\u0437\\u043b\\u0438\\u0448\\u0435\\u043a\", \"\\u0430\\u043d\\u0442\\u0438\\u0432\\u0438\\u0440\\u0443\\u0441\", \"\\u043a\\u0443\\u043f\\u044e\\u0440\\u043e\\u043f\\u0440\\u0438\\u0435\\u043c\\u043d\\u0438\\u043a\", \"\\u043f\\u0435\\u0440\\u0435\\u0441\\u0447\\u0438\\u0442\\u044b\\u0432\\u0430\\u0442\\u044c\", \"\\u0432\\u043e\\u0437\", \"\\u0431\\u0430\\u043d\\u043a\\u043e\\u043c\\u0430\\u0442\", \"\\u0441\\u0431\\u043e\\u0439\", \"\\u0442\\u044b\\u0441\\u044f\\u0447\\u043d\\u044b\\u0439\", \"\\u043f\\u044f\\u0442\\u0438\\u0442\\u044b\\u0441\\u044f\\u0447\\u043d\\u044b\\u0439\", \"\\u043d\\u0435\\u043d\\u0430\\u0434\\u0451\\u0436\\u043d\\u044b\\u0439\", \"\\u0433\\u043e\\u0441\\u043f\\u043e\\u0448\\u043b\\u0438\\u043d\\u0430\", \"\\u0441\\u043f\\u0438\\u0441\\u0430\\u0442\\u044c\\u0441\\u044f\", \"\\u0434\\u0435\\u043d\\u044c\\u0433\\u0430\", \"\\u043f\\u043e\\u043b\\u043e\\u0436\\u0438\\u0442\\u044c\", \"\\u043f\\u0435\\u0440\\u0435\\u0447\\u0438\\u0441\\u043b\\u0435\\u043d\\u0438\\u0435\", \"\\u0430\\u0440\\u0435\\u0441\\u0442\", \"\\u0440\\u0430\\u0441\\u0447\\u0451\\u0442\\u043d\\u044b\\u0439\", \"\\u043a\\u0430\\u043c\\u0435\\u0440\\u0430\", \"\\u0444\\u0441\\u0441\\u043f\", \"\\u043f\\u043e\\u043b\\u0438\\u0446\\u0438\\u044f\", \"\\u0441\\u0447\\u0451\\u0442\", \"\\u043d\\u0430\\u043b\\u0438\\u0447\\u043d\\u044b\\u0439\", \"\\u0432\\u043d\\u0435\\u0441\\u0435\\u043d\\u0438\\u0435\", \"\\u0441\\u0440\\u0435\\u0434\\u0441\\u0442\\u0432\\u043e\", \"\\u0434\\u0435\\u043d\\u0435\\u0436\\u043d\\u044b\\u0439\", \"\\u043e\\u0431\\u0440\\u0430\\u0442\\u043d\\u043e\", \"\\u043f\\u0440\\u0438\\u0441\\u0442\\u0430\\u0432\", \"\\u043f\\u0435\\u0440\\u0435\\u0432\\u0435\\u0441\\u0442\\u0438\", \"\\u0441\\u043d\\u044f\\u0442\\u044c\", \"\\u043a\\u043e\\u043c\\u0438\\u0441\\u0441\\u0438\\u044f\", \"\\u0440\\u0443\\u0431\\u043b\\u044c\", \"\\u0440\\u0443\\u0431\", \"\\u0442\\u044b\\u0441\\u044f\\u0447\\u0430\", \"\\u043f\\u0435\\u0440\\u0435\\u0432\\u043e\\u0434\", \"\\u0440\\u0435\\u043a\\u0432\\u0438\\u0437\\u0438\\u0442\", \"\\u043f\\u0440\\u043e\\u0438\\u0437\\u043e\\u0439\\u0442\\u0438\", \"\\u0441\\u043d\\u0438\\u043c\\u0430\\u0442\\u044c\", \"\\u0432\\u043d\\u0435\\u0441\\u0442\\u0438\", \"\\u0432\\u0435\\u0440\\u043d\\u0443\\u0442\\u044c\", \"\\u0441\\u0443\\u043c\\u043c\\u0430\", \"\\u043d\\u0430\\u043f\\u0438\\u0441\\u0430\\u0442\\u044c\", \"\\u043a\\u0430\\u0440\\u0442\\u0430\", \"\\u0441\\u043f\\u0438\\u0441\\u0430\\u0442\\u044c\", \"\\u0434\\u0435\\u043d\\u044c\", \"\\u043e\\u043f\\u0435\\u0440\\u0430\\u0446\\u0438\\u044f\", \"\\u0431\\u0430\\u043d\\u043a\", \"\\u0441\\u0431\\u0435\\u0440\\u0431\\u0430\\u043d\\u043a\", \"\\u0437\\u0430\\u044f\\u0432\\u043b\\u0435\\u043d\\u0438\\u0435\", \"\\u043e\\u0431\\u0440\\u0430\\u0449\\u0435\\u043d\\u0438\\u0435\", \"\\u0441\\u043c\\u0441\", \"\\u043d\\u043e\\u043c\\u0435\\u0440\", \"\\u0432\\u044b\\u0434\\u0430\\u0442\\u044c\", \"\\u043f\\u043b\\u0430\\u0442\\u0451\\u0436\", \"\\u043e\\u0442\\u0434\\u0435\\u043b\\u0435\\u043d\\u0438\\u0435\", \"\\u0441\\u0438\\u0442\\u0443\\u0430\\u0446\\u0438\\u044f\", \"  \", \"\\u0441\\u043a\\u0430\\u0437\\u0430\\u0442\\u044c\", \"\\u043e\\u0442\\u0432\\u0435\\u0442\", \"\\u0442\", \"\\u043f\\u0440\\u0438\\u0439\\u0442\\u0438\", \"\\u043f\\u0440\\u043e\\u0431\\u043b\\u0435\\u043c\\u0430\", \"\\u0433\\u043e\\u0434\", \"\\u0432\\u0440\\u0435\\u043c\\u044f\", \"\\u0440\\u0430\\u0437\", \"\\u043a\\u043b\\u0438\\u0435\\u043d\\u0442\", \"\\u043e\\u0431\\u0440\\u0435\\u043c\\u0435\\u043d\\u0435\\u043d\\u0438\\u0435\", \"\\u0440\\u0435\\u0444\\u0438\\u043d\\u0430\\u043d\\u0441\\u0438\\u0440\\u043e\\u0432\\u0430\\u043d\\u0438\\u0435\", \"\\u0437\\u0430\\u043a\\u043b\\u0430\\u0434\\u043d\\u043e\\u0439\", \"\\u0441\\u0442\\u0440\\u0430\\u0445\\u043e\\u0432\\u043a\\u0430\", \"\\u043e\\u0434\\u043e\\u0431\\u0440\\u0438\\u0442\\u044c\", \"\\u043b\\u0451\\u0442\", \"\\u043d\\u0434\\u0444\\u043b\", \"\\u0437\\u0430\\u043a\\u043b\\u0430\\u0434\\u043d\\u0430\\u044f\", \"\\u0434\\u043e\\u043c\\u043a\\u043b\\u0438\\u043a\", \"\\u0431\\u043a\\u0438\", \"\\u0440\\u0435\\u0444\\u0438\\u043d\\u0430\\u043d\\u0441\\u0438\\u0440\\u043e\\u0432\\u0430\\u0442\\u044c\", \"\\u043a\\u0430\\u043f\\u0438\\u0442\\u0430\\u043b\", \"\\u0434\\u043e\\u0441\\u0440\\u043e\\u0447\\u043d\\u044b\\u0439\", \"\\u0443\\u0432\\u0435\\u043b\\u0438\\u0447\\u0435\\u043d\\u0438\\u0435\", \"\\u043c\\u0430\\u0442\\u0435\\u0440\\u0438\\u043d\\u0441\\u043a\\u0438\\u0439\", \"\\u0447\\u0430\\u0441\\u0442\\u0438\\u0447\\u043d\\u044b\\u0439\", \"\\u043f\\u0435\\u0440\\u0435\\u0440\\u0430\\u0441\\u0447\\u0451\\u0442\", \"\\u0435\\u0436\\u0435\\u043c\\u0435\\u0441\\u044f\\u0447\\u043d\\u044b\\u0439\", \"\\u043e\\u0434\\u043e\\u0431\\u0440\\u0435\\u043d\\u0438\\u0435\", \"\\u0440\\u0435\\u0441\\u0442\\u0440\\u0443\\u043a\\u0442\\u0443\\u0440\\u0438\\u0437\\u0430\\u0446\\u0438\\u044f\", \"\\u0434\\u043e\\u0441\\u0440\\u043e\\u0447\\u043d\\u043e\", \"\\u043c\\u0444\\u0446\", \"\\u0430\\u043d\\u043a\\u0435\\u0442\\u0430\", \"\\u0433\\u0440\\u0430\\u0444\\u0438\\u043a\", \"\\u0441\\u0444\\u043e\\u0440\\u043c\\u0438\\u0440\\u043e\\u0432\\u0430\\u0442\\u044c\", \"\\u0434\\u043e\\u0433\\u043e\\u0432\\u043e\\u0440\\u0438\\u0442\\u044c\\u0441\\u044f\", \"\\u0433\\u043e\\u0441\\u0442\\u0438\\u043d\\u0438\\u0446\\u0430\", \"\\u0431\\u044e\\u0440\\u043e\", \"\\u0437\\u0430\\u043a\\u043b\\u0430\\u0434\\u043d\\u0443\\u044e\", \"\\u043e\\u0434\\u043e\\u0431\\u0440\\u044f\\u0442\\u044c\", \"\\u043a\\u0440\\u0435\\u0434\\u0438\\u0442\", \"\\u0438\\u043f\\u043e\\u0442\\u0435\\u043a\\u0430\", \"\\u043f\\u043e\\u0442\\u0440\\u0435\\u0431\\u0438\\u0442\\u0435\\u043b\\u044c\\u0441\\u043a\\u0438\\u0439\", \"\\u0441\\u043f\\u0440\\u0430\\u0432\\u043a\\u0430\", \"\\u043f\\u0440\\u043e\\u0441\\u0440\\u043e\\u0447\\u043a\\u0430\", \"\\u043f\\u043e\\u0433\\u0430\\u0441\\u0438\\u0442\\u044c\", \"\\u0437\\u0430\\u044f\\u0432\\u043a\\u0430\", \"\\u043f\\u043e\\u0433\\u0430\\u0448\\u0435\\u043d\\u0438\\u0435\", \"\\u043d\\u0435\\u0443\\u0441\\u0442\\u043e\\u0439\\u043a\\u0430\", \"\\u043f\\u043e\\u0434\\u043f\\u0438\\u0441\\u0430\\u0442\\u044c\", \"\\u043e\\u0431\\u044a\\u0435\\u043a\\u0442\", \"\\u043a\\u0432\\u0430\\u0440\\u0442\\u0438\\u0440\\u0430\", \"\\u0434\\u043e\\u0433\\u043e\\u0432\\u043e\\u0440\", \"\\u0434\\u043e\\u043a\\u0443\\u043c\\u0435\\u043d\\u0442\", \"\\u0437\\u0430\\u0434\\u043e\\u043b\\u0436\\u0435\\u043d\\u043d\\u043e\\u0441\\u0442\\u044c\", \"\\u0441\\u0442\\u0430\\u0432\\u043a\\u0430\", \"\\u043f\\u0440\\u043e\\u0446\\u0435\\u043d\\u0442\", \"\\u043e\\u0442\\u043a\\u0430\\u0437\", \"\\u0438\\u043f\\u043e\\u0442\\u0435\\u0447\\u043d\\u044b\\u0439\", \"\\u043f\\u043e\\u0434\\u0430\\u0442\\u044c\", \"\\u0443\\u0441\\u043b\\u043e\\u0432\\u0438\\u0435\", \"\\u0438\\u0441\\u0442\\u043e\\u0440\\u0438\\u044f\", \"\\u0434\\u0435\\u043d\\u044c\", \"\\u0441\\u0443\\u043c\\u043c\\u0430\", \"\\u0433\\u043e\\u0434\", \"\\u0431\\u0430\\u043d\\u043a\", \"\\u043c\\u0435\\u0441\\u044f\\u0446\", \"\\u0441\\u043a\\u0430\\u0437\\u0430\\u0442\\u044c\", \"\\u0441\\u0431\\u0435\\u0440\\u0431\\u0430\\u043d\\u043a\", \"\\u043a\\u0440\\u0435\\u0434\\u0438\\u0442\\u043d\\u044b\\u0439\", \"\\u043c\\u0435\\u043d\\u0435\\u0434\\u0436\\u0435\\u0440\", \"\\u043e\\u0444\\u043e\\u0440\\u043c\\u0438\\u0442\\u044c\", \"\\u0441\\u043e\\u0442\\u0440\\u0443\\u0434\\u043d\\u0438\\u043a\", \"\\u043f\\u043b\\u0430\\u0442\\u0451\\u0436\", \"\\u0441\\u0440\\u043e\\u043a\", \"\\u043f\\u043e\\u043b\\u0443\\u0447\\u0438\\u0442\\u044c\", \"\\u043f\\u0440\\u0438\\u0439\\u0442\\u0438\", \"  \", \"\\u043e\\u0442\\u0434\\u0435\\u043b\\u0435\\u043d\\u0438\\u0435\", \"\\u0432\\u043e\\u043f\\u0440\\u043e\\u0441\", \"\\u0440\\u0430\\u0437\", \"\\u0432\\u0440\\u0435\\u043c\\u044f\", \"\\u043e\\u0442\\u0432\\u0435\\u0442\", \"\\u043a\\u043b\\u0438\\u0435\\u043d\\u0442\", \"\\u0432\\u044b\\u043f\\u0443\\u0441\\u0442\\u0438\\u0442\\u044c\", \"\\u043c\\u0438\\u0448\\u0438\\u043d\", \"\\u0432\\u044b\\u043f\\u0443\\u0441\\u043a\", \"\\u0430\\u043a\\u0442\\u0438\\u0432\\u0438\\u0440\\u043e\\u0432\\u0430\\u0442\\u044c\", \"\\u0434\\u0438\\u0437\\u0430\\u0439\\u043d\", \"\\u0433\\u0435\\u043e\\u0440\\u0433\\u0438\\u0435\\u0432\\u0438\\u0447\", \"\\u0430\\u0432\\u0442\\u043e\\u043f\\u043b\\u0430\\u0442\\u0451\\u0436\", \"\\u043c\\u043e\\u043c\\u0435\\u043d\\u0442\\u0443\\u043c\", \"\\u043f\\u0435\\u0440\\u0435\\u0432\\u044b\\u043f\\u0443\\u0441\\u043a\", \"momentum\", \"\\u043e\\u0434\\u043d\\u043e\\u0440\\u0430\\u0437\\u043e\\u0432\\u044b\\u0439\", \"\\u043f\\u043e\\u0434\\u043e\\u0437\\u0440\\u0438\\u0442\\u0435\\u043b\\u044c\\u043d\\u044b\\u0439\", \"\\u0430\\u0432\\u0442\\u043e\\u043f\\u043b\\u0430\\u0442\\u0435\\u0436\\u0430\", \"\\u0441\\u0438\\u043c\", \"\\u0438\\u043c\\u0435\\u043d\\u043d\\u043e\\u0439\", \"classic\", \"\\u0430\\u044d\\u0440\\u043e\\u0444\\u043b\\u043e\\u0442\", \"\\u043d\\u0435\\u0441\\u0430\\u043d\\u043a\\u0446\\u0438\\u043e\\u043d\\u0438\\u0440\\u043e\\u0432\\u0430\\u043d\\u043d\\u044b\\u0439\", \"\\u043f\\u0435\\u0440\\u0435\\u0432\\u044b\\u043f\\u0443\\u0449\\u0435\\u043d\\u043d\\u0443\\u044e\", \"\\u043d\\u043e\\u0432\\u043e\\u0441\\u0438\\u043d\\u044c\\u043a\\u043e\\u0432\\u043e\", \"\\u0442\\u044e\\u043d\\u0438\\u043d\\u0430\", \"\\u043f\\u0435\\u0440\\u0435\\u0432\\u044b\\u043f\\u0443\\u0441\\u043a\\u0430\\u0442\\u044c\", \"\\u0432\\u043e\\u0440\\u043e\\u043d\\u0447\\u0438\\u0445\\u0438\\u043d\", \"\\u0430\\u0432\\u0442\\u043e\\u043f\\u043b\\u0430\\u0442\\u0435\\u0436\\u0443\", \"\\u043f\\u043e\\u0434\\u043a\\u043b\\u044e\\u0447\\u0451\\u043d\", \"\\u043c\\u0430\\u0441\\u0442\\u0435\\u0440\\u043a\\u0430\\u0440\\u0434\", \"maestro\", \"\\u0449\\u0451\\u043b\\u043a\\u043e\\u0432\\u043e\", \"xyz\", \"\\u0430\\u0432\\u0442\\u043e\\u043f\\u0435\\u0440\\u0435\\u0432\\u043e\\u0434\", \"\\u043f\\u043e\\u0434\\u043a\\u043b\\u044e\\u0447\\u0438\\u0442\\u044c\", \"\\u043e\\u0442\\u043a\\u043b\\u044e\\u0447\\u0435\\u043d\\u0438\\u0435\", \"\\u043e\\u0442\\u043a\\u043b\\u044e\\u0447\\u0438\\u0442\\u044c\", \"\\u043f\\u043e\\u0434\\u043a\\u043b\\u044e\\u0447\\u0435\\u043d\\u0438\\u0435\", \"\\u0430\\u0432\\u0442\\u043e\\u043f\\u043b\\u0430\\u0442\\u0435\\u0436\", \"\\u043c\\u043e\\u0431\\u0438\\u043b\\u044c\\u043d\\u044b\\u0439\", \"\\u043a\\u0430\\u0440\\u0442\\u0430\", \"\\u0434\\u0435\\u0431\\u0435\\u0442\\u043e\\u0432\\u044b\\u0439\", \"\\u043f\\u043e\\u0434\\u043a\\u043b\\u044e\\u0447\\u0430\\u0442\\u044c\", \"\\u0434\\u043e\\u0441\\u0442\\u0430\\u0432\\u0438\\u0442\\u044c\", \"\\u043f\\u0435\\u0440\\u0435\\u0432\\u044b\\u043f\\u0443\\u0441\\u043a\\u0430\", \"\\u0437\\u0430\\u0431\\u043b\\u043e\\u043a\\u0438\\u0440\\u043e\\u0432\\u0430\\u0442\\u044c\", \"\\u043f\\u0438\\u043d\", \"sms\", \"visa\", \"\\u043e\\u043d\\u043b\\u0430\\u0439\\u043d\", \"\\u0441\\u0442\\u0430\\u0440\\u044b\\u0439\", \"\\u043a\\u043e\\u0434\", \"\\u0440\\u0430\\u0437\\u0431\\u043b\\u043e\\u043a\\u0438\\u0440\\u043e\\u0432\\u0430\\u0442\\u044c\", \"\\u0443\\u0441\\u043b\\u0443\\u0433\\u0430\", \"\\u0431\\u0430\\u043d\\u043a\", \"\\u043f\\u043e\\u043b\\u044c\\u0437\\u043e\\u0432\\u0430\\u0442\\u044c\\u0441\\u044f\", \"\\u0434\\u0435\\u0439\\u0441\\u0442\\u0432\\u0438\\u0435\", \"\\u0442\\u0435\\u043b\\u0435\\u0444\\u043e\\u043d\", \"\\u043a\\u0440\\u0435\\u0434\\u0438\\u0442\\u043d\\u044b\\u0439\", \"\\u0441\\u0431\\u0435\\u0440\\u0431\\u0430\\u043d\\u043a\", \"\\u043d\\u043e\\u0432\\u044b\\u0439\", \"\\u043e\\u0442\\u0434\\u0435\\u043b\\u0435\\u043d\\u0438\\u0435\", \"\\u043f\\u043e\\u043b\\u0443\\u0447\\u0438\\u0442\\u044c\", \"\\u043f\\u043e\\u043b\\u0443\\u0447\\u0435\\u043d\\u0438\\u0435\", \"\\u0441\\u043e\\u043e\\u0431\\u0449\\u0435\\u043d\\u0438\\u0435\", \"\\u0437\\u0430\\u044f\\u0432\\u043b\\u0435\\u043d\\u0438\\u0435\", \"\\u0441\\u043c\\u0441\", \"\\u043e\\u043f\\u0435\\u0440\\u0430\\u0446\\u0438\\u044f\", \"\\u0441\\u043e\\u0442\\u0440\\u0443\\u0434\\u043d\\u0438\\u043a\", \"\\u043d\\u043e\\u043c\\u0435\\u0440\", \"\\u0441\\u043a\\u0430\\u0437\\u0430\\u0442\\u044c\", \"\\u0440\\u0430\\u0437\", \"\\u0446\\u0435\\u043d\\u0442\\u0440\", \"\\u043e\\u0431\\u0441\\u043b\\u0443\\u0436\\u0438\\u0432\\u0430\\u043d\\u0438\\u0435\", \"\\u0433\\u043e\\u0434\", \"\\u043a\\u043b\\u0438\\u0435\\u043d\\u0442\", \"\\u043f\\u0440\\u0438\\u0439\\u0442\\u0438\", \"\\u0432\\u043e\\u043f\\u0440\\u043e\\u0441\", \"\\u043e\\u0444\\u043e\\u0440\\u043c\\u0438\\u0442\\u044c\", \"\\u043d\\u0438\", \"\\u0441\\u0447\\u0451\\u0442\", \"\\u0441\\u0434\\u0435\\u043b\\u0430\\u0442\\u044c\", \"\\u0431\\u043b\\u0430\\u0433\\u043e\\u0434\\u0430\\u0440\\u043d\\u043e\\u0441\\u0442\\u044c\", \"\\u0432\\u044b\\u0440\\u0430\\u0437\\u0438\\u0442\\u044c\", \"\\u0432\\u044b\\u0440\\u0430\\u0436\\u0430\\u0442\\u044c\", \"\\u0434\\u043e\\u0431\\u0440\\u043e\\u0436\\u0435\\u043b\\u0430\\u0442\\u0435\\u043b\\u044c\\u043d\\u044b\\u0439\", \"\\u043f\\u0440\\u043e\\u0444\\u0435\\u0441\\u0441\\u0438\\u043e\\u043d\\u0430\\u043b\", \"\\u043c\\u0430\\u0440\\u0438\\u044f\", \"\\u043f\\u043e\\u0432\\u0435\\u0434\\u0435\\u043d\\u0438\\u0435\", \"\\u043e\\u0442\\u0437\\u044b\\u0432\\u0447\\u0438\\u0432\\u044b\\u0439\", \"\\u0447\\u0443\\u0442\\u043a\\u0438\\u0439\", \"\\u043f\\u0440\\u043e\\u0441\\u0438\\u0434\\u0435\\u0442\\u044c\", \"\\u043e\\u043f\\u0435\\u0440\\u0430\\u0442\\u0438\\u0432\\u043d\\u043e\\u0441\\u0442\\u044c\", \"\\u0433\\u0440\\u0430\\u043c\\u043e\\u0442\\u043d\\u044b\\u0439\", \"\\u0438\\u0441\\u043a\\u0440\\u0435\\u043d\\u043d\\u0438\\u0439\", \"\\u044e\\u043b\\u0438\\u044f\", \"\\u043a\\u0432\\u0430\\u043b\\u0438\\u0444\\u0438\\u0446\\u0438\\u0440\\u043e\\u0432\\u0430\\u043d\\u043d\\u044b\\u0439\", \"\\u043b\\u044e\\u0434\\u043c\\u0438\\u043b\\u0430\", \"\\u043f\\u0435\\u0440\\u0435\\u0440\\u044b\\u0432\", \"\\u0443\\u0441\\u043f\\u0435\\u0445\", \"\\u043f\\u0440\\u043e\\u0444\\u0435\\u0441\\u0441\\u0438\\u043e\\u043d\\u0430\\u043b\\u044c\\u043d\\u044b\\u0439\", \"\\u043f\\u0440\\u043e\\u0444\\u0435\\u0441\\u0441\\u0438\\u043e\\u043d\\u0430\\u043b\\u0438\\u0437\\u043c\", \"\\u0432\\u043b\\u0430\\u0434\\u0438\\u043c\\u0438\\u0440\\u043e\\u0432\\u043d\\u0435\", \"\\u043f\\u0440\\u0438\\u0437\\u043d\\u0430\\u0442\\u0435\\u043b\\u044c\\u043d\\u043e\\u0441\\u0442\\u044c\", \"\\u0434\\u043e\\u0431\\u0440\\u043e\\u0436\\u0435\\u043b\\u0430\\u0442\\u0435\\u043b\\u044c\\u043d\\u043e\\u0441\\u0442\\u044c\", \"\\u0433\\u0440\\u0430\\u043c\\u043e\\u0442\\u043d\\u043e\", \"\\u0434\\u0435\\u043f\\u043e\\u0437\\u0438\\u0442\\u0430\\u0440\\u0438\\u0439\", \"\\u043e\\u0431\\u0441\\u043b\\u0443\\u0436\\u0438\\u0442\\u044c\", \"\\u043a\\u0430\\u0431\\u0438\\u043d\\u043a\\u0430\", \"\\u0436\\u0430\\u043b\\u043e\\u0431\\u043d\\u044b\\u0439\", \"\\u043d\\u0430\\u0442\\u0430\\u043b\\u044c\\u0435\", \"\\u0442\\u0430\\u043b\\u043e\\u043d\", \"\\u043f\\u043e\\u0431\\u043e\\u043b\\u044c\\u0448\\u0435\", \"\\u043a\\u0430\\u0442\\u0435\\u0433\\u043e\\u0440\\u0438\\u044f\", \"\\u043f\\u0440\\u0438\\u044f\\u0442\\u043d\\u044b\\u0439\", \"\\u0432\\u043e\\u0439\", \"\\u0437\\u0430\\u043b\", \"\\u0431\\u044b\\u0441\\u0442\\u0440\\u044b\\u0439\", \"\\u0440\\u0443\\u043a\\u043e\\u0432\\u043e\\u0434\\u0438\\u0442\\u0435\\u043b\\u044c\", \"\\u043e\\u0433\\u0440\\u043e\\u043c\\u043d\\u044b\\u0439\", \"\\u043e\\u043a\\u043d\\u043e\", \"\\u043e\\u0447\\u0435\\u0440\\u0435\\u0434\\u044c\", \"\\u0441\\u043f\\u0430\\u0441\\u0438\\u0431\\u043e\", \"\\u0432\\u0435\\u0436\\u043b\\u0438\\u0432\\u044b\\u0439\", \"\\u043a\\u043b\\u0438\\u0435\\u043d\\u0442\", \"\\u043e\\u0431\\u0441\\u043b\\u0443\\u0436\\u0438\\u0432\\u0430\\u0442\\u044c\", \"\\u0431\\u044b\\u0441\\u0442\\u0440\\u043e\", \"\\u0432\\u043d\\u0438\\u043c\\u0430\\u0442\\u0435\\u043b\\u044c\\u043d\\u044b\\u0439\", \"\\u0440\\u0430\\u0431\\u043e\\u0442\\u0430\", \"\\u043c\\u0435\\u043d\\u0435\\u0434\\u0436\\u0435\\u0440\", \"\\u0434\\u043e\\u0432\\u043e\\u043b\\u044c\\u043d\\u044b\\u0439\", \"\\u043e\\u0444\\u0438\\u0441\", \"\\u0441\\u043e\\u0442\\u0440\\u0443\\u0434\\u043d\\u0438\\u043a\", \"\\u043e\\u0431\\u0441\\u043b\\u0443\\u0436\\u0438\\u0432\\u0430\\u043d\\u0438\\u0435\", \"\\u043e\\u0442\\u043d\\u043e\\u0448\\u0435\\u043d\\u0438\\u0435\", \"\\u0440\\u0430\\u0431\\u043e\\u0442\\u0430\\u0442\\u044c\", \"\\u043f\\u043e\\u043c\\u043e\\u0449\\u044c\", \"\\u043e\\u0442\\u0434\\u0435\\u043b\\u0435\\u043d\\u0438\\u0435\", \"\\u043c\\u0438\\u043d\\u0443\\u0442\\u0430\", \"\\u0432\\u043e\\u043f\\u0440\\u043e\\u0441\", \"\\u0443\\u043b\", \"\\u0447\\u0435\\u043b\\u043e\\u0432\\u0435\\u043a\", \"  \", \"\\u0441\\u0431\\u0435\\u0440\\u0431\\u0430\\u043d\\u043a\", \"\\u0431\\u0430\\u043d\\u043a\", \"\\u043f\\u043e\\u043c\\u043e\\u0447\\u044c\", \"\\u0432\\u0440\\u0435\\u043c\\u044f\", \"\\u0441\\u043f\\u0435\\u0446\\u0438\\u0430\\u043b\\u0438\\u0441\\u0442\", \"\\u0430\\u0434\\u0440\\u0435\\u0441\", \"\\u0433\\u043e\\u0434\", \"\\u0434\\u0435\\u0432\\u0443\\u0448\\u043a\\u0430\", \"\\u043f\\u0440\\u043e\\u0431\\u043b\\u0435\\u043c\\u0430\", \"\\u0434\\u0435\\u043d\\u044c\", \"\\u043c\\u043f\\u0441\", \"\\u0447\\u0435\\u0440\\u043d\\u043e\\u0432\\u0438\\u043a\", \"com\", \"\\u0447\\u0430\\u0440\\u0434\\u0436\\u0431\\u0435\\u043a\", \"services\", \"binex\", \"chargeback\", \"\\u0442\\u0443\\u0440\", \"\\u043f\\u0430\\u043f\\u0430\", \"responses\", \"response\", \"titantrade\", \"cn\", \"ro\", \"\\u0437\\u0430\\u0441\\u0435\\u0434\\u0430\\u043d\\u0438\\u0435\", \"\\u0430\\u043a\\u043a\\u0440\\u0435\\u0434\\u0438\\u0442\\u0438\\u0432\", \"\\u043f\\u0440\\u0438\\u043a\\u0430\\u0437\", \"\\u0442\\u0443\\u0440\\u0438\\u0441\\u0442\", \"\\u043e\\u043f\\u0440\\u0435\\u0434\\u0435\\u043b\\u0435\\u043d\\u0438\\u0435\", \"v\", \"pdf\", \"www\", \"a\", \"\\u0441\\u0438\\u0442\\u0438\\u0431\\u0430\\u043d\\u043a\", \"\\u0434\\u043e\\u0440\", \"\\u043e\\u043f\\u0446\\u0438\\u043e\\u043d\", \"\\u0431\\u0438\\u043d\\u0430\\u0440\\u043d\\u044b\\u0439\", \"\\u0438\\u0434\\u0435\\u043d\\u0442\\u0438\\u0444\\u0438\\u0446\\u0438\\u0440\\u0443\\u0435\\u0442\\u0441\\u044f\", \"\\u0433\\u0440\\u0438\\u0433\\u043e\\u0440\\u0438\\u0435\\u0432\\u0438\\u0447\", \"\\u043c\\u043e\\u0434\\u0435\\u0440\\u0430\\u0446\\u0438\\u044f\", \"https\", \"\\u043c\\u0435\\u0436\\u0434\\u0443\\u043d\\u0430\\u0440\\u043e\\u0434\\u043d\\u044b\\u0439\", \"\\u043f\\u043e\\u0440\\u0442\\u0430\\u043b\", \"\\u0441\\u043c\\u0438\", \"\\u043f\\u043b\\u0430\\u0442\\u0451\\u0436\\u043d\\u044b\\u0439\", \"\\u043f\\u043e\\u0448\\u043b\\u0438\\u043d\\u0430\", \"\\u0441\\u043a\\u0440\\u0438\\u043d\\u0448\\u043e\\u0442\", \"\\u0442\\u043e\\u0432\\u0430\\u0440\", \"\\u043e\\u043c\\u0431\\u0443\\u0434\\u0441\\u043c\\u0435\\u043d\", \"ru\", \"\\u043f\\u0430\\u043e\", \"\\u043f\\u043e\\u0440\\u0443\\u0447\\u0435\\u043d\\u0438\\u0435\", \"\\u043f\\u0440\\u043e\\u0434\\u0430\\u0432\\u0435\\u0446\", \"\\u043f\\u0440\\u0435\\u0434\\u043e\\u0441\\u0442\\u0430\\u0432\\u0438\\u0442\\u044c\", \"\\u043f\\u0440\\u0435\\u0434\\u0441\\u0442\\u0430\\u0432\\u0438\\u0442\\u0435\\u043b\\u044c\", \"\\u043c\\u0430\\u0433\\u0430\\u0437\\u0438\\u043d\", \"\\u0437\\u0430\\u0451\\u043c\", \"\\u043e\\u0431\\u0440\\u0430\\u0449\\u0435\\u043d\\u0438\\u0435\", \"\\u0441\\u0430\\u0439\\u0442\", \"\\u043e\\u0442\\u0432\\u0435\\u0442\", \"\\u0441\\u0431\\u0435\\u0440\\u0431\\u0430\\u043d\\u043a\", \"\\u0432\\u043e\\u0437\\u0432\\u0440\\u0430\\u0442\", \"\\u043f\\u0438\\u0441\\u044c\\u043c\\u043e\", \"\\u0431\\u0430\\u043d\\u043a\", \"\\u0442\\u0440\\u0430\\u043d\\u0437\\u0430\\u043a\\u0446\\u0438\\u044f\", \"\\u0434\\u043e\\u043a\\u0443\\u043c\\u0435\\u043d\\u0442\", \"\\u043f\\u043e\\u043a\\u0443\\u043f\\u043a\\u0430\", \"\\u043f\\u0440\\u043e\\u0438\\u0437\\u0432\\u0435\\u0441\\u0442\\u0438\", \"\\u0434\\u0435\\u043d\\u044c\\u0433\\u0430\", \"\\u0441\\u043e\\u0432\\u0435\\u0440\\u0448\\u0438\\u0442\\u044c\", \"\\u0440\\u043e\\u0441\\u0441\\u0438\\u044f\", \"\\u043d\\u043e\\u043c\\u0435\\u0440\", \"\\u043f\\u0440\\u043e\\u0441\\u0438\\u0442\\u044c\", \"  \", \"\\u0441\\u0440\\u0435\\u0434\\u0441\\u0442\\u0432\\u043e\", \"\\u043e\\u0442\\u043f\\u0440\\u0430\\u0432\\u0438\\u0442\\u044c\", \"\\u043e\\u0431\\u0440\\u0430\\u0442\\u0438\\u0442\\u044c\\u0441\\u044f\", \"\\u0441\\u043e\\u0442\\u0440\\u0443\\u0434\\u043d\\u0438\\u043a\", \"\\u043e\\u043f\\u0435\\u0440\\u0430\\u0446\\u0438\\u044f\", \"\\u0434\\u0435\\u043d\\u0435\\u0436\\u043d\\u044b\\u0439\", \"\\u0432\\u043e\\u043f\\u0440\\u043e\\u0441\", \"\\u0434\\u0435\\u043d\\u044c\", \"\\u0443\\u0441\\u043b\\u0443\\u0433\\u0430\", \"\\u043a\\u043b\\u0438\\u0435\\u043d\\u0442\", \"\\u0432\\u0435\\u0440\\u043d\\u0443\\u0442\\u044c\", \"\\u043f\\u0435\\u0440\\u0435\\u0432\\u043e\\u0434\", \"\\u043f\\u043e\\u043b\\u0443\\u0447\\u0438\\u0442\\u044c\", \"_\", \"\\u0442\\u0435\\u0445\\u043e\\u0432\\u0435\\u0440\", \"\\u0442\\u0440\\u0438\\u0441\\u0442\\u0430\", \"\\u0433\\u043a\", \"\\u043a\\u043e\\u043a\\u0441\", \"\\u0438\\u0437\\u043b\\u0438\\u0448\\u043d\\u0435\", \"\\u0432\\u044b\\u043a\\u0443\\u043f\\u043d\\u043e\\u0439\", \"\\u0440\\u043e\\u0441\\u0432\\u043e\\u0435\\u043d\\u0438\\u043f\\u043e\\u0442\\u0435\\u043a\\u0430\", \"\\u0441\\u043a\", \"\\u0433\\u043e\\u043d\\u043e\\u0440\\u0430\\u0440\", \"\\u043e\\u0431\\u0449\\u0435\\u0441\\u0442\\u0432\\u0435\\u043d\\u043d\\u043e\\u0441\\u0442\\u044c\", \"\\u0441\\u043e\\u0432\\u0435\\u0442\\u043d\\u0438\\u043a\", \"\\u044f\\u0440\\u043a\\u0438\\u0439\", \"\\u043f\\u0440\\u0438\\u043d\\u0441\\u043e\\u0446\\u0431\\u0430\\u043d\\u043a\", \"\\u0444\\u0441\", \"\\u043f\\u0440\\u0438\\u0435\\u0437\\u0436\\u0430\\u0439\", \"\\u0441\\u0442\\u043e\\u043f\\u0430\", \"\\u0440\\u0435\\u0435\\u0441\\u0442\\u0440\", \"\\u0432\\u0437\\u044b\\u0441\\u043a\\u0430\\u0442\\u0435\\u043b\\u044f\", \"\\u0438\\u0441\\u043f\\u043e\\u043b\\u043d\\u0438\\u0442\\u0435\\u043b\\u044c\\u043d\\u044b\\u0439\", \"\\u043a\\u043e\\u0434\\u0435\\u043a\\u0441\", \"\\u043f\\u0440\\u0438\\u043e\\u0441\\u0442\\u0430\\u043d\\u0430\\u0432\\u043b\\u0438\\u0432\\u0430\\u0442\\u044c\", \"\\u043c\\u0430\\u0448\\u043a\\u0438\\u043d\\u043e\\u0439\", \"\\u0441\\u043c\\u0430\\u0440\\u0442\\u043f\\u043e\\u043b\\u0438\\u0441\", \"\\u043b\\u0438\\u0442\", \"\\u0432\\u043c\\u0441\\u0440\", \"\\u0432\\u0437\\u044b\\u0441\\u043a\\u0430\\u0442\\u0435\\u043b\\u044e\", \"\\u0432\\u0430\\u043b\\u044f\\u0442\\u044c\\u0441\\u044f\", \"\\u043d\\u0430\\u0434\\u0437\\u043e\\u0440\\u043d\\u044b\\u0439\", \"\\u0431\\u0430\\u0431\\u0443\\u043b\\u044f\", \"\\u0438\\u0441\\u043a\\u043e\\u0432\\u044b\\u0439\", \"\\u0440\\u0430\\u0441\\u0442\\u043e\\u0440\\u0436\\u0435\\u043d\\u0438\\u0435\", \"\\u0438\\u0441\\u043f\\u043e\\u043b\\u043d\\u0438\\u0442\\u0435\\u043b\\u044c\", \"\\u043b\\u0438\\u0441\\u0442\", \"\\u0434\\u043e\\u043b\\u0436\\u043d\\u0438\\u043a\", \"\\u0441\\u0442\", \"\\u0441\\u043e\\u043e\\u0442\\u0432\\u0435\\u0442\\u0441\\u0442\\u0432\\u0438\\u0435\", \"\\u043f\\u043e\\u043b\\u0438\\u0441\", \"\\u043d\\u0435\\u0437\\u0430\\u043c\\u0435\\u0434\\u043b\\u0438\\u0442\\u0435\\u043b\\u044c\\u043d\\u043e\", \"\\u0441\\u0442\\u0440\\u0430\\u0445\\u043e\\u0432\\u0430\\u043d\\u0438\\u0435\", \"\\u0432\\u0437\\u044b\\u0441\\u043a\\u0430\\u043d\\u0438\\u0435\", \"\\u0438\\u0441\\u043f\\u043e\\u043b\\u043d\\u0435\\u043d\\u0438\\u0435\", \"\\u043f\\u0440\\u0435\\u043a\\u0440\\u0430\\u0449\\u0435\\u043d\\u0438\\u0435\", \"\\u043e\\u0431\\u043e\\u0441\\u043d\\u043e\\u0432\\u0430\\u0442\\u044c\", \"\\u0437\\u0430\\u043a\\u043e\\u043d\", \"\\u043d\\u0435\\u0441\\u043e\\u0432\\u0435\\u0440\\u0448\\u0435\\u043d\\u043d\\u043e\\u043b\\u0435\\u0442\\u043d\\u0438\\u0439\", \"\\u0440\\u0444\", \"\\u043e\\u043f\\u0435\\u043a\\u0430\", \"\\u0441\\u0443\\u0434\", \"\\u0436\\u0438\\u0437\\u043d\\u044c\", \"\\u0434\\u043e\\u0433\\u043e\\u0432\\u043e\\u0440\", \"\\u0441\\u0442\\u0430\\u0442\\u044c\\u044f\", \"\\u043f\\u043e\\u0442\\u0440\\u0435\\u0431\\u0438\\u0442\\u0435\\u043b\\u044c\", \"\\u043f\\u043e\\u043b\\u043e\\u0436\\u0435\\u043d\\u0438\\u0435\", \"\\u0444\\u0437\", \"\\u0441\\u043b\\u0443\\u0447\\u0430\\u0439\", \"\\u0432\\u043a\\u043b\\u0430\\u0434\", \"\\u0441\\u0442\\u0440\\u0430\\u0445\\u043e\\u0432\\u043e\\u0439\", \"\\u043f\\u0440\\u0430\\u0432\\u043e\", \"\\u0434\\u043e\\u043a\\u0443\\u043c\\u0435\\u043d\\u0442\", \"\\u0431\\u0430\\u043d\\u043a\", \"\\u0434\\u0435\\u043d\\u0435\\u0436\\u043d\\u044b\\u0439\", \"\\u043f\\u0440\\u043e\\u0432\\u0435\\u0440\\u043a\\u0430\", \"\\u0441\\u0447\\u0451\\u0442\", \"\\u0441\\u0431\\u0435\\u0440\\u0431\\u0430\\u043d\\u043a\", \"\\u0434\\u0435\\u043d\\u044c\", \"\\u0433\\u043e\\u0434\", \"\\u0441\\u0440\\u0435\\u0434\\u0441\\u0442\\u0432\\u043e\", \"\\u0443\\u0441\\u043b\\u043e\\u0432\\u0438\\u0435\", \"\\u0440\\u043e\\u0441\\u0441\\u0438\\u044f\", \"\\u043e\\u0442\\u043a\\u0430\\u0437\", \"\\u043a\\u043e\\u043c\\u043f\\u043b\\u0435\\u043a\\u0441\", \"\\u0431\\u043e\\u0442\\u0430\\u043d\\u0438\\u0447\\u0435\\u0441\\u043a\\u0438\\u0439\", \"\\u043e\\u0442\\u0440\\u0430\\u0436\\u0430\\u0442\\u044c\", \"\\u043f\\u043e\\u0436\\u0438\\u043c\\u0430\\u0442\\u044c\", \"\\u043a\\u0430\\u0441\\u043a\\u043e\", \"\\u043e\\u043a\\u043e\\u0448\\u043a\\u0435\", \"\\u043c\\u0430\\u0440\\u0444\\u0438\\u043d\\u043e\", \"\\u0431\\u0430\\u0442\", \"\\u0441\\u0442\\u043e\\u043b\\u043e\\u0432\\u0430\\u044f\", \"\\u0431\\u0435\\u0441\\u043f\\u0440\\u043e\\u0446\\u0435\\u043d\\u0442\\u043d\\u044b\\u0439\", \"\\u043f\\u0435\\u0440\\u0441\\u043e\\u043d\\u0430\\u043b\\u0438\\u0437\\u0438\\u0440\\u043e\\u0432\\u0430\\u043d\\u043d\\u0443\\u044e\", \"\\u0434\\u0435\\u0444\\u0438\\u0441\", \"\\u043a\\u043e\\u043d\\u0441\\u0443\\u043b\\u044c\\u0442\\u0430\\u0446\\u0438\\u043e\\u043d\\u043d\\u044b\\u0439\", \"\\u0432\\u043d\\u043e\\u0441\", \"\\u0441\\u0442\\u0443\\u043b\", \"\\u043e\\u0445\\u0440\\u0430\\u043d\\u0430\", \"\\u0441\\u0447\\u0438\\u0442\\u044b\\u0432\\u0430\\u043d\\u0438\\u0435\", \"\\u043a\\u0430\\u0440\\u0434\", \"\\u0432\\u044b\\u0434\\u0435\\u0440\\u0436\\u0438\\u0432\\u0430\\u0442\\u044c\", \"\\u0441\\u0430\\u043d\\u0430\\u0442\\u043e\\u0440\\u0438\\u0439\", \"\\u0438\\u043d\\u0444\\u0440\\u0430\\u0441\\u0442\\u0440\\u0443\\u043a\\u0442\\u0443\\u0440\\u0430\", \"\\u0431\\u0438\\u043e\\u043c\\u0435\\u0442\\u0440\\u0438\\u044f\", \"\\u043a\\u0430\\u0448\\u0451\\u043d\\u043a\\u0438\\u043d\", \"\\u043f\\u043e\\u0441\\u0442\\u0440\\u043e\\u0439\\u043a\\u0430\", \"\\u044d\\u0442\\u0430\\u0436\\u043d\\u044b\\u0439\", \"\\u043c\\u0430\\u043c\\u043e\\u0447\\u043a\\u0430\", \"\\u043b\\u0443\\u0433\", \"\\u043a\\u043e\\u043c\\u0430\\u0440\\u043e\\u0432\", \"\\u0443\\u0441\", \"\\u0432\\u044b\\u0441\\u043e\\u0442\\u043d\\u044b\\u0439\", \"\\u043a\\u043e\\u043b\\u044f\\u0441\\u043a\\u0430\", \"\\u0436\\u043a\", \"\\u043f\\u0440\\u043e\\u0444\\u0438\\u043b\\u044c\", \"\\u0446\\u0441\\u043a\\u043e\", \"\\u044f\\u043a\\u0443\\u0442\\u0441\\u043a\", \"\\u043e\\u0442\\u0447\\u0451\\u0442\\u0430\", \"\\u0432\\u043e\\u0440\\u043e\\u043d\\u0435\\u0436\", \"\\u0430\\u0440\\u0445\\u0438\\u0432\\u043d\\u044b\\u0439\", \"\\u0444\\u0430\\u043c\\u0438\\u043b\\u0438\\u044f\", \"\\u043f\\u043b\\u0435\\u0447\\u043e\", \"\\u0432\\u043a\\u043b\\u0430\\u0434\", \"\\u043b\\u044c\\u0433\\u043e\\u0442\\u043d\\u044b\\u0439\", \"\\u0432\\u044b\\u0437\\u043e\\u0432\", \"\\u0431\\u0435\\u0440\", \"\\u043d\\u0435\\u0438\\u0441\\u043f\\u0440\\u0430\\u0432\\u043d\\u043e\\u0441\\u0442\\u044c\", \"\\u043e\\u043a\\u043e\\u0448\\u043a\\u0443\", \"\\u043e\\u043a\\u043e\\u0448\\u043a\\u0430\", \"\\u0443\\u0441\\u0442\\u0440\\u043e\\u0439\\u0441\\u0442\\u0432\\u043e\", \"\\u0442\\u0430\\u043b\\u043e\\u043d\\u0447\\u0438\\u043a\", \"\\u0441\\u0431\\u0435\\u0440\\u043a\\u043d\\u0438\\u0436\\u043a\\u0430\", \"\\u0433\\u043e\\u0432\\u043e\\u0440\\u0438\\u0442\\u044c\", \"\\u0434\\u0435\\u0432\\u0443\\u0448\\u043a\\u0430\", \"\\u043f\\u0435\\u0440\\u0438\\u043e\\u0434\", \"\\u043f\\u0430\\u0441\\u043f\\u043e\\u0440\\u0442\", \"\\u0441\\u0430\\u043c\\u043e\\u043e\\u0431\\u0441\\u043b\\u0443\\u0436\\u0438\\u0432\\u0430\\u043d\\u0438\\u0435\", \"\\u0432\\u0437\\u044f\\u0442\\u044c\", \"\\u043e\\u0442\\u0434\\u0435\\u043b\\u0435\\u043d\\u0438\\u0435\", \"\\u043f\\u0440\\u0435\\u0434\\u043b\\u043e\\u0436\\u0435\\u043d\\u0438\\u0435\", \"\\u043e\\u0447\\u0435\\u0440\\u0435\\u0434\\u044c\", \"\\u043a\\u0430\\u0440\\u0442\\u0430\", \"\\u043f\\u043e\\u0434\\u043e\\u0439\\u0442\\u0438\", \"\\u0441\\u043e\\u0442\\u0440\\u0443\\u0434\\u043d\\u0438\\u0446\\u0430\", \"\\u0443\\u043b\", \"\\u0440\\u0443\\u043a\\u0430\", \"\\u0438\\u043d\\u0444\\u043e\\u0440\\u043c\\u0430\\u0446\\u0438\\u044f\", \"\\u0441\\u0431\\u0435\\u0440\\u0431\\u0430\\u043d\\u043a\", \"\\u0441\\u043e\\u0442\\u0440\\u0443\\u0434\\u043d\\u0438\\u043a\", \"\\u043a\\u043b\\u0438\\u0435\\u043d\\u0442\", \"\\u0438\\u043c\\u044f\", \"\\u0441\\u0434\\u0435\\u043b\\u0430\\u0442\\u044c\", \"\\u0441\\u0438\\u0441\\u0442\\u0435\\u043c\\u0430\", \"\\u0441\\u043a\\u0430\\u0437\\u0430\\u0442\\u044c\", \"\\u0432\\u0440\\u0435\\u043c\\u044f\", \"\\u0434\\u0430\\u0442\\u044c\", \"\\u0432\\u043e\\u043f\\u0440\\u043e\\u0441\", \"\\u0438\\u0434\\u0442\\u0438\", \"\\u0431\\u0430\\u043d\\u043a\", \"\\u043f\\u043e\\u043b\\u0443\\u0447\\u0438\\u0442\\u044c\", \"\\u043e\\u0442\\u0432\\u0435\\u0442\", \"\\u0434\\u0435\\u043d\\u044c\\u0433\\u0430\", \"\\u0431\\u0430\\u043d\\u043a\\u0445\\u043e\\u0440\\u043e\\u0448\\u0438\\u0439\", \"\\u0441\\u043d\\u0438\\u0436\\u0435\\u043d\\u0438\\u0435\", \"\\u043e\\u043a\\u0431\", \"\\u0438\\u043d\\u0432\\u0435\\u043d\\u0442\\u0430\\u0440\\u0438\\u0437\\u0430\\u0446\\u0438\\u044f\", \"\\u043c\\u0435\\u0431\\u0435\\u043b\\u044c\", \"\\u0437\\u0430\\u0432\\u0435\\u0449\\u0430\\u043d\\u0438\\u0435\", \"\\u043c\\u0430\\u0433\\u0430\\u0434\\u0430\\u043d\", \"\\u0437\\u0430\\u043e\", \"\\u0441\\u0442\\u0430\\u0432\\u043e\\u043a\", \"rus\", \"retail\", \"\\u0441\\u0442\\u0440\\u043e\\u044f\\u0449\\u0435\\u0433\\u043e\\u0441\\u044f\", \"\\u043d\\u0430\\u0441\\u043b\\u0435\\u0434\\u043e\\u0434\\u0430\\u0442\\u0435\\u043b\\u044c\", \"\\u0434\\u0438\\u0432\\u0438\\u0434\\u0435\\u043d\\u0434\", \"\\u043a\\u0430\\u043f\\u0438\\u0442\\u0430\\u043b\\u044c\\u043d\\u044b\\u0439\", \"\\u043a\\u043e\\u043c\\u043d\\u0430\\u0442\\u0430\", \"\\u0433\\u043e\\u0440\\u0435\\u043d\\u0438\\u0435\", \"\\u043e\\u0442\\u0440\\u0430\\u0432\\u043b\\u0435\\u043d\\u0438\\u0435\", \"\\u0432\\u043e\\u0437\\u043c\\u0443\\u0449\\u0430\\u0442\\u044c\", \"\\u043f\\u043f\\u0444\", \"\\u0437\\u0430\\u0445\\u043e\\u0440\\u043e\\u043d\\u0435\\u043d\\u0438\\u0435\", \"\\u0431\\u0435\\u0437\\u0440\\u0430\\u0431\\u043e\\u0442\\u043d\\u044b\\u0439\", \"\\u043f\\u0440\\u0435\\u0434\\u0432\\u0438\\u0434\\u0435\\u0442\\u044c\", \"\\u0443\\u0440\\u043f\\u0444\\u0437\\u043b\", \"\\u043f\\u043e\\u0434\\u0432\\u043e\\u0434\\u043d\\u044b\\u0439\", \"\\u043d\\u0435\\u043f\\u043e\\u043d\\u044f\\u0442\\u043a\\u0430\", \"\\u043c\\u0443\\u0442\\u043d\\u044b\\u0439\", \"\\u0433\\u043b\\u0430\\u0434\\u043a\\u043e\", \"\\u0442\\u044f\\u0436\\u0435\\u043b\\u043e\\u0431\\u043e\\u043b\\u044c\\u043d\\u043e\\u0439\", \"\\u043f\\u043e\\u0436\\u0430\\u0440\", \"\\u0434\\u0435\\u043a\\u0440\\u0435\\u0442\", \"\\u0434\\u043e\\u043a\\u0443\\u043c\\u0435\\u043d\\u0442\\u0430\\u0446\\u0438\\u044f\", \"\\u043d\\u043e\\u0442\\u0430\\u0440\\u0438\\u0443\\u0441\", \"\\u0434\\u043a\\u043f\", \"\\u043f\\u0440\\u043e\\u0446\\u0435\\u043d\\u0442\\u043d\\u044b\\u0439\", \"\\u0443\\u0447\\u0440\\u0435\\u0434\\u0438\\u0442\\u0435\\u043b\\u044c\", \"\\u043a\\u0430\\u0434\\u0430\\u0441\\u0442\\u0440\\u043e\\u0432\\u044b\\u0439\", \"\\u043a\\u0440\\u0430\\u0441\\u043d\\u043e\\u0430\\u0440\\u043c\\u0435\\u0439\\u0441\\u043a\\u0438\\u0439\", \"\\u0432\\u044b\\u043f\\u043b\\u0430\\u0442\\u0430\", \"\\u0441\\u0442\\u0430\\u0432\\u043a\\u0430\", \"\\u043e\\u0441\\u0432\\u043e\\u0431\\u043e\\u0434\\u0438\\u0442\\u044c\", \"\\u043d\\u0430\\u0441\\u043b\\u0435\\u0434\\u0441\\u0442\\u0432\\u043e\", \"\\u0445\\u043e\\u0440\\u043e\\u0448\\u0438\\u0439\", \"\\u043d\\u043e\\u0442\\u0430\\u0440\\u0438\\u0430\\u043b\\u044c\\u043d\\u044b\\u0439\", \"\\u0441\\u043a\\u0438\\u0434\\u043a\\u0430\", \"\\u0442\\u0435\\u0445\\u043d\\u0438\\u0447\\u0435\\u0441\\u043a\\u0438\\u0439\", \"\\u0432\\u043a\\u043b\\u0430\\u0434\", \"\\u0430\\u043a\\u0442\", \"\\u0431\\u0430\\u043d\\u043a\", \"\\u0432\\u043a\\u043b\\u0430\\u0434\\u0447\\u0438\\u043a\", \"\\u043a\\u0432\\u0430\\u0440\\u0442\\u0438\\u0440\\u0430\", \"\\u043e\\u0431\\u044a\\u0435\\u043a\\u0442\", \"\\u0434\\u043e\\u0433\\u043e\\u0432\\u043e\\u0440\", \"\\u0433\\u043e\\u0434\", \"\\u0440\\u0435\\u0433\\u0438\\u0441\\u0442\\u0440\\u0430\\u0446\\u0438\\u044f\", \"\\u043f\\u043e\\u043b\\u0443\\u0447\\u0438\\u0442\\u044c\", \"\\u0432\\u0440\\u0435\\u043c\\u044f\", \"\\u043d\\u043e\\u0432\\u044b\\u0439\", \"\\u0441\\u0431\\u0435\\u0440\\u0431\\u0430\\u043d\\u043a\", \"\\u043a\\u0440\\u0435\\u0434\\u0438\\u0442\\u043d\\u044b\\u0439\", \"\\u043e\\u0440\\u0433\\u0430\\u043d\\u0438\\u0437\\u0430\\u0446\\u0438\\u044f\", \"\\u043f\\u0430\\u0441\\u043f\\u043e\\u0440\\u0442\", \"\\u044d\\u043b\\u0435\\u043a\\u0442\\u0440\\u043e\\u043d\\u043d\\u044b\\u0439\", \"\\u0444\\u043e\\u0440\\u043c\\u0430\", \"\\u0444\\u0438\\u043b\\u0438\\u0430\\u043b\", \"\\u0434\\u043e\\u043a\\u0443\\u043c\\u0435\\u043d\\u0442\", \"\\u0434\\u0435\\u043b\\u0430\\u0442\\u044c\"], \"Freq\": [4443.0, 1455.0, 2470.0, 5027.0, 4289.0, 265.0, 606.0, 1575.0, 799.0, 810.0, 1975.0, 238.0, 1563.0, 226.0, 310.0, 836.0, 1939.0, 779.0, 464.0, 889.0, 530.0, 225.0, 615.0, 380.0, 600.0, 366.0, 306.0, 1207.0, 757.0, 543.0, 185.6572681711662, 182.83146975918493, 23.349193033813126, 22.3930721195453, 20.44702010386904, 131.66424805741042, 19.479802773918944, 26.924406856000004, 15.611183152847735, 15.60980638259983, 21.085062047178212, 13.667488097332717, 39.98856015416778, 12.686377725933623, 99.5450402949633, 11.737699792216533, 11.737595995882055, 11.730343961418333, 11.727565940654953, 10.768750238533476, 10.767885595483047, 10.768080458412873, 10.765785188525895, 10.763281346759253, 756.5399436021378, 181.07827524981423, 9.798615839900227, 9.793909753263359, 9.790063413623406, 9.786831039094004, 31.131757980959158, 2022.703250749939, 133.133361791418, 38.24917251570424, 74.55322522432112, 89.74173893185096, 36.21239075316454, 21.900247123437044, 86.99083055440727, 1184.0343830709514, 181.7633467247496, 69.80459384084448, 620.226356126498, 356.68459575432865, 44.02891668589939, 81.25803757898211, 209.9385914570326, 323.7159031231308, 141.8316512945053, 504.48894664640494, 340.0288013952266, 154.33493424483865, 302.67932375626145, 85.30364268007985, 146.5927147370626, 100.71290181472632, 140.21800606078867, 257.8372078334082, 598.8283618398142, 313.2875754853687, 1513.9496143166712, 151.5921729004409, 741.789928280934, 346.046231337694, 1482.6079781889732, 1317.625044094186, 416.06261670299017, 378.90152353584097, 360.1609974245125, 388.17873807369796, 217.61756178710397, 308.1663505126962, 484.03184067229876, 264.1309162003601, 352.40044709238316, 354.41946988961985, 304.7573812083387, 274.5159705587513, 294.7216152244206, 265.3796056883615, 316.48475326527455, 278.821802862496, 276.1386715330459, 284.93915929874595, 166.33443111605402, 93.65256596776656, 60.97379284468192, 360.690473405764, 202.0243369526495, 40.700918022836916, 35.87460513474671, 26.20849360648356, 107.98487791446097, 21.378074347999256, 21.36979308204805, 28.688484355153058, 91.8735019803579, 19.409396095121622, 18.47449187785138, 18.448608210648914, 18.397305134223448, 93.74654137633487, 98.52089505956368, 36.53202869626306, 62.36847863515151, 21.79018981780053, 34.49729389936133, 73.11898716320452, 11.700691286983536, 13.455408283970488, 10.715598383751477, 14.17323934638431, 23.24897404576086, 9.777884634797337, 1346.5160545333702, 482.9220410757234, 70.4122089612557, 179.9682797810982, 99.48250181973451, 161.5235946360323, 466.6070768822821, 156.53929355833682, 57.12442950076314, 82.85313047331587, 91.20349034639442, 236.82266189316627, 419.3082683580065, 529.8400141539882, 173.2958339022916, 177.32102938826657, 230.84260796656613, 202.9618297079529, 190.3551732366078, 151.69755222979222, 167.8162055362082, 169.10027115601144, 731.5680071866329, 535.6335699969078, 556.6808819486455, 1394.485751813696, 326.4872346859625, 514.564823374177, 1105.4071436931806, 355.27778041892043, 301.16241759800306, 244.1071608230524, 588.5762754080631, 313.6239651841328, 272.351643236921, 315.7562489768544, 317.3225971532103, 331.18255144616177, 403.118650392765, 292.9675481723376, 260.51419542553, 256.13357362399273, 255.435302212799, 267.5595415364695, 67.03035945019997, 53.73784148891617, 53.72390994305455, 46.780576868166314, 34.58340176450179, 32.67002943102289, 32.67001783299936, 32.6512754269784, 91.73152377193402, 25.954613755689298, 22.119852534869068, 22.080461007759176, 19.262100697416095, 18.302713350997013, 17.341900607486366, 16.375925583703484, 14.454227029133962, 12.553108007512208, 15.235108035633981, 11.605319844423304, 10.646555311867669, 10.645213420545499, 9.690319148441098, 9.688388077523717, 9.686553270201616, 9.685449138361767, 9.683130693458555, 9.671345941751936, 8.732738194186478, 8.732534648873564, 147.20272699075846, 20.141593898961418, 83.19207533835633, 43.123195819180594, 49.53910181532701, 289.4271925897852, 2784.0425659466937, 202.80663943399767, 30.340533930993974, 24.499518765074637, 25.593564963663493, 194.30747789494623, 45.54123527003032, 53.97303084922275, 74.28740514388754, 243.80906706297486, 89.75625046728243, 87.4122435202155, 43.11743392109197, 260.8207139505065, 1205.3677026627445, 160.75003497211085, 135.49562637126206, 233.8804723201664, 257.6116800166405, 846.8516777365285, 198.258358527327, 451.4950228303837, 270.0703140039021, 112.6647314883681, 128.25237304715375, 233.16503200161978, 204.8319141376824, 193.90325430053576, 328.4929915285055, 208.9353690891764, 236.7788091213503, 195.80835492363462, 130.03764289116316, 143.99036210453528, 211.7483815508708, 224.00700994199983, 182.33555264542494, 189.14960487165325, 137.35006682759138, 147.48688784560892, 156.96616587853072, 143.0073136303171, 194.25259014474932, 93.3944130748988, 65.13851211844523, 32.151155435118696, 33.06465845247718, 32.95318567800902, 30.040320802274703, 23.652718355263957, 20.842036320126493, 20.843727932825423, 20.839596452887736, 67.09406356631422, 18.959828825131567, 18.01335115212097, 17.980022737159196, 16.12871129387264, 14.247479316974054, 32.06044940412559, 49.89746762034878, 74.85969788418572, 12.363893232669355, 12.3628094427843, 12.352899894122139, 25.49676272473173, 11.416822744815596, 33.438622778710204, 10.473866584932995, 10.463583980998825, 9.534428722184666, 137.80969625737268, 31.958217251624966, 20.68047551540186, 93.28303678024237, 82.38143552600566, 66.35224101393251, 28.644219334675594, 171.40841763566092, 146.7340959939891, 125.07491854846018, 263.45149587560144, 274.5739630028328, 45.36831933868603, 707.5199914809169, 63.24033828660757, 96.58219181415666, 60.82225833333277, 347.59537314631706, 277.59318936700964, 50.66982924913547, 294.886556708132, 639.9228564483138, 222.9955297667787, 179.38857588690297, 268.2924154528628, 124.85057082626011, 563.779651180809, 178.2390167861925, 363.9960492374682, 146.34944599260845, 235.47133850905226, 317.8416852886969, 637.2863933691995, 566.5444109695607, 126.5698496471997, 174.7010463463109, 127.38214963004931, 120.5472024560026, 162.7109469922072, 112.22105473593642, 124.35449307432346, 135.65967152500562, 16.13183178628927, 11.920145359338106, 10.994018926736679, 8.545890688937934, 8.52334279822947, 6.857973238288094, 6.852561162432172, 8.33351995922273, 9.77421825625204, 5.995214130903172, 5.995212146519455, 5.16947502467058, 5.169476347593058, 5.169476347593058, 5.162129166883005, 9.947525069586998, 13.37008691571851, 4.32346940754217, 4.321239290975531, 4.321677509046241, 4.295362927313388, 18.21981885362324, 8.487672839465544, 4.924041485664209, 3.4809526677178497, 3.4809523369872304, 3.4809523369872304, 3.4809549828321855, 3.4809549828321855, 3.4809549828321855, 19.02514526602624, 12.452420572361428, 10.650870034035632, 5.988001557555216, 41.73454761101582, 6.69470740655823, 14.440009729946746, 30.587430834712226, 8.118250044897833, 28.009525886243196, 65.1279657001336, 20.075476921283478, 36.96027914000166, 86.85531638770307, 33.06265847800367, 35.19632870433463, 10.319966773248629, 105.99444333147812, 57.951359968499624, 108.76451599904546, 274.86764602509885, 48.45917952401769, 36.9312304082382, 216.43176834501782, 25.356037084938126, 80.163672869603, 34.81748339442011, 23.54251938987983, 107.59307343680754, 25.053071962494627, 40.32094673509549, 62.36856637111566, 49.80688827717299, 67.23476737094421, 57.55817682477271, 38.27542018760304, 49.81973650027558, 66.61427968711355, 45.456415376017745, 40.20867295026529, 47.92548084640846, 52.37741131821693, 40.78948618899229, 43.28719557686832, 35.989859939927214, 35.83787466816398, 35.94688612616438, 264.5494551837249, 7.874317645992795, 6.317612898812816, 19.98514627654295, 4.762791026725221, 4.752940525215367, 3.983885367771698, 3.9832866856513562, 10.876438081354687, 3.2071018585195827, 3.2069936199640505, 3.2060957950226516, 3.204609596394771, 3.202873814724007, 3.203487563016913, 3.202610949660572, 3.201744842977204, 3.1694703259956527, 3.1554637414881315, 55.63928647098063, 6.138914215455446, 2.4292516246020517, 2.429216734518217, 2.429216338039992, 2.4284277428496877, 2.428304438121591, 2.4284505403476477, 2.428170230242296, 2.428009260082787, 2.4270014124338415, 6.648884332865376, 13.363151096923628, 8.721798575288274, 37.13614884043211, 18.452621546894925, 27.674107180339373, 22.964997322941045, 33.90597730165078, 12.080577341952774, 91.96081529039417, 26.54793615572099, 20.863052151898525, 7.4613974685942175, 6.999344916548664, 38.870855262249215, 7.289587594403027, 36.372398561644175, 6.9450836995780225, 38.23812359191129, 34.41013901305872, 73.55147489249589, 15.536524199139794, 14.062889173265637, 12.468737454175647, 16.831277765194677, 31.849761929124924, 30.91305516111797, 18.09682040151561, 23.028286349103855, 42.26229511216503, 86.43373120619044, 30.658338518171597, 20.476655574822196, 43.230190443294184, 54.75973917577193, 32.58536225391005, 29.54971879163485, 24.80174613858364, 19.541763091174634, 19.723827478187353, 19.439141839140078, 10.748236063698473, 7.709840592860787, 6.188272765582651, 6.184185172864119, 5.422617037653961, 5.420798311031646, 4.665775366919776, 3.902825296108931, 3.902168626415125, 3.898519678669926, 3.1419594378045153, 3.1419598085948564, 3.141909751898829, 3.140817403554417, 3.139751381324212, 3.139784381664556, 3.138887810620161, 3.135909622601724, 3.135688260768182, 3.138930080719028, 3.1205106997424497, 11.38494759661327, 2.380034231496031, 2.380034231496031, 2.380034231496031, 2.380034231496031, 2.380034231496031, 2.3800340461008607, 2.3800340461008607, 2.3800340461008607, 7.636258732862435, 4.666034920158435, 8.43067333042484, 8.467570677251867, 5.419274362730379, 3.9018560501577118, 10.063154189227255, 4.661513502741002, 44.06444824939936, 6.667968679141946, 76.62606056276739, 10.760974195071155, 7.532958027037672, 7.432006648813111, 5.864032927204861, 5.269899249140304, 5.68271422574273, 9.261334908556261, 11.91206240371413, 10.838401150905064, 47.11962717422939, 31.492837335671883, 15.999542401982637, 27.604240377315875, 8.511476703103357, 29.10912115609031, 55.409977124867204, 19.054524066351288, 24.787334291897174, 61.98305758943965, 15.732871471939326, 20.376492486778226, 20.475674453495817, 16.20832257767553, 22.328048074509123, 38.48133350029812, 30.55256939117766, 28.339129035124316, 14.274837828000726, 19.317524172019283, 15.781689728227601, 20.670113941962484, 18.88803623694611, 15.044953051359913, 17.956425505332174, 14.910028378936985, 20.033649355414752, 15.41313747778465, 15.077919278992283, 15.03934076875943, 19.6883977559095, 19.658559038718472, 4.811742534183403, 4.806140622115515, 4.137580454983807, 4.137077389165658, 3.461305737767802, 3.4589410900026794, 6.837102684280757, 3.383842900145702, 3.383842900145702, 2.786149686342677, 2.7843529545864802, 2.780537045382933, 5.485945621591871, 7.0321649055394495, 2.1119852229448908, 2.1119852229448908, 2.1118621983182724, 2.111659779891917, 2.111580386092181, 2.1108443841108406, 2.1089277271856726, 2.1083271476615404, 2.108274933721173, 2.1069762609669263, 2.10614846735526, 2.1046683571187326, 2.0980944074486665, 4.140241220164162, 8.870852827809715, 4.751552974030081, 16.25489677585659, 5.988000539708815, 31.12956786784873, 3.34013863995927, 4.732546146057149, 3.9777748028837365, 20.185703351231396, 48.05743605432869, 3.225784150059652, 9.421959285814257, 36.80942605033194, 5.796659574985515, 9.752487356688063, 18.116194526404943, 22.13527747029388, 6.121342545576025, 55.64125387609789, 5.367159622515975, 13.91591347373381, 9.311305786765415, 15.064637328038923, 17.420962334118546, 9.084352053673863, 13.267299985501642, 11.676878620785502, 10.309766980646884, 14.395014285353987, 10.61668958207834, 8.122737212304296, 8.718431037504951, 8.06405541908651, 7.347344462143493, 7.483131701674656, 8.591791012750624, 7.225939182935752], \"Total\": [4443.0, 1455.0, 2470.0, 5027.0, 4289.0, 265.0, 606.0, 1575.0, 799.0, 810.0, 1975.0, 238.0, 1563.0, 226.0, 310.0, 836.0, 1939.0, 779.0, 464.0, 889.0, 530.0, 225.0, 615.0, 380.0, 600.0, 366.0, 306.0, 1207.0, 757.0, 543.0, 186.8564802789267, 187.59408211774453, 24.09840100113308, 23.134865935102688, 21.188548028634564, 136.4651728580382, 20.221489076270867, 27.973559050932863, 16.352148410549287, 16.351019353866874, 22.152126774307423, 14.410062717131089, 42.23962459150773, 13.429935461810604, 105.41878604824143, 12.47856406595901, 12.478489219713266, 12.473292183461433, 12.472498786946808, 11.50963374955981, 11.508805687660868, 11.509102832688136, 11.506954920887932, 11.506349755941834, 810.8480149972993, 194.57652784782536, 10.539564166921462, 10.535104177960756, 10.534880121092357, 10.532917032931936, 33.7768968615734, 2470.720661401429, 153.18201318310625, 42.486158758244144, 84.75355978400262, 103.21979844308159, 40.252217051004735, 24.089174723720017, 101.39012257337383, 1575.3197772507815, 223.18564258069122, 81.65654395260314, 836.3154337648883, 464.55979722530117, 50.21281055844189, 96.73024490151131, 270.80813864503205, 437.4462248169928, 182.7927904679327, 748.8962238979298, 492.6360573793929, 207.63639857897923, 449.61380528286645, 106.6175937566828, 206.17313952784127, 133.09423394569993, 197.56742440381782, 410.05883354418273, 1207.774434728746, 565.2166312565455, 4443.655591426995, 226.013957831904, 1843.779184727033, 675.6529044293535, 5027.546246417696, 4289.6739918796175, 887.2796035786745, 779.4574573904787, 730.0411413161052, 843.8806740180574, 380.4643719013053, 720.1032969240533, 1975.9677902309315, 610.4574806977205, 1180.481245528278, 1264.8175745688052, 889.9794847080635, 713.5870296394311, 934.767002159256, 662.6602283033943, 1329.8364728450244, 873.210307853053, 870.4119545581599, 1563.2831390783606, 167.1111181113887, 94.57994725510252, 61.74705704852299, 366.77394177629935, 205.69056132697068, 41.44880230979324, 36.61627523073362, 26.952018995066478, 111.29648494617572, 22.119361033109914, 22.114936294486288, 29.76975990383409, 95.47673750765479, 20.177064296641454, 19.21664868621842, 19.20932288453302, 19.20677884885425, 98.02005272487602, 103.12943376458892, 38.38738977541348, 65.58467504740334, 22.915832773949838, 36.59725390062877, 77.59673883591559, 12.443223081091128, 14.324695514780835, 11.465167264123101, 15.219339245819837, 24.9857601085847, 10.519156452641997, 1455.623445603589, 530.7917737229956, 76.59541105994123, 199.84011480026675, 110.05068227717243, 181.15401005793927, 543.230540500787, 181.6449311983894, 63.35523710212604, 94.72028116622786, 106.51197488591328, 304.8862910129044, 606.0834601062264, 799.0902857263095, 230.64554555712402, 238.3143338580824, 328.7621689693527, 288.83497181224743, 272.8783288934357, 211.91655409763922, 241.65023425376984, 247.48040595896256, 1843.779184727033, 1207.774434728746, 1329.8364728450244, 5027.546246417696, 641.358612788782, 1264.8175745688052, 4289.6739918796175, 757.298603975771, 600.2086497937211, 441.73953039257896, 1939.7982211603555, 720.1032969240533, 660.4215115522951, 908.8897183738138, 934.767002159256, 1180.481245528278, 1975.9677902309315, 1151.0200466659717, 870.4119545581599, 873.210307853053, 889.9794847080635, 1563.2831390783606, 67.86192321802446, 54.48010058236316, 54.472657089770955, 47.77135312056217, 35.32598302676844, 33.41235344860722, 33.41236834003753, 33.40603344837413, 94.2507576814922, 26.703975213792738, 22.873472068794634, 22.867500492502916, 20.00515567948263, 19.04672230331166, 18.087715520801893, 17.130296965158436, 15.213140697805144, 13.2958093706966, 16.16908775794392, 12.34756420489047, 11.38885251413599, 11.387574912336015, 10.432558344661121, 10.430718638793026, 10.4290872048854, 10.428729071274946, 10.427855037100535, 10.4221471468832, 9.474975646146312, 9.474780442085763, 161.78810576579232, 21.911287921122614, 91.9065786434696, 48.59139187656817, 56.45119510406472, 368.71541305728493, 4443.655591426995, 268.0928035532437, 35.31968496119261, 28.83602549166786, 30.423677153378634, 329.83431636670457, 60.02559818102277, 74.22622072325493, 111.80856570297964, 502.6902659998396, 144.25273246414906, 145.3434159147314, 59.438008926694124, 640.7899957967306, 5027.546246417696, 356.24859508442853, 291.37915028134177, 639.6021913613538, 757.298603975771, 4289.6739918796175, 541.179431148229, 1975.9677902309315, 908.8897183738138, 236.08660765497692, 320.2330899257691, 887.2796035786745, 730.0411413161052, 675.6529044293535, 1939.7982211603555, 843.8806740180574, 1264.8175745688052, 870.4119545581599, 367.1562024237551, 473.9461108216675, 1329.8364728450244, 1563.2831390783606, 934.767002159256, 1151.0200466659717, 441.73953039257896, 666.4729487431223, 1575.3197772507815, 642.8044758147915, 194.99856430650826, 94.152477560549, 65.88322086835268, 32.895786184531715, 33.83576257773239, 33.837076133831495, 30.965477757600823, 24.409183275622993, 21.58637707697724, 21.58819654775558, 21.584560103306494, 69.59613778111661, 19.704122454335003, 18.75797546534358, 18.755714788136878, 16.873457345452405, 14.99192633760894, 33.856935473109495, 52.71283931059959, 79.12055872299281, 13.108086447806532, 13.107171446911616, 13.105359576455944, 27.12380499118291, 12.161337556607922, 35.75103756442489, 11.219242687861641, 11.215484372671257, 10.278664773837189, 149.14132066499607, 34.818577042155475, 22.547914270311384, 106.63940320593169, 95.66161729711749, 77.5788540228869, 31.999444000343427, 225.39874990803946, 193.18641780499962, 164.69721973555397, 380.79801734125095, 402.53318950162327, 54.73475086748453, 1563.2831390783606, 84.47086197816456, 145.17557299351915, 81.49462044467606, 743.483957707333, 600.2086497937211, 66.0789567854377, 673.9935764556199, 1939.7982211603555, 473.9461108216675, 353.127688070368, 625.8587093751084, 223.53358552598326, 1975.9677902309315, 384.20710561357515, 1151.0200466659717, 308.97154734955325, 649.6446817038146, 1180.481245528278, 4289.6739918796175, 5027.546246417696, 292.14535428325604, 873.210307853053, 367.37418187309356, 347.52928570269063, 1329.8364728450244, 301.5078439933289, 662.6602283033943, 1843.779184727033, 16.901012201127248, 12.677209414166532, 11.825016620550153, 9.302321782522208, 9.301378352863503, 7.6143745700536964, 7.61327238466257, 9.322907998309907, 10.948974195745778, 6.766783288539366, 6.76678383825672, 5.925875699971814, 5.925878400496639, 5.925878884489081, 5.9187902137610715, 11.601190944942925, 15.665166117072648, 5.0799240748259455, 5.077805576559049, 5.078560950479252, 5.083492393628232, 21.963559423645833, 10.25262980602735, 5.949904551748557, 4.237352605856016, 4.237352388545405, 4.2373524016878115, 4.237356068972299, 4.237356181525673, 4.237356200873185, 24.16757696641145, 16.21345396069473, 13.812127249788118, 7.536518620361016, 61.46310493357604, 8.583948397939013, 19.98575094018612, 54.785786838241094, 11.117288006343589, 53.57300529538858, 167.5815555204596, 37.03157613159749, 90.432029352184, 306.5473944072655, 80.84686831340979, 102.54655905761403, 16.642248704285514, 779.4574573904787, 304.76581462401356, 889.9794847080635, 4289.6739918796175, 235.42627251046162, 149.40511478198786, 5027.546246417696, 82.0234272864647, 799.0902857263095, 155.33817237545344, 73.96981656225682, 2470.720661401429, 95.25500726669348, 290.1483092607775, 843.8806740180574, 495.78005960901174, 1180.481245528278, 836.3154337648883, 293.47103499314045, 671.9167684437513, 1939.7982211603555, 675.6529044293535, 464.55979722530117, 1151.0200466659717, 1843.779184727033, 640.7899957967306, 1563.2831390783606, 410.05883354418273, 449.61380528286645, 908.8897183738138, 265.3143581321796, 8.639026723751178, 7.082359952761886, 23.05261584235053, 5.527509239579073, 5.520008404380023, 4.74864428061451, 4.748072619064189, 13.440034451345284, 3.9718209772215705, 3.971724217981256, 3.9709026226955353, 3.969428661794165, 3.9677443086437787, 3.9686289573049693, 3.967619656224986, 3.9667359219087404, 3.9708406977318202, 3.9786112564916722, 72.14559049408177, 8.048721873922949, 3.1939743492506634, 3.193938654111241, 3.193938397827384, 3.1931857796810004, 3.1930596290677875, 3.193263690415677, 3.1929458389608203, 3.1928225488891666, 3.1918103219087235, 8.77855123700773, 17.83527685155407, 12.08895934676258, 56.634091689058096, 27.32397636796656, 45.62273455284711, 37.954085032447544, 63.20468460503007, 20.0132224212471, 226.6408347164042, 55.29778931987505, 42.06370967435307, 12.576870543083874, 11.611276887167818, 125.86438013442917, 13.088291854891825, 150.53067296849682, 12.653056670983387, 183.75593584196835, 159.82608115723016, 606.0834601062264, 46.193532458191754, 44.97386543977236, 36.70525230395111, 68.86710643736882, 271.86022986544367, 310.77251941264024, 97.12155046103366, 178.9490975489596, 799.0902857263095, 5027.546246417696, 464.55979722530117, 146.63876992904162, 1575.3197772507815, 4289.6739918796175, 1843.779184727033, 1329.8364728450244, 836.3154337648883, 241.65023425376984, 290.1483092607775, 288.83497181224743, 11.525535261548132, 8.476658578893355, 6.955040026165835, 6.954284619937884, 6.189726985247684, 6.190849616456942, 5.432468775381894, 4.669552325608719, 4.668998350619807, 4.665430562442506, 3.9086525071740876, 3.9086531648161214, 3.908605544315861, 3.9075490505557067, 3.9065537115883253, 3.9066479810538213, 3.905689516688234, 3.9029092596463175, 3.902741312893617, 3.906993507710504, 3.8883798861116974, 14.232335818598802, 3.146726541832322, 3.1467265783261724, 3.1467266600213963, 3.1467266822467472, 3.1467267068210623, 3.1467265515451435, 3.1467265623049143, 3.14672656533238, 10.372664434559887, 6.388467794445521, 12.138066900260371, 12.832865779553792, 8.115953278277049, 5.5807015386616925, 17.237369388524332, 7.099062456824356, 138.83709399999708, 11.401148270484851, 310.77251941264024, 23.111071590732962, 14.436408797399128, 14.271271082998549, 10.584138848653113, 8.974608973130668, 10.222964953489383, 26.289049643750293, 43.58846523052757, 37.5075818452342, 615.8408968214604, 301.5078439933289, 85.56425482982523, 270.8791591057899, 24.564127525799083, 398.58114377531797, 1975.9677902309315, 181.0818699271152, 380.79801734125095, 4443.655591426995, 133.01337179007507, 293.7756508215066, 308.97154734955325, 163.2199077111704, 515.2700115735712, 4289.6739918796175, 1939.7982211603555, 1563.2831390783606, 159.12522668252092, 642.8044758147915, 304.8669314336921, 1264.8175745688052, 873.210307853053, 316.38081780017643, 1151.0200466659717, 327.71882689371995, 5027.546246417696, 908.8897183738138, 889.9794847080635, 2470.720661401429, 20.465835321461892, 22.379346755005706, 5.589425455425984, 5.584028309712949, 4.915160460135434, 4.914671660295675, 4.238871040670957, 4.236655663385175, 8.571794860550833, 4.263417357877847, 4.263418015145878, 3.5637425214341922, 3.5620575673231545, 3.5611609083865066, 7.2022283032529595, 9.29710014334012, 2.889412367751776, 2.88941239087742, 2.889295644535647, 2.889101063108424, 2.8890227331603207, 2.8883207501112613, 2.8865815255203655, 2.885943462760324, 2.8858958692026278, 2.884749511288687, 2.8838213493581923, 2.882444957268015, 2.876407248135346, 5.870093867953427, 13.304159599848045, 7.3849047859163655, 36.28034009170921, 10.881084906125228, 92.54439577104543, 5.219657577535816, 8.52008864382239, 6.855709625503167, 64.00005015666011, 238.3143338580824, 5.281675930453325, 24.63414438238711, 225.28636251057478, 13.751304850243423, 34.18927992518057, 158.0792219147214, 310.77251941264024, 21.700940006766505, 5027.546246417696, 16.085152151855677, 304.8862910129044, 106.51197488591328, 606.0834601062264, 1329.8364728450244, 116.42087686758371, 908.8897183738138, 873.210307853053, 541.179431148229, 4289.6739918796175, 757.298603975771, 151.94969063772263, 270.8791591057899, 155.77181119874018, 104.93096068755906, 128.5783507398342, 799.0902857263095, 418.5168701264408], \"Category\": [\"Default\", \"Default\", \"Default\", \"Default\", \"Default\", \"Default\", \"Default\", \"Default\", \"Default\", \"Default\", \"Default\", \"Default\", \"Default\", \"Default\", \"Default\", \"Default\", \"Default\", \"Default\", \"Default\", \"Default\", \"Default\", \"Default\", \"Default\", \"Default\", \"Default\", \"Default\", \"Default\", \"Default\", \"Default\", \"Default\", \"Topic1\", \"Topic1\", \"Topic1\", \"Topic1\", \"Topic1\", \"Topic1\", \"Topic1\", \"Topic1\", \"Topic1\", \"Topic1\", \"Topic1\", \"Topic1\", \"Topic1\", \"Topic1\", \"Topic1\", \"Topic1\", \"Topic1\", \"Topic1\", \"Topic1\", \"Topic1\", \"Topic1\", \"Topic1\", \"Topic1\", \"Topic1\", \"Topic1\", \"Topic1\", \"Topic1\", \"Topic1\", \"Topic1\", \"Topic1\", \"Topic1\", \"Topic1\", \"Topic1\", \"Topic1\", \"Topic1\", \"Topic1\", \"Topic1\", \"Topic1\", \"Topic1\", \"Topic1\", \"Topic1\", \"Topic1\", \"Topic1\", \"Topic1\", \"Topic1\", \"Topic1\", \"Topic1\", \"Topic1\", \"Topic1\", \"Topic1\", \"Topic1\", \"Topic1\", \"Topic1\", \"Topic1\", \"Topic1\", \"Topic1\", \"Topic1\", \"Topic1\", \"Topic1\", \"Topic1\", \"Topic1\", \"Topic1\", \"Topic1\", \"Topic1\", \"Topic1\", \"Topic1\", \"Topic1\", \"Topic1\", \"Topic1\", \"Topic1\", \"Topic1\", \"Topic1\", \"Topic1\", \"Topic1\", \"Topic1\", \"Topic1\", \"Topic1\", \"Topic1\", \"Topic1\", \"Topic1\", \"Topic1\", \"Topic1\", \"Topic1\", \"Topic1\", \"Topic2\", \"Topic2\", \"Topic2\", \"Topic2\", \"Topic2\", \"Topic2\", \"Topic2\", \"Topic2\", \"Topic2\", \"Topic2\", \"Topic2\", \"Topic2\", \"Topic2\", \"Topic2\", \"Topic2\", \"Topic2\", \"Topic2\", \"Topic2\", \"Topic2\", \"Topic2\", \"Topic2\", \"Topic2\", \"Topic2\", \"Topic2\", \"Topic2\", \"Topic2\", \"Topic2\", \"Topic2\", \"Topic2\", \"Topic2\", \"Topic2\", \"Topic2\", \"Topic2\", \"Topic2\", \"Topic2\", \"Topic2\", \"Topic2\", \"Topic2\", \"Topic2\", \"Topic2\", \"Topic2\", \"Topic2\", \"Topic2\", \"Topic2\", \"Topic2\", \"Topic2\", \"Topic2\", \"Topic2\", \"Topic2\", \"Topic2\", \"Topic2\", \"Topic2\", \"Topic2\", \"Topic2\", \"Topic2\", \"Topic2\", \"Topic2\", \"Topic2\", \"Topic2\", \"Topic2\", \"Topic2\", \"Topic2\", \"Topic2\", \"Topic2\", \"Topic2\", \"Topic2\", \"Topic2\", \"Topic2\", \"Topic2\", \"Topic2\", \"Topic2\", \"Topic2\", \"Topic2\", \"Topic2\", \"Topic3\", \"Topic3\", \"Topic3\", \"Topic3\", \"Topic3\", \"Topic3\", \"Topic3\", \"Topic3\", \"Topic3\", \"Topic3\", \"Topic3\", \"Topic3\", \"Topic3\", \"Topic3\", \"Topic3\", \"Topic3\", \"Topic3\", \"Topic3\", \"Topic3\", \"Topic3\", \"Topic3\", \"Topic3\", \"Topic3\", \"Topic3\", \"Topic3\", \"Topic3\", \"Topic3\", \"Topic3\", \"Topic3\", \"Topic3\", \"Topic3\", \"Topic3\", \"Topic3\", \"Topic3\", \"Topic3\", \"Topic3\", \"Topic3\", \"Topic3\", \"Topic3\", \"Topic3\", \"Topic3\", \"Topic3\", \"Topic3\", \"Topic3\", \"Topic3\", \"Topic3\", \"Topic3\", \"Topic3\", \"Topic3\", \"Topic3\", \"Topic3\", \"Topic3\", \"Topic3\", \"Topic3\", \"Topic3\", \"Topic3\", \"Topic3\", \"Topic3\", \"Topic3\", \"Topic3\", \"Topic3\", \"Topic3\", \"Topic3\", \"Topic3\", \"Topic3\", \"Topic3\", \"Topic3\", \"Topic3\", \"Topic3\", \"Topic3\", \"Topic3\", \"Topic3\", \"Topic3\", \"Topic3\", \"Topic3\", \"Topic3\", \"Topic3\", \"Topic3\", \"Topic4\", \"Topic4\", \"Topic4\", \"Topic4\", \"Topic4\", \"Topic4\", \"Topic4\", \"Topic4\", \"Topic4\", \"Topic4\", \"Topic4\", \"Topic4\", \"Topic4\", \"Topic4\", \"Topic4\", \"Topic4\", \"Topic4\", \"Topic4\", \"Topic4\", \"Topic4\", \"Topic4\", \"Topic4\", \"Topic4\", \"Topic4\", \"Topic4\", \"Topic4\", \"Topic4\", \"Topic4\", \"Topic4\", \"Topic4\", \"Topic4\", \"Topic4\", \"Topic4\", \"Topic4\", \"Topic4\", \"Topic4\", \"Topic4\", \"Topic4\", \"Topic4\", \"Topic4\", \"Topic4\", \"Topic4\", \"Topic4\", \"Topic4\", \"Topic4\", \"Topic4\", \"Topic4\", \"Topic4\", \"Topic4\", \"Topic4\", \"Topic4\", \"Topic4\", \"Topic4\", \"Topic4\", \"Topic4\", \"Topic4\", \"Topic4\", \"Topic4\", \"Topic4\", \"Topic4\", \"Topic4\", \"Topic4\", \"Topic4\", \"Topic4\", \"Topic4\", \"Topic4\", \"Topic4\", \"Topic4\", \"Topic4\", \"Topic4\", \"Topic4\", \"Topic5\", \"Topic5\", \"Topic5\", \"Topic5\", \"Topic5\", \"Topic5\", \"Topic5\", \"Topic5\", \"Topic5\", \"Topic5\", \"Topic5\", \"Topic5\", \"Topic5\", \"Topic5\", \"Topic5\", \"Topic5\", \"Topic5\", \"Topic5\", \"Topic5\", \"Topic5\", \"Topic5\", \"Topic5\", \"Topic5\", \"Topic5\", \"Topic5\", \"Topic5\", \"Topic5\", \"Topic5\", \"Topic5\", \"Topic5\", \"Topic5\", \"Topic5\", \"Topic5\", \"Topic5\", \"Topic5\", \"Topic5\", \"Topic5\", \"Topic5\", \"Topic5\", \"Topic5\", \"Topic5\", \"Topic5\", \"Topic5\", \"Topic5\", \"Topic5\", \"Topic5\", \"Topic5\", \"Topic5\", \"Topic5\", \"Topic5\", \"Topic5\", \"Topic5\", \"Topic5\", \"Topic5\", \"Topic5\", \"Topic5\", \"Topic5\", \"Topic5\", \"Topic5\", \"Topic5\", \"Topic5\", \"Topic5\", \"Topic5\", \"Topic5\", \"Topic5\", \"Topic5\", \"Topic5\", \"Topic5\", \"Topic5\", \"Topic5\", \"Topic5\", \"Topic5\", \"Topic5\", \"Topic5\", \"Topic5\", \"Topic5\", \"Topic5\", \"Topic6\", \"Topic6\", \"Topic6\", \"Topic6\", \"Topic6\", \"Topic6\", \"Topic6\", \"Topic6\", \"Topic6\", \"Topic6\", \"Topic6\", \"Topic6\", \"Topic6\", \"Topic6\", \"Topic6\", \"Topic6\", \"Topic6\", \"Topic6\", \"Topic6\", \"Topic6\", \"Topic6\", \"Topic6\", \"Topic6\", \"Topic6\", \"Topic6\", \"Topic6\", \"Topic6\", \"Topic6\", \"Topic6\", \"Topic6\", \"Topic6\", \"Topic6\", \"Topic6\", \"Topic6\", \"Topic6\", \"Topic6\", \"Topic6\", \"Topic6\", \"Topic6\", \"Topic6\", \"Topic6\", \"Topic6\", \"Topic6\", \"Topic6\", \"Topic6\", \"Topic6\", \"Topic6\", \"Topic6\", \"Topic6\", \"Topic6\", \"Topic6\", \"Topic6\", \"Topic6\", \"Topic6\", \"Topic6\", \"Topic6\", \"Topic6\", \"Topic6\", \"Topic6\", \"Topic6\", \"Topic6\", \"Topic6\", \"Topic6\", \"Topic6\", \"Topic6\", \"Topic6\", \"Topic6\", \"Topic6\", \"Topic6\", \"Topic6\", \"Topic6\", \"Topic7\", \"Topic7\", \"Topic7\", \"Topic7\", \"Topic7\", \"Topic7\", \"Topic7\", \"Topic7\", \"Topic7\", \"Topic7\", \"Topic7\", \"Topic7\", \"Topic7\", \"Topic7\", \"Topic7\", \"Topic7\", \"Topic7\", \"Topic7\", \"Topic7\", \"Topic7\", \"Topic7\", \"Topic7\", \"Topic7\", \"Topic7\", \"Topic7\", \"Topic7\", \"Topic7\", \"Topic7\", \"Topic7\", \"Topic7\", \"Topic7\", \"Topic7\", \"Topic7\", \"Topic7\", \"Topic7\", \"Topic7\", \"Topic7\", \"Topic7\", \"Topic7\", \"Topic7\", \"Topic7\", \"Topic7\", \"Topic7\", \"Topic7\", \"Topic7\", \"Topic7\", \"Topic7\", \"Topic7\", \"Topic7\", \"Topic7\", \"Topic7\", \"Topic7\", \"Topic7\", \"Topic7\", \"Topic7\", \"Topic7\", \"Topic7\", \"Topic7\", \"Topic7\", \"Topic7\", \"Topic7\", \"Topic7\", \"Topic7\", \"Topic7\", \"Topic7\", \"Topic7\", \"Topic7\", \"Topic7\", \"Topic7\", \"Topic7\", \"Topic7\", \"Topic7\", \"Topic7\", \"Topic7\", \"Topic7\", \"Topic7\", \"Topic7\", \"Topic7\", \"Topic7\", \"Topic7\", \"Topic8\", \"Topic8\", \"Topic8\", \"Topic8\", \"Topic8\", \"Topic8\", \"Topic8\", \"Topic8\", \"Topic8\", \"Topic8\", \"Topic8\", \"Topic8\", \"Topic8\", \"Topic8\", \"Topic8\", \"Topic8\", \"Topic8\", \"Topic8\", \"Topic8\", \"Topic8\", \"Topic8\", \"Topic8\", \"Topic8\", \"Topic8\", \"Topic8\", \"Topic8\", \"Topic8\", \"Topic8\", \"Topic8\", \"Topic8\", \"Topic8\", \"Topic8\", \"Topic8\", \"Topic8\", \"Topic8\", \"Topic8\", \"Topic8\", \"Topic8\", \"Topic8\", \"Topic8\", \"Topic8\", \"Topic8\", \"Topic8\", \"Topic8\", \"Topic8\", \"Topic8\", \"Topic8\", \"Topic8\", \"Topic8\", \"Topic8\", \"Topic8\", \"Topic8\", \"Topic8\", \"Topic8\", \"Topic8\", \"Topic8\", \"Topic8\", \"Topic8\", \"Topic8\", \"Topic8\", \"Topic8\", \"Topic8\", \"Topic8\", \"Topic8\", \"Topic8\", \"Topic8\", \"Topic8\"], \"logprob\": [30.0, 29.0, 28.0, 27.0, 26.0, 25.0, 24.0, 23.0, 22.0, 21.0, 20.0, 19.0, 18.0, 17.0, 16.0, 15.0, 14.0, 13.0, 12.0, 11.0, 10.0, 9.0, 8.0, 7.0, 6.0, 5.0, 4.0, 3.0, 2.0, 1.0, -5.8929, -5.9082, -7.9662, -8.008, -8.0989, -6.2365, -8.1474, -7.8237, -8.3688, -8.3689, -8.0682, -8.5018, -7.4282, -8.5763, -6.5162, -8.654, -8.654, -8.6546, -8.6548, -8.7401, -8.7402, -8.7402, -8.7404, -8.7406, -4.488, -5.9179, -8.8345, -8.835, -8.8354, -8.8357, -7.6786, -3.5046, -6.2254, -7.4727, -6.8053, -6.6198, -7.5274, -8.0303, -6.651, -4.0401, -5.9141, -6.8711, -4.6867, -5.2399, -7.3319, -6.7191, -5.77, -5.3369, -6.1621, -4.8932, -5.2877, -6.0777, -5.4041, -6.6706, -6.1291, -6.5045, -6.1736, -5.5645, -4.7218, -5.3697, -3.7943, -6.0956, -4.5077, -5.2702, -3.8152, -3.9332, -5.0859, -5.1795, -5.2302, -5.1553, -5.734, -5.3861, -4.9346, -5.5403, -5.252, -5.2463, -5.3973, -5.5018, -5.4307, -5.5356, -5.3595, -5.4862, -5.4959, -5.4645, -5.869, -6.4434, -6.8725, -5.0949, -5.6746, -7.2767, -7.4029, -7.7169, -6.301, -7.9206, -7.921, -7.6265, -6.4625, -8.0172, -8.0666, -8.068, -8.0708, -6.4424, -6.3927, -7.3848, -6.8499, -7.9015, -7.4421, -6.6909, -8.5233, -8.3836, -8.6113, -8.3316, -7.8367, -8.7028, -3.7777, -4.8031, -6.7286, -5.7902, -6.383, -5.8983, -4.8375, -5.9297, -6.9377, -6.5659, -6.4699, -5.5157, -4.9444, -4.7104, -5.828, -5.805, -5.5412, -5.6699, -5.7341, -5.9611, -5.8601, -5.8525, -4.3878, -4.6995, -4.661, -3.7427, -5.1946, -4.7396, -3.975, -5.1101, -5.2753, -5.4854, -4.6053, -5.2348, -5.3759, -5.228, -5.223, -5.1803, -4.9837, -5.3029, -5.4203, -5.4373, -5.44, -5.3936, -6.3877, -6.6088, -6.609, -6.7474, -7.0495, -7.1064, -7.1064, -7.107, -6.074, -7.3365, -7.4964, -7.4982, -7.6348, -7.6858, -7.7398, -7.7971, -7.9219, -8.0629, -7.8693, -8.1414, -8.2277, -8.2278, -8.3218, -8.322, -8.3222, -8.3223, -8.3225, -8.3237, -8.4258, -8.4258, -5.6011, -7.5901, -6.1717, -6.8288, -6.6901, -4.925, -2.6612, -5.2806, -7.1804, -7.3942, -7.3505, -5.3234, -6.7743, -6.6044, -6.2849, -5.0965, -6.0958, -6.1223, -6.829, -5.0291, -3.4984, -5.513, -5.684, -5.1381, -5.0414, -3.8514, -5.3033, -4.4803, -4.9942, -5.8685, -5.7389, -5.1411, -5.2707, -5.3255, -4.7984, -5.2509, -5.1258, -5.3158, -5.7251, -5.6231, -5.2375, -5.1812, -5.387, -5.3504, -5.6704, -5.5992, -5.5369, -5.63, -5.245, -5.9773, -6.3376, -7.0437, -7.0157, -7.0191, -7.1116, -7.3507, -7.4772, -7.4771, -7.4773, -6.3081, -7.5718, -7.6231, -7.6249, -7.7336, -7.8576, -7.0465, -6.6042, -6.1985, -7.9994, -7.9995, -8.0003, -7.2756, -8.0791, -7.0045, -8.1653, -8.1663, -8.2593, -5.5883, -7.0497, -7.485, -5.9785, -6.1028, -6.3192, -7.1592, -5.3701, -5.5255, -5.6853, -4.9403, -4.8989, -6.6994, -3.9524, -6.3672, -5.9438, -6.4062, -4.6631, -4.888, -6.5888, -4.8276, -4.0528, -5.107, -5.3246, -4.9221, -5.687, -4.1795, -5.331, -4.617, -5.5282, -5.0526, -4.7526, -4.0569, -4.1746, -5.6734, -5.3511, -5.667, -5.7221, -5.4222, -5.7937, -5.691, -5.604, -6.5574, -6.86, -6.9408, -7.1927, -7.1954, -7.4128, -7.4136, -7.2179, -7.0584, -7.5472, -7.5472, -7.6954, -7.6954, -7.6954, -7.6968, -7.0409, -6.7452, -7.8741, -7.8746, -7.8745, -7.8807, -6.4357, -7.1996, -7.7441, -8.0909, -8.0909, -8.0909, -8.0909, -8.0909, -8.0909, -6.3924, -6.8163, -6.9725, -7.5484, -5.6069, -7.4369, -6.6682, -5.9176, -7.2441, -6.0056, -5.1618, -6.3387, -5.7283, -4.8739, -5.8398, -5.7772, -7.0041, -4.6748, -5.2786, -4.649, -3.7219, -5.4575, -5.7291, -3.9609, -6.1052, -4.9541, -5.7881, -6.1794, -4.6598, -6.1172, -5.6413, -5.2051, -5.43, -5.13, -5.2854, -5.6934, -5.4298, -5.1393, -5.5214, -5.6441, -5.4685, -5.3797, -5.6298, -5.5703, -5.755, -5.7592, -5.7561, -3.2483, -6.7628, -6.983, -5.8314, -7.2655, -7.2676, -7.4441, -7.4443, -6.4398, -7.661, -7.661, -7.6613, -7.6618, -7.6623, -7.6621, -7.6624, -7.6627, -7.6728, -7.6772, -4.8075, -7.0117, -7.9388, -7.9388, -7.9388, -7.9391, -7.9392, -7.9391, -7.9392, -7.9393, -7.9397, -6.9319, -6.2339, -6.6605, -5.2118, -5.9112, -5.5059, -5.6924, -5.3028, -6.3348, -4.305, -5.5474, -5.7884, -6.8166, -6.8805, -5.1661, -6.8399, -5.2325, -6.8883, -5.1825, -5.288, -4.5284, -6.0832, -6.1828, -6.3031, -6.0031, -5.3653, -5.3952, -5.9306, -5.6896, -5.0825, -4.367, -5.4035, -5.8071, -5.0598, -4.8234, -5.3425, -5.4403, -5.6154, -5.8538, -5.8445, -5.8591, -6.3846, -6.7169, -6.9367, -6.9374, -7.0688, -7.0691, -7.2191, -7.3977, -7.3978, -7.3988, -7.6145, -7.6145, -7.6145, -7.6149, -7.6152, -7.6152, -7.6155, -7.6165, -7.6165, -7.6155, -7.6214, -6.3271, -7.8923, -7.8923, -7.8923, -7.8923, -7.8923, -7.8923, -7.8923, -7.8923, -6.7265, -7.2191, -6.6275, -6.6231, -7.0694, -7.3979, -6.4505, -7.22, -4.9737, -6.8621, -4.4204, -6.3834, -6.7401, -6.7536, -6.9905, -7.0974, -7.0219, -6.5335, -6.2818, -6.3763, -4.9067, -5.3096, -5.9868, -5.4414, -6.618, -5.3883, -4.7446, -5.8121, -5.549, -4.6325, -6.0036, -5.745, -5.7401, -5.9739, -5.6535, -5.1092, -5.3399, -5.4151, -6.1009, -5.7984, -6.0005, -5.7307, -5.8208, -6.0483, -5.8714, -6.0573, -5.762, -6.0242, -6.0461, -6.0487, -5.3377, -5.3393, -6.7467, -6.7479, -6.8977, -6.8978, -7.0761, -7.0768, -6.3954, -7.0988, -7.0988, -7.2931, -7.2938, -7.2951, -6.6156, -6.3673, -7.5701, -7.5701, -7.5702, -7.5703, -7.5703, -7.5707, -7.5716, -7.5719, -7.5719, -7.5725, -7.5729, -7.5736, -7.5767, -6.897, -6.135, -6.7593, -5.5294, -6.528, -4.8796, -7.1118, -6.7633, -6.937, -5.3128, -4.4454, -7.1466, -6.0747, -4.712, -6.5605, -6.0402, -5.421, -5.2206, -6.506, -4.2988, -6.6375, -5.6847, -6.0865, -5.6054, -5.4601, -6.1112, -5.7325, -5.8602, -5.9847, -5.6509, -5.9553, -6.2231, -6.1523, -6.2304, -6.3234, -6.3051, -6.167, -6.3401], \"loglift\": [30.0, 29.0, 28.0, 27.0, 26.0, 25.0, 24.0, 23.0, 22.0, 21.0, 20.0, 19.0, 18.0, 17.0, 16.0, 15.0, 14.0, 13.0, 12.0, 11.0, 10.0, 9.0, 8.0, 7.0, 6.0, 5.0, 4.0, 3.0, 2.0, 1.0, 1.229, 1.2097, 1.2039, 1.2029, 1.1998, 1.1997, 1.1981, 1.1972, 1.1891, 1.1891, 1.1861, 1.1826, 1.1807, 1.1785, 1.1781, 1.1743, 1.1743, 1.1741, 1.1739, 1.1689, 1.1689, 1.1689, 1.1689, 1.1687, 1.1661, 1.1636, 1.1626, 1.1625, 1.1621, 1.162, 1.1539, 1.0354, 1.0952, 1.1304, 1.1072, 1.0955, 1.1297, 1.1402, 1.0823, 0.9499, 1.0302, 1.0786, 0.9365, 0.9712, 1.104, 1.0612, 0.9809, 0.9344, 0.9818, 0.8404, 0.8647, 0.9388, 0.8397, 1.0124, 0.8944, 0.9567, 0.8926, 0.7715, 0.5339, 0.6454, 0.1587, 0.8361, 0.325, 0.5664, 0.0143, 0.0551, 0.4781, 0.5141, 0.5289, 0.4589, 0.6768, 0.3867, -0.1712, 0.3977, 0.0266, -0.0367, 0.1638, 0.2802, 0.0812, 0.3204, -0.2001, 0.0939, 0.0874, -0.4668, 1.3646, 1.3594, 1.3567, 1.3526, 1.3513, 1.3511, 1.3488, 1.3413, 1.3391, 1.3352, 1.335, 1.3323, 1.3308, 1.3305, 1.3299, 1.3289, 1.3262, 1.3247, 1.3236, 1.3197, 1.319, 1.3189, 1.3102, 1.3098, 1.3078, 1.3067, 1.3017, 1.2981, 1.2972, 1.2962, 1.2914, 1.2748, 1.2851, 1.2645, 1.2683, 1.2546, 1.2172, 1.2205, 1.2658, 1.2354, 1.2141, 1.1167, 1.0009, 0.9584, 1.0834, 1.0737, 1.0157, 1.0164, 1.0091, 1.035, 1.0047, 0.9884, 0.4449, 0.5562, 0.4985, 0.0869, 0.6941, 0.4699, 0.0133, 0.6124, 0.6797, 0.7762, 0.1766, 0.5381, 0.4835, 0.312, 0.2889, 0.0983, -0.2203, 0.0009, 0.163, 0.1428, 0.1211, -0.3959, 1.747, 1.7456, 1.7455, 1.7384, 1.7381, 1.7369, 1.7369, 1.7365, 1.7323, 1.7309, 1.7259, 1.7243, 1.7215, 1.7195, 1.7172, 1.7143, 1.7082, 1.7019, 1.6999, 1.6974, 1.692, 1.6919, 1.6855, 1.6855, 1.6855, 1.6854, 1.6853, 1.6846, 1.6778, 1.6778, 1.6649, 1.6751, 1.6597, 1.64, 1.6287, 1.5172, 1.2918, 1.4803, 1.6074, 1.5964, 1.5865, 1.2302, 1.4832, 1.4407, 1.3505, 1.0358, 1.2849, 1.2509, 1.4383, 0.8605, 0.3312, 0.9636, 0.9937, 0.7533, 0.681, 0.1369, 0.7552, 0.2831, 0.5458, 1.0196, 0.8443, 0.4229, 0.4884, 0.511, -0.0165, 0.3634, 0.0838, 0.2675, 0.7214, 0.568, -0.0781, -0.1835, 0.1249, -0.0465, 0.5912, 0.2511, -0.5468, 0.2564, 1.8342, 1.83, 1.8267, 1.8152, 1.815, 1.8116, 1.8077, 1.8066, 1.803, 1.803, 1.803, 1.8015, 1.7996, 1.7976, 1.7958, 1.7929, 1.7871, 1.7836, 1.7832, 1.7827, 1.7796, 1.7796, 1.7789, 1.7762, 1.7749, 1.7712, 1.7693, 1.7687, 1.7629, 1.7591, 1.7524, 1.7516, 1.7043, 1.6886, 1.6818, 1.7273, 1.5643, 1.563, 1.5629, 1.4697, 1.4555, 1.6504, 1.0453, 1.5486, 1.4305, 1.5455, 1.0778, 1.067, 1.5726, 1.0114, 0.7291, 1.0841, 1.1608, 0.991, 1.2556, 0.5839, 1.07, 0.6868, 1.0908, 0.8232, 0.526, -0.0687, -0.3451, 1.0016, 0.229, 0.7789, 0.7793, -0.2628, 0.8498, 0.165, -0.7713, 2.9675, 2.9525, 2.9412, 2.9292, 2.9267, 2.9094, 2.9088, 2.9019, 2.9006, 2.893, 2.893, 2.8775, 2.8775, 2.8775, 2.8773, 2.8603, 2.8556, 2.8528, 2.8527, 2.8527, 2.8456, 2.8272, 2.8251, 2.8248, 2.8174, 2.8174, 2.8174, 2.8174, 2.8174, 2.8174, 2.7748, 2.7501, 2.7541, 2.7841, 2.6269, 2.7655, 2.689, 2.4312, 2.6997, 2.3656, 2.0689, 2.4018, 2.1193, 1.7529, 2.1199, 1.9447, 2.5362, 1.0188, 1.3541, 0.912, 0.2664, 1.4334, 1.6165, -0.1314, 1.8401, 0.7147, 1.5186, 1.8692, -0.1199, 1.6785, 1.0405, 0.4091, 0.7161, 0.1486, 0.3378, 0.9771, 0.4123, -0.3574, 0.3151, 0.567, -0.1647, -0.547, 0.2598, -0.5726, 0.581, 0.4847, -0.2161, 3.523, 3.4332, 3.4116, 3.3831, 3.377, 3.3763, 3.3503, 3.3503, 3.3142, 3.312, 3.312, 3.3119, 3.3119, 3.3117, 3.3117, 3.3117, 3.3116, 3.3005, 3.2941, 3.2661, 3.255, 3.2522, 3.2522, 3.2522, 3.2521, 3.2521, 3.2521, 3.2521, 3.2521, 3.252, 3.248, 3.2372, 3.1994, 3.1039, 3.1333, 3.026, 3.0235, 2.9031, 3.0211, 2.6239, 2.7921, 2.8247, 3.0038, 3.0197, 2.3509, 2.9406, 2.1055, 2.926, 1.9561, 1.9902, 1.4169, 2.4362, 2.3633, 2.4462, 2.1169, 1.3816, 1.218, 1.8457, 1.4755, 0.5863, -0.5374, 0.8077, 1.5572, -0.0698, -0.8351, -0.5098, -0.2809, 0.0078, 1.0109, 0.8373, 0.8273, 3.523, 3.4981, 3.4761, 3.4755, 3.4606, 3.46, 3.4407, 3.4135, 3.4135, 3.4133, 3.3745, 3.3745, 3.3745, 3.3744, 3.3744, 3.3743, 3.3743, 3.3741, 3.374, 3.374, 3.3729, 3.3696, 3.3136, 3.3136, 3.3136, 3.3136, 3.3136, 3.3136, 3.3136, 3.3136, 3.2866, 3.2787, 3.2284, 3.1771, 3.189, 3.235, 3.0547, 3.1722, 2.4452, 3.0565, 2.1927, 2.8285, 2.9424, 2.9404, 3.0024, 3.0605, 3.0057, 2.5496, 2.2956, 2.3514, 1.0226, 1.3338, 1.9162, 1.3092, 2.533, 0.976, 0.0188, 1.3412, 0.8609, -0.6795, 1.4582, 0.9244, 0.8789, 1.2833, 0.454, -1.1209, -0.558, -0.4174, 1.1817, 0.088, 0.6318, -0.5211, -0.2408, 0.547, -0.5676, 0.5027, -1.9324, -0.4841, -0.4851, -1.5087, 3.9957, 3.9048, 3.8847, 3.8845, 3.8623, 3.8622, 3.8318, 3.8317, 3.8084, 3.8034, 3.8034, 3.7883, 3.7882, 3.787, 3.7623, 3.7553, 3.721, 3.721, 3.721, 3.721, 3.721, 3.7209, 3.7206, 3.7205, 3.7205, 3.7203, 3.7202, 3.72, 3.719, 3.6854, 3.6292, 3.5935, 3.2316, 3.4372, 2.9449, 3.5881, 3.4465, 3.4901, 2.8806, 2.4333, 3.5414, 3.0734, 2.2229, 3.1706, 2.7801, 1.8682, 1.3926, 2.7689, -0.4693, 2.9369, 0.9476, 1.5974, 0.3398, -0.3007, 1.4838, -0.1924, -0.2801, 0.0738, -1.6626, -0.2329, 1.1056, 0.5982, 1.0735, 1.3755, 1.1906, -0.4982, -0.0246]}, \"token.table\": {\"Topic\": [1, 2, 3, 4, 5, 6, 8, 6, 1, 5, 5, 5, 3, 5, 5, 3, 5, 3, 3, 5, 5, 5, 8, 5, 1, 2, 3, 4, 5, 6, 8, 5, 1, 3, 5, 6, 5, 1, 5, 1, 3, 5, 6, 8, 1, 5, 6, 3, 3, 1, 3, 3, 3, 3, 1, 2, 3, 4, 5, 6, 7, 8, 5, 8, 1, 3, 4, 6, 8, 3, 2, 3, 1, 1, 6, 1, 2, 7, 8, 3, 6, 1, 2, 3, 4, 5, 6, 7, 8, 1, 3, 4, 7, 8, 7, 8, 2, 3, 4, 7, 7, 5, 1, 3, 7, 2, 4, 7, 1, 2, 3, 4, 1, 2, 4, 2, 6, 1, 3, 4, 1, 2, 3, 5, 6, 1, 2, 5, 6, 6, 6, 1, 2, 3, 4, 5, 6, 7, 1, 1, 2, 3, 4, 6, 7, 8, 1, 4, 6, 7, 8, 4, 6, 1, 2, 4, 5, 8, 1, 2, 3, 5, 7, 1, 2, 3, 4, 8, 7, 1, 1, 1, 2, 5, 6, 8, 2, 4, 5, 6, 1, 2, 3, 4, 5, 6, 7, 8, 1, 1, 3, 6, 7, 3, 1, 2, 3, 4, 5, 6, 7, 8, 1, 2, 3, 4, 6, 7, 8, 7, 2, 3, 7, 8, 6, 1, 2, 5, 6, 7, 8, 3, 3, 4, 4, 7, 3, 2, 4, 6, 8, 1, 2, 3, 4, 5, 6, 7, 8, 1, 2, 3, 4, 5, 6, 7, 8, 6, 8, 1, 2, 4, 5, 2, 4, 5, 1, 2, 7, 5, 1, 2, 3, 4, 5, 6, 7, 1, 2, 3, 7, 1, 2, 3, 4, 7, 1, 2, 3, 4, 5, 6, 1, 7, 8, 1, 2, 3, 4, 5, 6, 7, 8, 1, 2, 3, 4, 5, 6, 1, 2, 3, 4, 5, 6, 7, 1, 2, 3, 4, 5, 6, 7, 8, 4, 1, 7, 8, 3, 2, 8, 4, 4, 1, 2, 3, 4, 6, 1, 2, 3, 4, 5, 6, 8, 2, 1, 2, 3, 4, 5, 6, 7, 8, 4, 5, 8, 1, 2, 6, 2, 5, 8, 5, 2, 3, 1, 2, 6, 2, 3, 7, 8, 2, 8, 4, 1, 2, 3, 4, 6, 7, 8, 2, 7, 1, 2, 3, 8, 1, 2, 3, 4, 5, 2, 2, 2, 4, 1, 2, 3, 4, 5, 6, 7, 8, 1, 3, 4, 7, 8, 5, 8, 1, 3, 1, 2, 1, 1, 2, 3, 4, 6, 1, 2, 3, 4, 5, 6, 7, 1, 4, 5, 5, 1, 2, 3, 4, 5, 6, 7, 1, 6, 3, 1, 2, 3, 4, 5, 6, 7, 8, 1, 2, 3, 4, 5, 6, 7, 7, 2, 4, 5, 6, 8, 2, 4, 8, 1, 5, 6, 4, 2, 4, 5, 6, 7, 8, 1, 6, 7, 1, 6, 8, 1, 2, 3, 4, 5, 6, 7, 8, 4, 2, 8, 1, 4, 5, 2, 4, 8, 7, 1, 2, 3, 4, 5, 6, 7, 8, 7, 2, 4, 7, 4, 1, 2, 4, 5, 6, 7, 8, 1, 2, 3, 4, 5, 6, 7, 8, 1, 2, 3, 4, 7, 8, 4, 6, 6, 4, 7, 7, 1, 2, 3, 4, 6, 4, 7, 8, 7, 7, 1, 4, 8, 1, 2, 3, 4, 6, 8, 1, 2, 3, 4, 5, 6, 7, 8, 1, 4, 7, 1, 1, 2, 3, 5, 6, 7, 6, 7, 2, 7, 4, 2, 8, 1, 3, 4, 5, 7, 4, 7, 3, 2, 6, 1, 8, 1, 4, 5, 8, 1, 2, 4, 5, 6, 7, 8, 1, 2, 3, 4, 5, 6, 7, 8, 1, 2, 3, 4, 5, 6, 7, 3, 1, 2, 3, 4, 5, 6, 7, 8, 5, 3, 5, 8, 2, 6, 1, 1, 2, 3, 4, 7, 1, 1, 2, 3, 4, 5, 6, 8, 2, 7, 8, 4, 2, 1, 4, 5, 6, 1, 4, 7, 8, 1, 8, 3, 2, 6, 8, 1, 2, 5, 6, 1, 2, 3, 4, 5, 6, 7, 8, 3, 1, 2, 3, 4, 5, 6, 7, 8, 1, 2, 3, 4, 5, 6, 7, 8, 1, 1, 3, 4, 8, 3, 5, 7, 8, 1, 2, 4, 5, 6, 1, 2, 3, 4, 5, 6, 7, 1, 2, 1, 2, 3, 4, 5, 6, 7, 2, 1, 2, 3, 4, 6, 7, 8, 1, 2, 3, 4, 5, 8, 2, 4, 6, 2, 4, 6, 8, 1, 2, 6, 1, 2, 3, 4, 3, 2, 4, 8, 2, 4, 2, 8, 1, 2, 3, 4, 7, 3, 5, 7, 8, 7, 3, 5, 7, 2, 5, 6, 1, 2, 3, 4, 5, 7, 8, 2, 4, 6, 4, 1, 2, 3, 4, 5, 6, 7, 5, 5, 1, 2, 3, 4, 5, 6, 8, 1, 8, 1, 2, 3, 4, 5, 6, 7, 1, 2, 3, 4, 5, 6, 7, 4, 1, 2, 3, 4, 5, 6, 8, 2, 3, 1, 3, 1, 2, 3, 4, 5, 6, 8, 1, 1, 2, 3, 4, 5, 8, 8, 7, 4, 7, 1, 2, 3, 4, 5, 6, 7, 1, 2, 3, 4, 5, 6, 7, 8, 7, 1, 2, 3, 4, 5, 7, 8, 1, 2, 3, 4, 5, 6, 5, 6, 1, 2, 3, 4, 5, 7, 8, 1, 1, 2, 3, 5, 6, 7, 1, 3, 5, 3, 7, 1, 2, 3, 7, 3, 3, 2, 4, 1, 1, 2, 1, 2, 4, 6, 7, 7, 1, 3, 7, 1, 2, 3, 4, 5, 6, 1, 2, 3, 4, 5, 7, 1, 3, 5, 6, 1, 4, 6, 7, 2, 4, 4, 1, 2, 7, 1, 2, 4, 1, 2, 3, 4, 5, 6, 8, 1, 2, 3, 4, 3, 6, 1, 2, 3, 4, 3, 3, 1, 2, 3, 4, 7, 2, 3, 5, 6, 7, 8, 2, 8, 7, 1, 2, 3, 4, 5, 8, 2, 6, 1, 2, 5, 1, 2, 3, 4, 5, 6, 1, 2, 4, 7, 1, 2, 3, 4, 5, 6, 7, 8, 1, 2, 3, 4, 5, 6, 7, 8, 1, 2, 3, 4, 5, 8, 1, 2, 3, 4, 5, 7, 1, 2, 3, 4, 5, 7, 8, 1, 5, 1, 4, 5, 6, 7, 1, 3, 5, 6, 2, 4, 6, 2, 5, 8, 1, 2, 3, 4, 5, 6, 7, 8, 8, 1, 2, 3, 4, 5, 6, 7, 1, 2, 3, 4, 5, 6, 1, 2, 3, 4, 5, 6, 8, 1, 2, 6, 6, 4, 1, 2, 3, 4, 5, 6, 7, 5, 8, 6, 6, 1, 2, 6, 1, 3, 4, 1, 2, 3, 4, 5, 6, 7, 8, 1, 2, 3, 4, 5, 6, 8, 2, 4, 5, 8, 1, 2, 3, 5, 7, 8, 1, 2, 3, 4, 8, 4, 1, 2, 3, 4, 5, 6, 7, 8, 1, 2, 3, 4, 3, 4, 3, 4, 1, 7, 1, 2, 4, 5, 6, 8, 2, 3, 4, 5, 8, 1, 1, 2, 3, 4, 5, 6, 8, 1, 2, 3, 4, 5, 6, 7, 8, 1, 2, 3, 4, 5, 6, 7, 8, 1, 3, 2, 5, 6, 1, 2, 4, 1, 2, 3, 4, 8, 6, 1, 3, 4, 5, 2, 5, 2, 2, 6, 1, 2, 3, 4, 5, 6, 8, 1, 2, 3, 5, 6, 7, 1, 2, 3, 5, 7, 1, 2, 3, 4, 7, 8, 1, 2, 3, 4, 1, 2, 3, 4, 5, 6, 8, 1, 2, 3, 4, 5, 7, 8, 1, 3, 7, 7, 1, 2, 3, 4, 5, 6, 7, 8, 1, 2, 4, 6, 7, 1, 2, 1, 2, 3, 4, 5, 7, 8, 3, 1, 2, 3, 4, 5, 6, 7, 5, 1, 2, 3, 4, 5, 6, 7, 8, 5, 6, 1, 2, 3, 4, 5, 6, 7, 2, 3, 7, 8, 3, 5, 1, 2, 3, 4, 5, 6, 8, 6, 5, 6, 1, 2, 3, 5, 6, 3, 8, 1, 2, 5, 7, 1, 2, 3, 4, 7, 1, 2, 3, 5, 7, 6, 1, 2, 3, 5, 6, 2, 3, 6, 7, 8, 1, 2, 3, 4, 5, 6, 7, 1, 2, 3, 4, 5, 6, 7, 1, 2, 3, 4, 5, 7, 8, 1, 2, 3, 4, 5, 8, 1, 2, 3, 5, 1, 2, 1, 2, 3, 4, 8, 1, 2, 3, 4, 5, 6, 1, 2, 3, 4, 5, 6, 8, 1, 4, 6, 7, 2, 3, 4, 6, 8, 1, 8, 1, 2, 3, 4, 6, 7, 8, 2, 3, 6, 7, 6, 2, 6, 8, 2, 6, 7, 2, 4, 6, 8, 8, 7, 1, 2, 5, 6, 1, 2, 3, 5, 6, 8, 2, 7, 1, 2, 3, 4, 5, 6, 7, 8, 1, 2, 3, 4, 5, 7, 8, 4, 7, 1, 4, 7, 1, 2, 3, 4, 5, 6, 7, 1, 2, 3, 5, 6, 8, 6, 1, 4, 5, 7, 1, 3, 5, 6, 6, 5, 5, 1, 2, 3, 6, 1, 3, 8, 2, 1, 2, 3, 4, 5, 7, 8, 8, 7, 1, 2, 3, 4, 5, 6, 8, 1, 2, 3, 4, 5, 6, 8, 2, 4, 1, 3, 4, 7, 4, 8, 1, 2, 3, 4, 5, 7, 8, 1, 2, 3, 5, 6, 7, 1, 2, 4, 5, 6, 7, 8, 2, 3, 4, 5, 7, 8, 6, 1, 2, 1, 2, 3, 4, 5, 7, 8, 1, 2, 3, 4, 5, 7, 8, 3, 5, 7, 5, 2, 1, 1, 2, 3, 4, 5, 7, 8, 5, 4, 3, 1, 2, 3, 4, 5, 7, 8, 7, 4, 2, 7, 6], \"Freq\": [0.29818347503053827, 0.28039411998610275, 0.08386410235233889, 0.2693816621014522, 0.05675651371319905, 0.007624009304758082, 0.0033884485798924805, 0.9988151484360187, 0.09753595115783041, 0.7802876092626433, 0.9193138498242589, 0.9194469403330365, 0.9340176666255486, 0.8437567668585567, 0.9302312506591834, 0.20688875872616827, 0.7861772831594395, 0.958969986101811, 0.9736378120427129, 0.786860624600067, 0.8866841535676627, 0.8866842255997711, 0.7036607692096905, 0.8437566979452519, 0.037332234564263926, 0.18666117282131964, 0.07466446912852785, 0.09333058641065982, 0.522651283899695, 0.07466446912852785, 0.7036608776892713, 0.967598527720279, 0.1616679373282496, 0.7275057179771233, 0.05388931244274987, 0.05388931244274987, 0.8437571513732193, 0.9616491077475403, 0.7876246911287988, 0.14310173732577994, 0.6618455351317323, 0.16098945449150243, 0.008943858582861246, 0.008943858582861246, 0.045529960818800896, 0.8195392947384161, 0.09105992163760179, 0.9498705153569977, 0.9498900850539134, 0.1062865009135648, 0.8857208409463734, 0.9497551683382538, 0.9587067148766591, 0.9876582127959066, 0.2503386148424568, 0.08632366029050234, 0.2445837041564233, 0.3481720965050261, 0.03165200877318419, 0.01726473205810047, 0.01726473205810047, 0.00575491068603349, 0.8619804679931675, 0.08619804679931675, 0.09216190632186376, 0.3225666721265231, 0.18432381264372752, 0.09216190632186376, 0.27648571896559127, 0.9838532285527798, 0.9290314538986721, 0.027324454526431535, 0.9557898793785021, 0.8849185826664991, 0.11798914435553322, 0.9715433079521858, 0.1408636712357272, 0.704318356178636, 0.1408636712357272, 0.9202570513279899, 0.6266036506843511, 0.29497490969012763, 0.27727243702497495, 0.23967954563493174, 0.11277867417012971, 0.0429633044457637, 0.017105760103405917, 0.00397808374497812, 0.011138634485938737, 0.9335904953809641, 0.04193140930376853, 0.014799320930741834, 0.009866213953827889, 0.9772383919764377, 0.8566131656911165, 0.6924438706895547, 0.21021252995284478, 0.14014168663522986, 0.07007084331761493, 0.4904959032233045, 0.8573699568482848, 0.707989262069647, 0.07026253545066025, 0.07026253545066025, 0.7728878899572628, 0.9493945131853325, 0.9948791196998832, 0.9437681045594756, 0.13087601177126532, 0.13087601177126532, 0.0688821114585607, 0.6681564811480387, 0.03125054297784886, 0.06250108595569771, 0.9062657463576168, 0.9198822480972857, 0.62638080971988, 0.07307971510976989, 0.09134964388721237, 0.8221467949849113, 0.6291780078728658, 0.2292353982172457, 0.04633481453327307, 0.08779228016830687, 0.007316023347358905, 0.39784592242447553, 0.10850343338849332, 0.018083905564748887, 0.48826545024821993, 0.6263184609535499, 0.7540319489884999, 0.15806066339032182, 0.5093065820354814, 0.047669088958985945, 0.1931852552548378, 0.01003559767557599, 0.007526698256681992, 0.07275808314792592, 0.9785322647921726, 0.15123602334218597, 0.10618699511259866, 0.009653363192054423, 0.318560985337796, 0.09975141965122904, 0.2477696552627302, 0.07079133007506577, 0.12433827054407243, 0.31084567636018107, 0.06216913527203621, 0.12433827054407243, 0.31084567636018107, 0.9154654302732376, 0.6263584875750972, 0.8572491145428701, 0.09797132737632801, 0.024492831844082002, 0.012246415922041001, 0.012246415922041001, 0.7086188445411278, 0.23283190606351342, 0.01012312635058754, 0.02530781587646885, 0.02024625270117508, 0.11043673742992392, 0.07362449161994929, 0.024541497206649762, 0.7485156648028177, 0.024541497206649762, 0.7677446811763909, 0.9784647006798137, 0.9559938845348972, 0.5734279295187882, 0.19539025746566116, 0.2038854860511247, 0.025485685756390587, 0.6922102290855839, 0.09408162076171789, 0.8571881002734297, 0.031360540253905965, 0.010453513417968654, 0.19113481180214792, 0.254556817536497, 0.16420217923002706, 0.3162412340726447, 0.04170214075683227, 0.01129432978830874, 0.015638302783812102, 0.005212767594604034, 0.965197168899379, 0.11602698503006423, 0.17404047754509633, 0.058013492515032114, 0.5801349251503212, 0.958537653912812, 0.3195106579604774, 0.29317106966982875, 0.11910074705336793, 0.2004099109071095, 0.025194388799750906, 0.009161595927182149, 0.021758790327057603, 0.013742393890773223, 0.5729840061254158, 0.20764099304544886, 0.11827651502588858, 0.05519570701208134, 0.015770202003451812, 0.026283670005753018, 0.005256734001150604, 0.768690456138817, 0.20780791414970748, 0.06926930471656917, 0.5541544377325534, 0.13853860943313834, 0.8423456809197698, 0.23437481632096874, 0.312499755094625, 0.062499951018925, 0.0312499755094625, 0.04687496326419375, 0.312499755094625, 0.9913230395757634, 0.9872988683911109, 0.9865941455698177, 0.9877594558273005, 0.6355811216754849, 0.987658652981704, 0.043379025045950544, 0.043379025045950544, 0.867580500919011, 0.6938554004152094, 0.33287818502809163, 0.3621065134695826, 0.1575082143791458, 0.04384249266223646, 0.011366572171690934, 0.014614164220745487, 0.07631841315278198, 0.0016237960245272763, 0.23762320138802945, 0.41884849105421645, 0.15941809713374128, 0.12257146147547089, 0.019551276063572043, 0.022559164688736973, 0.006767749406621092, 0.012783526656950952, 0.7553210522843369, 0.6921822659588672, 0.9494046111570298, 0.959427782132869, 0.921699592226338, 0.036867983689053516, 0.014368613430030425, 0.9626970998120384, 0.014368613430030425, 0.025774279048365132, 0.9407611852653273, 0.025774279048365132, 0.707988630523819, 0.31291404039080395, 0.44250470358295513, 0.10746542801300338, 0.03160747882735394, 0.041089722475560114, 0.01580373941367697, 0.0474112182410309, 0.22380309804953005, 0.0074601032683176685, 0.7572004817342434, 0.011190154902476502, 0.24874974729234386, 0.13266653188925007, 0.1426165217809438, 0.37146628928990016, 0.1028165622141688, 0.18875750013991952, 0.17502968194792537, 0.46331386397980245, 0.0652071364119722, 0.06863909095997074, 0.03775150002798391, 0.22549338629658838, 0.0751644620988628, 0.6764801588897651, 0.38947056053141904, 0.26044350366824953, 0.16247851604991714, 0.1290270568631695, 0.014336339651463277, 0.0023893899419105465, 0.023893899419105462, 0.016725729593373824, 0.7684694244578872, 0.0064577262559486325, 0.06242468714083678, 0.008610301674598177, 0.08610301674598177, 0.06672983797813586, 0.4024343078316351, 0.3970106648689446, 0.0748462728851289, 0.0737615442925908, 0.0282029434059906, 0.017898021776878652, 0.0065083715552286, 0.8187894453647078, 0.08378122352471305, 0.03197447661088083, 0.012546946518193743, 0.04371194270854594, 0.0024284412615858857, 0.006071103153964714, 0.0012142206307929428, 0.9045057707507754, 0.9479902410253589, 0.767527809068506, 0.8424219172278969, 0.9907721456322552, 0.3676104023182746, 0.5514156034774119, 0.9156559139024506, 0.9727689686604015, 0.16646751908807603, 0.015133410826188728, 0.030266821652377457, 0.7718039521356251, 0.015133410826188728, 0.02144919116869074, 0.6913239307447248, 0.04784819568400243, 0.03959850677296752, 0.052798009030623365, 0.12209539588331654, 0.024749066733104702, 0.907523652882258, 0.012514230467600786, 0.6632542147828416, 0.07758822889912488, 0.07007969061856441, 0.10011384374080629, 0.0525597679639233, 0.012514230467600786, 0.011262807420840707, 0.13541135992803646, 0.13541135992803646, 0.6770567996401823, 0.07319578867535229, 0.21958736602605686, 0.6587620980781705, 0.9703810506884387, 0.008985009728596654, 0.008985009728596654, 0.7079892279566266, 0.9453427947182417, 0.045742393292818144, 0.03142126635568666, 0.9635855015743909, 0.010473755451895553, 0.06935768594662596, 0.8322922313595116, 0.03467884297331298, 0.03467884297331298, 0.9589874458019365, 0.03060598231282776, 0.8916244423974211, 0.043797607682776726, 0.5318280932908602, 0.08133841426801391, 0.05631120987785579, 0.21273123731634408, 0.05631120987785579, 0.012513602195079064, 0.15653205622629168, 0.7826602811314585, 0.4032327547511239, 0.006063650447385322, 0.5881740933963763, 0.8138895691272594, 0.19076891293832732, 0.7500686804166051, 0.043356571122347115, 0.004335657112234712, 0.008671314224469423, 0.9646772660986643, 0.9879013335334196, 0.9205243266582702, 0.04002279681122914, 0.15095613214562445, 0.19068143007868354, 0.15890119173223627, 0.031780238346447255, 0.08739565545272995, 0.30985732387786075, 0.03972529793305907, 0.031780238346447255, 0.012890110489450969, 0.09023077342615679, 0.850747292303764, 0.03867033146835291, 0.7081056942925917, 0.8447672276633656, 0.6922756186872185, 0.9485975294217323, 0.04742987647108662, 0.9672797625612272, 0.029311507956400824, 0.9616548757394959, 0.09388279229106802, 0.8596718431358581, 0.02393090783889969, 0.016567551580776708, 0.003681678129061491, 0.4688488254684799, 0.2006131993591092, 0.2626004238801823, 0.011270404458376921, 0.03719233471264384, 0.01577856624172769, 0.0033811213375130765, 0.06008803364069976, 0.24035213456279905, 0.6008803364069977, 0.7079886493295335, 0.3966815127229762, 0.3142938139266657, 0.12205585006860806, 0.08849049129974085, 0.02441117001372161, 0.009154188755145605, 0.04577094377572802, 0.9557211149677719, 0.9057957223457476, 0.9398644057868469, 0.1382558910278466, 0.2827961407387771, 0.33307101020344865, 0.10683409761242692, 0.037706152098503615, 0.012568717366167872, 0.08798102156317511, 0.8954109332330783, 0.22900614697067762, 0.34156849039694287, 0.22900614697067762, 0.09315504283552987, 0.050458981535912016, 0.011644380354441234, 0.04269606129961786, 0.7715295541763386, 0.9099613519105956, 0.07535911817064973, 0.0018839779542662435, 0.003767955908532487, 0.009419889771331217, 0.6962810156837288, 0.28584168012279393, 0.010993910773953612, 0.11391401303033934, 0.11391401303033934, 0.7973980912123754, 0.964265221353205, 0.16641423341384495, 0.11886730958131782, 0.1426407714975814, 0.4992427002415349, 0.04754692383252713, 0.023773461916263564, 0.1654402122326269, 0.7444809550468211, 0.08272010611631345, 0.20791291466705059, 0.7762082147569889, 0.013860860977803372, 0.1697104053036202, 0.6828823451502812, 0.04444796329380529, 0.020203619679002405, 0.028285067550603366, 0.012122171807401442, 0.020203619679002405, 0.024244343614802884, 0.8913257586288985, 0.3521090126421621, 0.5868483544036035, 0.8943606747022995, 0.04968670415012775, 0.04968670415012775, 0.9741428917693438, 0.1388459179429705, 0.6942295897148525, 0.7686573784889533, 0.34071047335912186, 0.010351837367582302, 0.6265112006815028, 0.003600639084376453, 0.0047258387982440945, 0.0002250399427735283, 0.013952476451958755, 0.0002250399427735283, 0.8077900708572082, 0.044350000093653454, 0.9313500019667226, 0.6355811264220662, 0.959707492000525, 0.003279911329163943, 0.7773389850118545, 0.11151698519157406, 0.04263884727913126, 0.003279911329163943, 0.013119645316655772, 0.0459187586082952, 0.18230862527438427, 0.17143407569661398, 0.14328818267179677, 0.4528930059447862, 0.02750621363788956, 0.004477755708493649, 0.017911022833974596, 0.0006396793869276642, 0.357773344411465, 0.006880256623297404, 0.5985823262268741, 0.020640769869892214, 0.006880256623297404, 0.006880256623297404, 0.12424332902344404, 0.7454599741406642, 0.9045665567047982, 0.19281448972130566, 0.7712579588852226, 0.635581124460254, 0.7768358896239458, 0.04376540223233497, 0.13129620669700492, 0.03282405167425123, 0.016412025837125616, 0.10756042040875934, 0.10756042040875934, 0.7529229428613153, 0.9544025288524829, 0.7675371602444734, 0.9620555522551633, 0.291727641520875, 0.58345528304175, 0.03366255204805502, 0.9253766858924513, 0.004121945148741431, 0.02954060689931359, 0.005495926864988575, 0.0013739817162471437, 0.13468927509506326, 0.4687714966543869, 0.34068463700516005, 0.007922898535003721, 0.003961449267501861, 0.023768695605011166, 0.006602415445836435, 0.014525313980840157, 0.9755105168250402, 0.021322634247541862, 0.0053306585618854655, 0.9557652025453989, 0.1942293002665961, 0.017657209115145102, 0.017657209115145102, 0.07062883646058041, 0.6533167372603688, 0.035314418230290204, 0.6263337425358947, 0.6355810930973642, 0.5192316571253986, 0.4759623523649488, 0.9482348325200933, 0.9891721283901321, 0.7077356143217652, 0.36081171655123195, 0.15602668823837057, 0.13652335220857426, 0.34130838052143564, 0.6355810980609253, 0.9752615701628381, 0.9203918525327388, 0.9588896146074172, 0.936687780159557, 0.6261861033008878, 0.962116750218384, 0.8138086299403912, 0.12335434540033703, 0.061677172700168516, 0.7401260724020222, 0.061677172700168516, 0.018326960139245688, 0.5014922729011775, 0.4631722653373001, 0.003332174570771943, 0.003332174570771943, 0.008330436426929858, 0.0016660872853859715, 0.32275235082587267, 0.5082959727982342, 0.11693925754560604, 0.0015591901006080805, 0.020269471307905046, 0.010914330704256564, 0.015591901006080806, 0.0015591901006080805, 0.23945418670244753, 0.10931604175546518, 0.132740907845922, 0.4632917960112572, 0.005205525797879294, 0.013013814494698236, 0.03643868058515506, 0.9911875973569957, 0.16272712741378725, 0.0216969503218383, 0.7838023303764086, 0.01084847516091915, 0.013560593951148937, 0.0027121187902297873, 0.0027121187902297873, 0.0027121187902297873, 0.7079886272911857, 0.9878455055431343, 0.9466888615661048, 0.6935242366678189, 0.9600349337951648, 0.6264049972635753, 0.9439061125364352, 0.8154646414327443, 0.026883449717563, 0.004480574952927166, 0.12993667363488784, 0.026883449717563, 0.9544201708204028, 0.5537699754236934, 0.21230797779822114, 0.2052310452049471, 0.012384632038229567, 0.008846165741592547, 0.005307699444955528, 0.8422098585718438, 0.40594062634258926, 0.1623762505370357, 0.36534656370833035, 0.9728890103949602, 0.9831693631629589, 0.1998678631459863, 0.09993393157299316, 0.04996696578649658, 0.5996035894379589, 0.2834429936056409, 0.09448099786854697, 0.5668859872112818, 0.09448099786854697, 0.9492276974256737, 0.6933010967411697, 0.9777516838238858, 0.3056166568065165, 0.5348291494114039, 0.07640416420162913, 0.06313605919510906, 0.8996888435303042, 0.015784014798777266, 0.015784014798777266, 0.33909853419588204, 0.3270950462597446, 0.22056409082652506, 0.06751961964077298, 0.02700784785630919, 0.010503051944120241, 0.0015004359920171772, 0.004501307976051532, 0.971851597681686, 0.24945515706975108, 0.21065102152556756, 0.36586756370230156, 0.13304275043720057, 0.005543447934883357, 0.0036956319565889044, 0.012934711848061166, 0.018478159782944523, 0.45978064428537624, 0.11613016273187338, 0.24766534705062793, 0.07347010295281785, 0.07347010295281785, 0.013035018265822523, 0.014220019926351841, 0.0011850016605293202, 0.9509456446263322, 0.14544074338986065, 0.2908814867797213, 0.14544074338986065, 0.436322230169582, 0.24806823688118296, 0.13781568715621276, 0.13781568715621276, 0.4410101988998808, 0.08612317230201859, 0.08612317230201859, 0.08612317230201859, 0.08612317230201859, 0.6028622061141301, 0.3155152690875988, 0.30360903251825544, 0.15329279583029565, 0.14138655926095228, 0.07441397855839595, 0.0029765591423358377, 0.010417956998175432, 0.8762704081021138, 0.09957618273887657, 0.4862356455846125, 0.19372449204030737, 0.13214319655729576, 0.03720536602098618, 0.13599202752498396, 0.012829436558960752, 0.0012829436558960752, 0.9933510222183537, 0.18567511788932456, 0.014769611650287182, 0.303832011091622, 0.4705176282877202, 0.00843977808587839, 0.010549722607347987, 0.006329833564408792, 0.14206082096216752, 0.03551520524054188, 0.04735360698738918, 0.7458193100513795, 0.011838401746847294, 0.02367680349369459, 0.05594243233908708, 0.9230501335949368, 0.7553394534338632, 0.8543640289974117, 0.028165847109804784, 0.01877723140653652, 0.08449754132941435, 0.9469781132487147, 0.023674452831217867, 0.023674452831217867, 0.08799790478624447, 0.08799790478624447, 0.06211616808440786, 0.7609230590339963, 0.9618128779851365, 0.9599587274568473, 0.009696552802594417, 0.02908965840778325, 0.9820577020979389, 0.014585015377692162, 0.9506465699051747, 0.8945463249977161, 0.09107621867621532, 0.012143495823495377, 0.11536321032320608, 0.758968488968461, 0.024286991646990753, 0.19563795915365476, 0.09781897957682738, 0.5869138774609642, 0.09781897957682738, 0.8076435884839871, 0.22285093489731483, 0.11142546744865742, 0.5571273372432871, 0.17989998989490857, 0.7195999595796343, 0.08994999494745429, 0.24468347274510235, 0.20290824569106047, 0.4853883524374388, 0.017903668737446515, 0.04376452358042481, 0.003978593052765891, 0.003978593052765891, 0.2370968595185184, 0.15806457301234558, 0.5532260055432096, 0.9729176735356795, 0.5120972584173622, 0.00740024939909483, 0.28712967668487943, 0.10360349158732762, 0.06660224459185347, 0.013320448918370694, 0.010360349158732763, 0.7877418581100109, 0.7079892642655188, 0.23033939623771102, 0.3027317779124202, 0.05923013046112569, 0.21717714502412752, 0.06581125606791743, 0.07239238167470918, 0.05264900485433395, 0.18933384273619572, 0.5680015282085872, 0.3427045288578174, 0.28652345855325717, 0.1460707827918566, 0.08427160545684034, 0.12247473326394129, 0.0011236214060912045, 0.016854321091368068, 0.244943263950388, 0.20395069291736853, 0.22824258686286156, 0.28542975385954306, 0.007085135734102133, 0.002024324495457752, 0.027834461812544092, 0.9832365027947643, 0.08309243111876638, 0.7028234798795656, 0.08309243111876638, 0.013848738519794398, 0.027697477039588796, 0.06578150796902339, 0.020773107779691595, 0.04563857695630908, 0.9127715391261816, 0.08704491145333738, 0.9030909563283753, 0.13876000567317662, 0.1444236793741226, 0.1076098003179737, 0.5068987962346656, 0.05380490015898685, 0.0368138790561489, 0.008495510551418976, 0.9679867812445436, 0.17378205655352688, 0.37141655224185155, 0.21807944351815137, 0.08518728262427788, 0.1294846695889024, 0.017037456524855575, 0.6921822604189309, 0.862683748393562, 0.1791889412240114, 0.7167557648960456, 0.22997251815827388, 0.16765738420570936, 0.13946720456050157, 0.43768963133348904, 0.014836936655372508, 0.0059347746621490035, 0.0029673873310745017, 0.04527554955796184, 0.5523617046071345, 0.31013751447203863, 0.05885821442535039, 0.018110219823184736, 0.004527554955796184, 0.006791332433694276, 0.002263777477898092, 0.7679217617121336, 0.17594629422652208, 0.02363457683639849, 0.026260640929331655, 0.6906548564414225, 0.013130320464665828, 0.06565160232332913, 0.0026260640929331655, 0.03580346286538363, 0.17305007051602087, 0.13127936383973995, 0.17901731432691814, 0.38787084770832264, 0.08950865716345907, 0.9133275703476859, 0.09133275703476859, 0.2916429608715196, 0.21411761684238145, 0.191967518548342, 0.12182554061721704, 0.0479918796370855, 0.10336712537218415, 0.03322514744105919, 0.9395945040613138, 0.7754567534444092, 0.11077953620634418, 0.0849309777581972, 0.003692651206878139, 0.011077953620634417, 0.014770604827512556, 0.6739116914111946, 0.24465440942320593, 0.08006871581123104, 0.9761194738709864, 0.021219988562412747, 0.09860740977744833, 0.03286913659248278, 0.8545975514045523, 0.03286913659248278, 0.9659651053609175, 0.9276961214234524, 0.9371691183435353, 0.9338359650873831, 0.9559436076378743, 0.8944089348304843, 0.09414830892952467, 0.21036822018492843, 0.45579781040067824, 0.10518411009246421, 0.0350613700308214, 0.18699397349771416, 0.767527938207269, 0.149936031838586, 0.7663397182861063, 0.0832977954658811, 0.18071670464159434, 0.3346605641511006, 0.12717101437741823, 0.04015926769813207, 0.24764881747181447, 0.06693211283022012, 0.42771641418062223, 0.4360485521192058, 0.058324965570084854, 0.0499928276315013, 0.026385103472181242, 0.0027773793128611835, 0.16269923250390828, 0.08134961625195414, 0.6833367765164148, 0.06507969300156331, 0.1754209271339427, 0.08771046356697135, 0.08771046356697135, 0.6139732449687995, 0.05744060125083699, 0.9190496200133919, 0.9688208344415472, 0.09384280256651684, 0.8942667068103369, 0.011040329713707863, 0.13212589991728216, 0.8643235952922207, 0.005505245829886756, 0.19347237960989827, 0.7172634561147448, 0.018875354108282758, 0.042469546743636205, 0.0047188385270706895, 0.02359419263535345, 0.6930256983085809, 0.05662564663862358, 0.02831282331931179, 0.8493846995793537, 0.02831282331931179, 0.884930403089267, 0.10289888408014732, 0.055628316787567675, 0.012361848175015039, 0.9085958408636053, 0.01854277226252256, 0.9588566864524444, 0.9620640440004659, 0.19546906938825542, 0.06014432904254013, 0.09773453469412771, 0.5262628791222261, 0.12028865808508026, 0.876264290794708, 0.05278700546956073, 0.010557401093912145, 0.010557401093912145, 0.04222960437564858, 0.010557401093912145, 0.17035502710770858, 0.6814201084308343, 0.86277745705116, 0.366941358510583, 0.21887730156771618, 0.03218783846584061, 0.1351889215565306, 0.2253148692608843, 0.01931270307950437, 0.4588267496503269, 0.537934809934866, 0.8580717508950637, 0.05917736213069404, 0.07890314950759206, 0.05448811476456494, 0.32692868858738966, 0.08173217214684741, 0.05448811476456494, 0.13622028691141236, 0.32692868858738966, 0.8682481528756143, 0.052225452804548225, 0.032640908002842646, 0.03916908960341117, 0.04659307069241168, 0.31768002744826146, 0.47863790802204725, 0.09742187508413351, 0.012707201097930458, 0.025414402195860917, 0.01694293479724061, 0.008471467398620305, 0.19914407253263391, 0.3476769443111178, 0.29706574355696774, 0.07591680113122509, 0.039608765807595696, 0.008801947957243489, 0.01650365241983154, 0.014303165430520669, 0.33122937641911204, 0.08140382979791737, 0.4519316068091274, 0.11789520177629412, 0.008421085841163864, 0.008421085841163864, 0.2669903828912965, 0.19510835672825513, 0.08215088704347585, 0.4347151106050597, 0.010268860880434482, 0.010268860880434482, 0.1610496244458773, 0.13420802037156443, 0.08947201358104295, 0.5592000848815184, 0.01789440271620859, 0.013420802037156442, 0.031315204753365036, 0.21720043160230956, 0.7964015825418017, 0.3240477790455401, 0.054007963174256685, 0.5400796317425668, 0.054007963174256685, 0.6355811190509768, 0.20011622109850727, 0.22235135677611917, 0.266821628131343, 0.3112918994865668, 0.9138928694464494, 0.03916683726199069, 0.02611122484132713, 0.11649650646083774, 0.8154755452258642, 0.6922568495572711, 0.22352725187147812, 0.3408790591040041, 0.05588181296786953, 0.11735180723252601, 0.07823453815501734, 0.1285281698260999, 0.02235272518714781, 0.027940906483934765, 0.6928610823279827, 0.060746004028053496, 0.574325856265233, 0.02208945601020127, 0.1822380120841605, 0.02208945601020127, 0.038656548017852226, 0.10492491604845604, 0.10112628769832163, 0.45343722548602283, 0.12396125588826523, 0.019572829877094508, 0.2838060332178704, 0.016310691564245423, 0.23501219523240996, 0.09895250325575157, 0.08658344034878263, 0.012369062906968946, 0.4081790759299752, 0.1360596919766584, 0.012369062906968946, 0.23853310644512637, 0.15902207096341758, 0.5565772483719615, 0.7561208633728684, 0.9155293381645286, 0.3155866641832324, 0.33912194083418534, 0.19470092502151964, 0.12088573916171275, 0.014976994232424589, 0.003209355906948126, 0.011767638325476462, 0.8298667184787768, 0.12767180284288873, 0.7560971087437424, 0.6261791051857442, 0.8373802845477387, 0.031014084612879213, 0.12405633845151685, 0.0750191745217401, 0.046886984076087566, 0.8720979038152287, 0.3999032817745501, 0.15845224372199154, 0.19014269246638987, 0.18712455449073287, 0.037726724695712276, 0.003018137975656982, 0.019617896841770382, 0.003018137975656982, 0.21822332535580308, 0.12957009943000808, 0.265959677777385, 0.17730645185159, 0.05455583133895077, 0.13638957834737692, 0.013638957834737692, 0.4976113034547667, 0.04423211586264592, 0.4091470717294748, 0.04423211586264592, 0.43260888680272913, 0.13519027712585285, 0.08111416627551171, 0.32445666510204685, 0.02703805542517057, 0.013519027712585285, 0.7129929744322944, 0.1600596473215355, 0.11640701623384399, 0.0048502923430768325, 0.009700584686153665, 0.9727537894861008, 0.20977043748394758, 0.3086045859138844, 0.19161722654783672, 0.15531080467561503, 0.10085117186728249, 0.0121021406240739, 0.0161361874987652, 0.00605107031203695, 0.054520334411816425, 0.899585517794971, 0.03634688960787762, 0.9752994313099238, 0.05055576027975622, 0.9479205052454293, 0.037941420461444136, 0.9485355115361034, 0.2471563243678981, 0.6590835316477283, 0.23725357526544116, 0.7026355882861142, 0.021291987523821644, 0.018250275020418552, 0.01520856251701546, 0.003041712503403092, 0.5510868548558451, 0.06483374763009943, 0.021611249210033143, 0.010805624605016571, 0.3349743627555137, 0.949207509586836, 0.2582436352656036, 0.13315687443382687, 0.10894653362767653, 0.4680665889189066, 0.017485246137775246, 0.006725094668375095, 0.009415132535725132, 0.34672362427721853, 0.08628145488926175, 0.09427047849011932, 0.42821166500596575, 0.020771461362229682, 0.003195609440343028, 0.017575851921886654, 0.003195609440343028, 0.31709123312777066, 0.299858013936044, 0.2251807307718951, 0.10684595898870533, 0.034466438383453334, 0.005744406397242222, 0.008042168956139111, 0.002297762558896889, 0.2691880210814777, 0.7234428066564714, 0.16820596758713033, 0.05606865586237678, 0.7288925262108982, 0.8719257483304294, 0.019376127740676208, 0.10656870257371914, 0.05153714833143164, 0.661393403586706, 0.13743239555048437, 0.06871619777524218, 0.07730572249714746, 0.7555075180209639, 0.7972417778812626, 0.05627589020338324, 0.03751726013558883, 0.10317246537286928, 0.963858189276988, 0.026050221331810484, 0.9938681795461539, 0.949584467274081, 0.8424470982055813, 0.2550419824555682, 0.1413070443334905, 0.18955823020346285, 0.18955823020346285, 0.1378605310570639, 0.06893026552853194, 0.01378605310570639, 0.6901646659983648, 0.20907929587597524, 0.08322573913509693, 0.010149480382328895, 0.004059792152931558, 0.004059792152931558, 0.6729904410209608, 0.1816005951961323, 0.1295239539266532, 0.009347089458624457, 0.006676492470446041, 0.2573215521866492, 0.4472493645148903, 0.18380110870474942, 0.006126703623491647, 0.09802725797586635, 0.006126703623491647, 0.017746327349339612, 0.18189985533073103, 0.035492654698679224, 0.7586554941842684, 0.15279278001243946, 0.1660791087091733, 0.17272227305754026, 0.15279278001243946, 0.099647465225504, 0.23915391654120957, 0.013286328696733865, 0.15749797942140298, 0.3904637406488949, 0.13124831618450247, 0.1214046924706648, 0.1903100584675286, 0.003281207904612562, 0.003281207904612562, 0.12212931221958426, 0.5292270196181984, 0.36638793665875274, 0.7678538482542804, 0.3072494559015401, 0.2575953329068299, 0.19745090223718093, 0.14849613308746665, 0.06410743579129251, 0.012821487158258501, 0.008858482036614965, 0.0032636512766476187, 0.13330638111065835, 0.29327403844344835, 0.15996765733279, 0.10664510488852667, 0.29327403844344835, 0.9302252537960627, 0.0668117585599382, 0.2940240883675112, 0.250464964164917, 0.22246267003467782, 0.15867966673802192, 0.042003441195358746, 0.029557977137474673, 0.003111366014471018, 0.9450444918215841, 0.34769267857788233, 0.19024693733506767, 0.2591294491287991, 0.042641554919928965, 0.09512346866753384, 0.01312047843690122, 0.05248191374760488, 0.8403496151094727, 0.43246255201633704, 0.298137062374899, 0.1146681009134227, 0.11794433236809192, 0.018019273000680708, 0.00491434718200383, 0.00491434718200383, 0.00819057863667305, 0.1488091423604803, 0.8184502829826417, 0.2798822590053619, 0.4071733429032808, 0.1873788005205389, 0.0948753420357159, 0.011859417754464488, 0.0023718835508928977, 0.016603184856250282, 0.6434765531226322, 0.05849786846569384, 0.02924893423284692, 0.2924893423284692, 0.2501782402354623, 0.7004990726592946, 0.2905904995338994, 0.2574852527515565, 0.22070164521561983, 0.03678360753593664, 0.058853772057498616, 0.11770754411499723, 0.014713443014374654, 0.6261861535464999, 0.7961235554822509, 0.1326872592470418, 0.4931228935276146, 0.21368658719529968, 0.28080609214766944, 0.010958286522835882, 0.0013697858153544852, 0.08936811346169653, 0.8936811346169653, 0.7588608236868187, 0.18783683754624228, 0.022540420505549073, 0.030053894007398763, 0.7406624668793211, 0.1691636498428079, 0.06172187223994343, 0.004571990536292106, 0.02285995268146053, 0.48291424587486426, 0.020996271559776708, 0.20996271559776708, 0.26245339449720884, 0.020996271559776708, 0.7554957361214601, 0.3403770672957829, 0.18424079789404763, 0.3997088496684423, 0.07182268392479822, 0.0031227253880347053, 0.1053905000365662, 0.2107810000731324, 0.6059953752102557, 0.0526952500182831, 0.02634762500914155, 0.13867421727971718, 0.30363982891358143, 0.1690897519247109, 0.32993122326772856, 0.034539674935840335, 0.008248280581693215, 0.0159810436270306, 0.047655413104696606, 0.3063562271016211, 0.2791245624703658, 0.29274039478599345, 0.0034039580789069004, 0.0034039580789069004, 0.06807916157813801, 0.13166616165394796, 0.07949655043257235, 0.07452801603053659, 0.6831734802799186, 0.017389870407125203, 0.004968534402035772, 0.0074528016030536584, 0.14154505832411213, 0.285812137000611, 0.1524331397336592, 0.34569658475312, 0.06260646810489574, 0.010888081409547086, 0.6725248363335539, 0.11503714305705527, 0.1194616485592497, 0.0929146155460831, 0.9177870935582433, 0.05921207055214473, 0.03502800229571654, 0.900720059032711, 0.03502800229571654, 0.015012000983878516, 0.010008000655919011, 0.7413470742838154, 0.032284469363972605, 0.11000634005501778, 0.016740095225763574, 0.06935182307816339, 0.029893027188863525, 0.3785461188451974, 0.41185817730357477, 0.14081915621041344, 0.006056737901523159, 0.04693971873680448, 0.013627660278427106, 0.0015141844753807897, 0.19727006914885487, 0.1315133794325699, 0.6137291040186595, 0.04383779314418997, 0.7427165505932369, 0.02098069351958296, 0.01678455481566637, 0.012588416111749778, 0.20141465778799644, 0.11666168127776905, 0.8166317689443833, 0.09705188775872513, 0.24956199709386462, 0.6239049927346616, 0.006932277697051795, 0.01386455539410359, 0.006932277697051795, 0.006932277697051795, 0.2164805215762763, 0.4329610431525526, 0.3463688345220421, 0.8567148025376796, 0.7562893167227629, 0.5868315838424394, 0.4059286143872513, 0.004412267547687514, 0.9842574918263387, 0.0027264750466103565, 0.010905900186441426, 0.7516354470606241, 0.041185503948527345, 0.18533476776837307, 0.020592751974263673, 0.8418116578165923, 0.7679402925143095, 0.3972660783202161, 0.2666580525711039, 0.12516602467623247, 0.20679604076942754, 0.4959535346801155, 0.44379147677552905, 0.028978921058103575, 0.019043290981039494, 0.010763599250152757, 0.0016559383461773472, 0.96438036365637, 0.7681102113164902, 0.7515934333448759, 0.046974589584054746, 0.09966230492833236, 0.045705006081782996, 0.02158291953861975, 0.027296045298842622, 0.004443542257951125, 0.0025391670045435, 0.3853769597507328, 0.2984919724614767, 0.10930691949293513, 0.15975626695121287, 0.040639752119168183, 0.002802741525459875, 0.00560548305091975, 0.9252968887809307, 0.07375554910572636, 0.25236034216446906, 0.4588369857535801, 0.27530219145214807, 0.3220751942102351, 0.23139382885007184, 0.36585240507376227, 0.045340682680081644, 0.020325133615209014, 0.006253887266218158, 0.010944302715881777, 0.670549859216688, 0.12019289929355728, 0.08223724688506551, 0.006325942068081962, 0.006325942068081962, 0.11386695722547531, 0.9260302411156678, 0.29204654935852487, 0.10951745600944683, 0.565840189382142, 0.03650581866981561, 0.5486237467600404, 0.12191638816889788, 0.3047909704222447, 0.012191638816889788, 0.8471752410240316, 0.8581013565134689, 0.7874133434045573, 0.7416811361300056, 0.1781961171221442, 0.033712778915000255, 0.043345001462143186, 0.9488058369040638, 0.9658567433678378, 0.6953118343365725, 0.9416632529224095, 0.25892351799466, 0.055021247573865256, 0.12622521502239675, 0.47253542034025453, 0.00323654397493325, 0.064730879498665, 0.01618271987466625, 0.693014269270215, 0.6355811222869775, 0.03310569933732724, 0.695219686083872, 0.086902460760484, 0.07034961109182038, 0.020691062085829524, 0.0827642483433181, 0.01655284966866362, 0.23252547789036535, 0.10455843636680859, 0.4073097297274185, 0.16386023609723732, 0.06398352076177839, 0.024969178833864736, 0.003121147354233092, 0.02953604589506452, 0.9451534686420646, 0.2662705611217906, 0.2662705611217906, 0.11411595476648169, 0.3423478642994451, 0.19158344875030994, 0.5747503462509298, 0.028810744194920156, 0.10083760468222056, 0.33852624429031186, 0.15125640702333082, 0.05041880234111028, 0.3169181861441217, 0.014405372097460078, 0.15972792482582304, 0.0871243226322671, 0.21781080658066776, 0.24685224745809015, 0.24685224745809015, 0.04356216131613355, 0.23332077155587477, 0.08555094957048742, 0.48997362026733704, 0.04666415431117495, 0.015554718103724986, 0.06999623146676244, 0.05444151336303745, 0.33355264995824735, 0.22872181711422673, 0.18107143854876284, 0.15248121140948448, 0.03812030285237112, 0.06671052999164946, 0.7559285668361526, 0.9132732960891824, 0.08302484509901659, 0.11096987727708782, 0.27076650055609425, 0.10209228709492078, 0.346226017104514, 0.004438795091083513, 0.004438795091083513, 0.16423541837008995, 0.38948000620987977, 0.10894545628248385, 0.3540727329180725, 0.12801091113191854, 0.005447272814124193, 0.005447272814124193, 0.005447272814124193, 0.15584983388406806, 0.15584983388406806, 0.6233993355362722, 0.9675003951067109, 0.9370450019606499, 0.9954163736914652, 0.30478199172000914, 0.1985700855145514, 0.09389748229757858, 0.36173620229395026, 0.018471635861818735, 0.015393029884848947, 0.0061572119539395785, 0.9465805610649799, 0.9728357808776242, 0.959495184539834, 0.1027143478455581, 0.2054286956911162, 0.2054286956911162, 0.24394657613320045, 0.15407152176833713, 0.0320982337017369, 0.05135717392277905, 0.6355811025500387, 0.9595918297929336, 0.24642822986095156, 0.6160705746523789, 0.755776273012553], \"Term\": [\"  \", \"  \", \"  \", \"  \", \"  \", \"  \", \"  \", \"_\", \"a\", \"a\", \"binex\", \"chargeback\", \"classic\", \"cn\", \"com\", \"https\", \"https\", \"maestro\", \"momentum\", \"pdf\", \"response\", \"responses\", \"retail\", \"ro\", \"ru\", \"ru\", \"ru\", \"ru\", \"ru\", \"ru\", \"rus\", \"services\", \"sms\", \"sms\", \"sms\", \"sms\", \"titantrade\", \"usd\", \"v\", \"visa\", \"visa\", \"visa\", \"visa\", \"visa\", \"www\", \"www\", \"www\", \"xyz\", \"\\u0430\\u0432\\u0442\\u043e\\u043f\\u0435\\u0440\\u0435\\u0432\\u043e\\u0434\", \"\\u0430\\u0432\\u0442\\u043e\\u043f\\u043b\\u0430\\u0442\\u0435\\u0436\", \"\\u0430\\u0432\\u0442\\u043e\\u043f\\u043b\\u0430\\u0442\\u0435\\u0436\", \"\\u0430\\u0432\\u0442\\u043e\\u043f\\u043b\\u0430\\u0442\\u0435\\u0436\\u0430\", \"\\u0430\\u0432\\u0442\\u043e\\u043f\\u043b\\u0430\\u0442\\u0435\\u0436\\u0443\", \"\\u0430\\u0432\\u0442\\u043e\\u043f\\u043b\\u0430\\u0442\\u0451\\u0436\", \"\\u0430\\u0434\\u0440\\u0435\\u0441\", \"\\u0430\\u0434\\u0440\\u0435\\u0441\", \"\\u0430\\u0434\\u0440\\u0435\\u0441\", \"\\u0430\\u0434\\u0440\\u0435\\u0441\", \"\\u0430\\u0434\\u0440\\u0435\\u0441\", \"\\u0430\\u0434\\u0440\\u0435\\u0441\", \"\\u0430\\u0434\\u0440\\u0435\\u0441\", \"\\u0430\\u0434\\u0440\\u0435\\u0441\", \"\\u0430\\u043a\\u043a\\u0440\\u0435\\u0434\\u0438\\u0442\\u0438\\u0432\", \"\\u0430\\u043a\\u043a\\u0440\\u0435\\u0434\\u0438\\u0442\\u0438\\u0432\", \"\\u0430\\u043a\\u0442\", \"\\u0430\\u043a\\u0442\", \"\\u0430\\u043a\\u0442\", \"\\u0430\\u043a\\u0442\", \"\\u0430\\u043a\\u0442\", \"\\u0430\\u043a\\u0442\\u0438\\u0432\\u0438\\u0440\\u043e\\u0432\\u0430\\u0442\\u044c\", \"\\u0430\\u043d\\u043a\\u0435\\u0442\\u0430\", \"\\u0430\\u043d\\u043a\\u0435\\u0442\\u0430\", \"\\u0430\\u043d\\u0442\\u0438\\u0432\\u0438\\u0440\\u0443\\u0441\", \"\\u0430\\u0440\\u0435\\u0441\\u0442\", \"\\u0430\\u0440\\u0435\\u0441\\u0442\", \"\\u0430\\u0440\\u0435\\u0441\\u0442\\u043e\\u0432\\u0430\\u0442\\u044c\", \"\\u0430\\u0440\\u0445\\u0438\\u0432\\u043d\\u044b\\u0439\", \"\\u0430\\u0440\\u0445\\u0438\\u0432\\u043d\\u044b\\u0439\", \"\\u0430\\u0440\\u0445\\u0438\\u0432\\u043d\\u044b\\u0439\", \"\\u0430\\u044d\\u0440\\u043e\\u0444\\u043b\\u043e\\u0442\", \"\\u0431\\u0430\\u0431\\u0443\\u043b\\u044f\", \"\\u0431\\u0430\\u043d\\u043a\", \"\\u0431\\u0430\\u043d\\u043a\", \"\\u0431\\u0430\\u043d\\u043a\", \"\\u0431\\u0430\\u043d\\u043a\", \"\\u0431\\u0430\\u043d\\u043a\", \"\\u0431\\u0430\\u043d\\u043a\", \"\\u0431\\u0430\\u043d\\u043a\", \"\\u0431\\u0430\\u043d\\u043a\", \"\\u0431\\u0430\\u043d\\u043a\\u043e\\u043c\\u0430\\u0442\", \"\\u0431\\u0430\\u043d\\u043a\\u043e\\u043c\\u0430\\u0442\", \"\\u0431\\u0430\\u043d\\u043a\\u043e\\u043c\\u0430\\u0442\", \"\\u0431\\u0430\\u043d\\u043a\\u043e\\u043c\\u0430\\u0442\", \"\\u0431\\u0430\\u043d\\u043a\\u0445\\u043e\\u0440\\u043e\\u0448\\u0438\\u0439\", \"\\u0431\\u0430\\u0442\", \"\\u0431\\u0435\\u0437\\u0440\\u0430\\u0431\\u043e\\u0442\\u043d\\u044b\\u0439\", \"\\u0431\\u0435\\u0440\", \"\\u0431\\u0435\\u0440\", \"\\u0431\\u0435\\u0440\", \"\\u0431\\u0435\\u0440\", \"\\u0431\\u0435\\u0441\\u043f\\u0440\\u043e\\u0446\\u0435\\u043d\\u0442\\u043d\\u044b\\u0439\", \"\\u0431\\u0438\\u043d\\u0430\\u0440\\u043d\\u044b\\u0439\", \"\\u0431\\u0438\\u043e\\u043c\\u0435\\u0442\\u0440\\u0438\\u044f\", \"\\u0431\\u0438\\u043e\\u043c\\u0435\\u0442\\u0440\\u0438\\u044f\", \"\\u0431\\u0438\\u043e\\u043c\\u0435\\u0442\\u0440\\u0438\\u044f\", \"\\u0431\\u043a\\u0438\", \"\\u0431\\u043b\\u0430\\u0433\\u043e\\u0434\\u0430\\u0440\\u043d\\u043e\\u0441\\u0442\\u044c\", \"\\u0431\\u043e\\u0442\\u0430\\u043d\\u0438\\u0447\\u0435\\u0441\\u043a\\u0438\\u0439\", \"\\u0431\\u044b\\u0441\\u0442\\u0440\\u043e\", \"\\u0431\\u044b\\u0441\\u0442\\u0440\\u043e\", \"\\u0431\\u044b\\u0441\\u0442\\u0440\\u043e\", \"\\u0431\\u044b\\u0441\\u0442\\u0440\\u043e\", \"\\u0431\\u044b\\u0441\\u0442\\u0440\\u044b\\u0439\", \"\\u0431\\u044b\\u0441\\u0442\\u0440\\u044b\\u0439\", \"\\u0431\\u044b\\u0441\\u0442\\u0440\\u044b\\u0439\", \"\\u0431\\u044e\\u0440\\u043e\", \"\\u0432\\u0430\\u043b\\u044f\\u0442\\u044c\\u0441\\u044f\", \"\\u0432\\u0435\\u0436\\u043b\\u0438\\u0432\\u044b\\u0439\", \"\\u0432\\u0435\\u0436\\u043b\\u0438\\u0432\\u044b\\u0439\", \"\\u0432\\u0435\\u0436\\u043b\\u0438\\u0432\\u044b\\u0439\", \"\\u0432\\u0435\\u0440\\u043d\\u0443\\u0442\\u044c\", \"\\u0432\\u0435\\u0440\\u043d\\u0443\\u0442\\u044c\", \"\\u0432\\u0435\\u0440\\u043d\\u0443\\u0442\\u044c\", \"\\u0432\\u0435\\u0440\\u043d\\u0443\\u0442\\u044c\", \"\\u0432\\u0435\\u0440\\u043d\\u0443\\u0442\\u044c\", \"\\u0432\\u0437\\u044b\\u0441\\u043a\\u0430\\u043d\\u0438\\u0435\", \"\\u0432\\u0437\\u044b\\u0441\\u043a\\u0430\\u043d\\u0438\\u0435\", \"\\u0432\\u0437\\u044b\\u0441\\u043a\\u0430\\u043d\\u0438\\u0435\", \"\\u0432\\u0437\\u044b\\u0441\\u043a\\u0430\\u043d\\u0438\\u0435\", \"\\u0432\\u0437\\u044b\\u0441\\u043a\\u0430\\u0442\\u0435\\u043b\\u044e\", \"\\u0432\\u0437\\u044b\\u0441\\u043a\\u0430\\u0442\\u0435\\u043b\\u044f\", \"\\u0432\\u0437\\u044f\\u0442\\u044c\", \"\\u0432\\u0437\\u044f\\u0442\\u044c\", \"\\u0432\\u0437\\u044f\\u0442\\u044c\", \"\\u0432\\u0437\\u044f\\u0442\\u044c\", \"\\u0432\\u0437\\u044f\\u0442\\u044c\", \"\\u0432\\u0437\\u044f\\u0442\\u044c\", \"\\u0432\\u0437\\u044f\\u0442\\u044c\", \"\\u0432\\u0438\\u0440\\u0443\\u0441\", \"\\u0432\\u043a\\u043b\\u0430\\u0434\", \"\\u0432\\u043a\\u043b\\u0430\\u0434\", \"\\u0432\\u043a\\u043b\\u0430\\u0434\", \"\\u0432\\u043a\\u043b\\u0430\\u0434\", \"\\u0432\\u043a\\u043b\\u0430\\u0434\", \"\\u0432\\u043a\\u043b\\u0430\\u0434\", \"\\u0432\\u043a\\u043b\\u0430\\u0434\", \"\\u0432\\u043a\\u043b\\u0430\\u0434\\u0447\\u0438\\u043a\", \"\\u0432\\u043a\\u043b\\u0430\\u0434\\u0447\\u0438\\u043a\", \"\\u0432\\u043a\\u043b\\u0430\\u0434\\u0447\\u0438\\u043a\", \"\\u0432\\u043a\\u043b\\u0430\\u0434\\u0447\\u0438\\u043a\", \"\\u0432\\u043a\\u043b\\u0430\\u0434\\u0447\\u0438\\u043a\", \"\\u0432\\u043b\\u0430\\u0434\\u0438\\u043c\\u0438\\u0440\\u043e\\u0432\\u043d\\u0435\", \"\\u0432\\u043c\\u0441\\u0440\", \"\\u0432\\u043d\\u0435\\u0441\\u0435\\u043d\\u0438\\u0435\", \"\\u0432\\u043d\\u0435\\u0441\\u0435\\u043d\\u0438\\u0435\", \"\\u0432\\u043d\\u0435\\u0441\\u0435\\u043d\\u0438\\u0435\", \"\\u0432\\u043d\\u0435\\u0441\\u0435\\u043d\\u0438\\u0435\", \"\\u0432\\u043d\\u0435\\u0441\\u0435\\u043d\\u0438\\u0435\", \"\\u0432\\u043d\\u0435\\u0441\\u0442\\u0438\", \"\\u0432\\u043d\\u0435\\u0441\\u0442\\u0438\", \"\\u0432\\u043d\\u0435\\u0441\\u0442\\u0438\", \"\\u0432\\u043d\\u0435\\u0441\\u0442\\u0438\", \"\\u0432\\u043d\\u0435\\u0441\\u0442\\u0438\", \"\\u0432\\u043d\\u0438\\u043c\\u0430\\u0442\\u0435\\u043b\\u044c\\u043d\\u044b\\u0439\", \"\\u0432\\u043d\\u0438\\u043c\\u0430\\u0442\\u0435\\u043b\\u044c\\u043d\\u044b\\u0439\", \"\\u0432\\u043d\\u0438\\u043c\\u0430\\u0442\\u0435\\u043b\\u044c\\u043d\\u044b\\u0439\", \"\\u0432\\u043d\\u0438\\u043c\\u0430\\u0442\\u0435\\u043b\\u044c\\u043d\\u044b\\u0439\", \"\\u0432\\u043d\\u0438\\u043c\\u0430\\u0442\\u0435\\u043b\\u044c\\u043d\\u044b\\u0439\", \"\\u0432\\u043d\\u043e\\u0441\", \"\\u0432\\u043d\\u043e\\u0441\\u0438\\u043b\\u0430\", \"\\u0432\\u043e\\u0437\", \"\\u0432\\u043e\\u0437\\u0432\\u0440\\u0430\\u0442\", \"\\u0432\\u043e\\u0437\\u0432\\u0440\\u0430\\u0442\", \"\\u0432\\u043e\\u0437\\u0432\\u0440\\u0430\\u0442\", \"\\u0432\\u043e\\u0437\\u0432\\u0440\\u0430\\u0442\", \"\\u0432\\u043e\\u0437\\u043c\\u0443\\u0449\\u0430\\u0442\\u044c\", \"\\u0432\\u043e\\u0439\", \"\\u0432\\u043e\\u0439\", \"\\u0432\\u043e\\u0439\", \"\\u0432\\u043e\\u0439\", \"\\u0432\\u043e\\u043f\\u0440\\u043e\\u0441\", \"\\u0432\\u043e\\u043f\\u0440\\u043e\\u0441\", \"\\u0432\\u043e\\u043f\\u0440\\u043e\\u0441\", \"\\u0432\\u043e\\u043f\\u0440\\u043e\\u0441\", \"\\u0432\\u043e\\u043f\\u0440\\u043e\\u0441\", \"\\u0432\\u043e\\u043f\\u0440\\u043e\\u0441\", \"\\u0432\\u043e\\u043f\\u0440\\u043e\\u0441\", \"\\u0432\\u043e\\u043f\\u0440\\u043e\\u0441\", \"\\u0432\\u043e\\u0440\\u043e\\u0432\\u0430\\u0442\\u044c\", \"\\u0432\\u043e\\u0440\\u043e\\u043d\\u0435\\u0436\", \"\\u0432\\u043e\\u0440\\u043e\\u043d\\u0435\\u0436\", \"\\u0432\\u043e\\u0440\\u043e\\u043d\\u0435\\u0436\", \"\\u0432\\u043e\\u0440\\u043e\\u043d\\u0435\\u0436\", \"\\u0432\\u043e\\u0440\\u043e\\u043d\\u0447\\u0438\\u0445\\u0438\\u043d\", \"\\u0432\\u0440\\u0435\\u043c\\u044f\", \"\\u0432\\u0440\\u0435\\u043c\\u044f\", \"\\u0432\\u0440\\u0435\\u043c\\u044f\", \"\\u0432\\u0440\\u0435\\u043c\\u044f\", \"\\u0432\\u0440\\u0435\\u043c\\u044f\", \"\\u0432\\u0440\\u0435\\u043c\\u044f\", \"\\u0432\\u0440\\u0435\\u043c\\u044f\", \"\\u0432\\u0440\\u0435\\u043c\\u044f\", \"\\u0432\\u044b\\u0434\\u0430\\u0442\\u044c\", \"\\u0432\\u044b\\u0434\\u0430\\u0442\\u044c\", \"\\u0432\\u044b\\u0434\\u0430\\u0442\\u044c\", \"\\u0432\\u044b\\u0434\\u0430\\u0442\\u044c\", \"\\u0432\\u044b\\u0434\\u0430\\u0442\\u044c\", \"\\u0432\\u044b\\u0434\\u0430\\u0442\\u044c\", \"\\u0432\\u044b\\u0434\\u0430\\u0442\\u044c\", \"\\u0432\\u044b\\u0434\\u0435\\u0440\\u0436\\u0438\\u0432\\u0430\\u0442\\u044c\", \"\\u0432\\u044b\\u0437\\u043e\\u0432\", \"\\u0432\\u044b\\u0437\\u043e\\u0432\", \"\\u0432\\u044b\\u0437\\u043e\\u0432\", \"\\u0432\\u044b\\u0437\\u043e\\u0432\", \"\\u0432\\u044b\\u043a\\u0443\\u043f\\u043d\\u043e\\u0439\", \"\\u0432\\u044b\\u043f\\u043b\\u0430\\u0442\\u0430\", \"\\u0432\\u044b\\u043f\\u043b\\u0430\\u0442\\u0430\", \"\\u0432\\u044b\\u043f\\u043b\\u0430\\u0442\\u0430\", \"\\u0432\\u044b\\u043f\\u043b\\u0430\\u0442\\u0430\", \"\\u0432\\u044b\\u043f\\u043b\\u0430\\u0442\\u0430\", \"\\u0432\\u044b\\u043f\\u043b\\u0430\\u0442\\u0430\", \"\\u0432\\u044b\\u043f\\u0443\\u0441\\u043a\", \"\\u0432\\u044b\\u043f\\u0443\\u0441\\u0442\\u0438\\u0442\\u044c\", \"\\u0432\\u044b\\u0440\\u0430\\u0436\\u0430\\u0442\\u044c\", \"\\u0432\\u044b\\u0440\\u0430\\u0437\\u0438\\u0442\\u044c\", \"\\u0432\\u044b\\u0441\\u043e\\u0442\\u043d\\u044b\\u0439\", \"\\u0433\\u0435\\u043e\\u0440\\u0433\\u0438\\u0435\\u0432\\u0438\\u0447\", \"\\u0433\\u043a\", \"\\u0433\\u043a\", \"\\u0433\\u043a\", \"\\u0433\\u043b\\u0430\\u0434\\u043a\\u043e\", \"\\u0433\\u043e\\u0432\\u043e\\u0440\\u0438\\u0442\\u044c\", \"\\u0433\\u043e\\u0432\\u043e\\u0440\\u0438\\u0442\\u044c\", \"\\u0433\\u043e\\u0432\\u043e\\u0440\\u0438\\u0442\\u044c\", \"\\u0433\\u043e\\u0432\\u043e\\u0440\\u0438\\u0442\\u044c\", \"\\u0433\\u043e\\u0432\\u043e\\u0440\\u0438\\u0442\\u044c\", \"\\u0433\\u043e\\u0432\\u043e\\u0440\\u0438\\u0442\\u044c\", \"\\u0433\\u043e\\u0432\\u043e\\u0440\\u0438\\u0442\\u044c\", \"\\u0433\\u043e\\u0432\\u043e\\u0440\\u0438\\u0442\\u044c\", \"\\u0433\\u043e\\u0434\", \"\\u0433\\u043e\\u0434\", \"\\u0433\\u043e\\u0434\", \"\\u0433\\u043e\\u0434\", \"\\u0433\\u043e\\u0434\", \"\\u0433\\u043e\\u0434\", \"\\u0433\\u043e\\u0434\", \"\\u0433\\u043e\\u0434\", \"\\u0433\\u043e\\u043d\\u043e\\u0440\\u0430\\u0440\", \"\\u0433\\u043e\\u0440\\u0435\\u043d\\u0438\\u0435\", \"\\u0433\\u043e\\u0441\\u043f\\u043e\\u0448\\u043b\\u0438\\u043d\\u0430\", \"\\u0433\\u043e\\u0441\\u0442\\u0438\\u043d\\u0438\\u0446\\u0430\", \"\\u0433\\u0440\\u0430\\u043c\\u043e\\u0442\\u043d\\u043e\", \"\\u0433\\u0440\\u0430\\u043c\\u043e\\u0442\\u043d\\u043e\", \"\\u0433\\u0440\\u0430\\u043c\\u043e\\u0442\\u043d\\u044b\\u0439\", \"\\u0433\\u0440\\u0430\\u043c\\u043e\\u0442\\u043d\\u044b\\u0439\", \"\\u0433\\u0440\\u0430\\u043c\\u043e\\u0442\\u043d\\u044b\\u0439\", \"\\u0433\\u0440\\u0430\\u0444\\u0438\\u043a\", \"\\u0433\\u0440\\u0430\\u0444\\u0438\\u043a\", \"\\u0433\\u0440\\u0430\\u0444\\u0438\\u043a\", \"\\u0433\\u0440\\u0438\\u0433\\u043e\\u0440\\u0438\\u0435\\u0432\\u0438\\u0447\", \"\\u0434\\u0430\\u0442\\u044c\", \"\\u0434\\u0430\\u0442\\u044c\", \"\\u0434\\u0430\\u0442\\u044c\", \"\\u0434\\u0430\\u0442\\u044c\", \"\\u0434\\u0430\\u0442\\u044c\", \"\\u0434\\u0430\\u0442\\u044c\", \"\\u0434\\u0430\\u0442\\u044c\", \"\\u0434\\u0435\\u0431\\u0435\\u0442\\u043e\\u0432\\u044b\\u0439\", \"\\u0434\\u0435\\u0431\\u0435\\u0442\\u043e\\u0432\\u044b\\u0439\", \"\\u0434\\u0435\\u0431\\u0435\\u0442\\u043e\\u0432\\u044b\\u0439\", \"\\u0434\\u0435\\u0431\\u0435\\u0442\\u043e\\u0432\\u044b\\u0439\", \"\\u0434\\u0435\\u0432\\u0443\\u0448\\u043a\\u0430\", \"\\u0434\\u0435\\u0432\\u0443\\u0448\\u043a\\u0430\", \"\\u0434\\u0435\\u0432\\u0443\\u0448\\u043a\\u0430\", \"\\u0434\\u0435\\u0432\\u0443\\u0448\\u043a\\u0430\", \"\\u0434\\u0435\\u0432\\u0443\\u0448\\u043a\\u0430\", \"\\u0434\\u0435\\u0439\\u0441\\u0442\\u0432\\u0438\\u0435\", \"\\u0434\\u0435\\u0439\\u0441\\u0442\\u0432\\u0438\\u0435\", \"\\u0434\\u0435\\u0439\\u0441\\u0442\\u0432\\u0438\\u0435\", \"\\u0434\\u0435\\u0439\\u0441\\u0442\\u0432\\u0438\\u0435\", \"\\u0434\\u0435\\u0439\\u0441\\u0442\\u0432\\u0438\\u0435\", \"\\u0434\\u0435\\u0439\\u0441\\u0442\\u0432\\u0438\\u0435\", \"\\u0434\\u0435\\u043a\\u0440\\u0435\\u0442\", \"\\u0434\\u0435\\u043a\\u0440\\u0435\\u0442\", \"\\u0434\\u0435\\u043a\\u0440\\u0435\\u0442\", \"\\u0434\\u0435\\u043b\\u0430\\u0442\\u044c\", \"\\u0434\\u0435\\u043b\\u0430\\u0442\\u044c\", \"\\u0434\\u0435\\u043b\\u0430\\u0442\\u044c\", \"\\u0434\\u0435\\u043b\\u0430\\u0442\\u044c\", \"\\u0434\\u0435\\u043b\\u0430\\u0442\\u044c\", \"\\u0434\\u0435\\u043b\\u0430\\u0442\\u044c\", \"\\u0434\\u0435\\u043b\\u0430\\u0442\\u044c\", \"\\u0434\\u0435\\u043b\\u0430\\u0442\\u044c\", \"\\u0434\\u0435\\u043d\\u0435\\u0436\\u043d\\u044b\\u0439\", \"\\u0434\\u0435\\u043d\\u0435\\u0436\\u043d\\u044b\\u0439\", \"\\u0434\\u0435\\u043d\\u0435\\u0436\\u043d\\u044b\\u0439\", \"\\u0434\\u0435\\u043d\\u0435\\u0436\\u043d\\u044b\\u0439\", \"\\u0434\\u0435\\u043d\\u0435\\u0436\\u043d\\u044b\\u0439\", \"\\u0434\\u0435\\u043d\\u0435\\u0436\\u043d\\u044b\\u0439\", \"\\u0434\\u0435\\u043d\\u044c\", \"\\u0434\\u0435\\u043d\\u044c\", \"\\u0434\\u0435\\u043d\\u044c\", \"\\u0434\\u0435\\u043d\\u044c\", \"\\u0434\\u0435\\u043d\\u044c\", \"\\u0434\\u0435\\u043d\\u044c\", \"\\u0434\\u0435\\u043d\\u044c\", \"\\u0434\\u0435\\u043d\\u044c\\u0433\\u0430\", \"\\u0434\\u0435\\u043d\\u044c\\u0433\\u0430\", \"\\u0434\\u0435\\u043d\\u044c\\u0433\\u0430\", \"\\u0434\\u0435\\u043d\\u044c\\u0433\\u0430\", \"\\u0434\\u0435\\u043d\\u044c\\u0433\\u0430\", \"\\u0434\\u0435\\u043d\\u044c\\u0433\\u0430\", \"\\u0434\\u0435\\u043d\\u044c\\u0433\\u0430\", \"\\u0434\\u0435\\u043d\\u044c\\u0433\\u0430\", \"\\u0434\\u0435\\u043f\\u043e\\u0437\\u0438\\u0442\\u0430\\u0440\\u0438\\u0439\", \"\\u0434\\u0435\\u0442\\u0430\\u043b\\u0438\\u0437\\u0430\\u0446\\u0438\\u044f\", \"\\u0434\\u0435\\u0444\\u0438\\u0441\", \"\\u0434\\u0438\\u0432\\u0438\\u0434\\u0435\\u043d\\u0434\", \"\\u0434\\u0438\\u0437\\u0430\\u0439\\u043d\", \"\\u0434\\u043a\\u043f\", \"\\u0434\\u043a\\u043f\", \"\\u0434\\u043e\\u0431\\u0440\\u043e\\u0436\\u0435\\u043b\\u0430\\u0442\\u0435\\u043b\\u044c\\u043d\\u043e\\u0441\\u0442\\u044c\", \"\\u0434\\u043e\\u0431\\u0440\\u043e\\u0436\\u0435\\u043b\\u0430\\u0442\\u0435\\u043b\\u044c\\u043d\\u044b\\u0439\", \"\\u0434\\u043e\\u0432\\u043e\\u043b\\u044c\\u043d\\u044b\\u0439\", \"\\u0434\\u043e\\u0432\\u043e\\u043b\\u044c\\u043d\\u044b\\u0439\", \"\\u0434\\u043e\\u0432\\u043e\\u043b\\u044c\\u043d\\u044b\\u0439\", \"\\u0434\\u043e\\u0432\\u043e\\u043b\\u044c\\u043d\\u044b\\u0439\", \"\\u0434\\u043e\\u0432\\u043e\\u043b\\u044c\\u043d\\u044b\\u0439\", \"\\u0434\\u043e\\u0433\\u043e\\u0432\\u043e\\u0440\", \"\\u0434\\u043e\\u0433\\u043e\\u0432\\u043e\\u0440\", \"\\u0434\\u043e\\u0433\\u043e\\u0432\\u043e\\u0440\", \"\\u0434\\u043e\\u0433\\u043e\\u0432\\u043e\\u0440\", \"\\u0434\\u043e\\u0433\\u043e\\u0432\\u043e\\u0440\", \"\\u0434\\u043e\\u0433\\u043e\\u0432\\u043e\\u0440\", \"\\u0434\\u043e\\u0433\\u043e\\u0432\\u043e\\u0440\", \"\\u0434\\u043e\\u0433\\u043e\\u0432\\u043e\\u0440\\u0438\\u0442\\u044c\\u0441\\u044f\", \"\\u0434\\u043e\\u043a\\u0443\\u043c\\u0435\\u043d\\u0442\", \"\\u0434\\u043e\\u043a\\u0443\\u043c\\u0435\\u043d\\u0442\", \"\\u0434\\u043e\\u043a\\u0443\\u043c\\u0435\\u043d\\u0442\", \"\\u0434\\u043e\\u043a\\u0443\\u043c\\u0435\\u043d\\u0442\", \"\\u0434\\u043e\\u043a\\u0443\\u043c\\u0435\\u043d\\u0442\", \"\\u0434\\u043e\\u043a\\u0443\\u043c\\u0435\\u043d\\u0442\", \"\\u0434\\u043e\\u043a\\u0443\\u043c\\u0435\\u043d\\u0442\", \"\\u0434\\u043e\\u043a\\u0443\\u043c\\u0435\\u043d\\u0442\", \"\\u0434\\u043e\\u043a\\u0443\\u043c\\u0435\\u043d\\u0442\\u0430\\u0446\\u0438\\u044f\", \"\\u0434\\u043e\\u043a\\u0443\\u043c\\u0435\\u043d\\u0442\\u0430\\u0446\\u0438\\u044f\", \"\\u0434\\u043e\\u043a\\u0443\\u043c\\u0435\\u043d\\u0442\\u0430\\u0446\\u0438\\u044f\", \"\\u0434\\u043e\\u043b\\u0436\\u043d\\u0438\\u043a\", \"\\u0434\\u043e\\u043b\\u0436\\u043d\\u0438\\u043a\", \"\\u0434\\u043e\\u043b\\u0436\\u043d\\u0438\\u043a\", \"\\u0434\\u043e\\u043c\\u043a\\u043b\\u0438\\u043a\", \"\\u0434\\u043e\\u043c\\u043a\\u043b\\u0438\\u043a\", \"\\u0434\\u043e\\u043c\\u043a\\u043b\\u0438\\u043a\", \"\\u0434\\u043e\\u0440\", \"\\u0434\\u043e\\u0441\\u0440\\u043e\\u0447\\u043d\\u043e\", \"\\u0434\\u043e\\u0441\\u0440\\u043e\\u0447\\u043d\\u043e\", \"\\u0434\\u043e\\u0441\\u0440\\u043e\\u0447\\u043d\\u044b\\u0439\", \"\\u0434\\u043e\\u0441\\u0440\\u043e\\u0447\\u043d\\u044b\\u0439\", \"\\u0434\\u043e\\u0441\\u0440\\u043e\\u0447\\u043d\\u044b\\u0439\", \"\\u0434\\u043e\\u0441\\u0442\\u0430\\u0432\\u0438\\u0442\\u044c\", \"\\u0434\\u043e\\u0441\\u0442\\u0430\\u0432\\u0438\\u0442\\u044c\", \"\\u0434\\u043e\\u0441\\u0442\\u0430\\u0432\\u0438\\u0442\\u044c\", \"\\u0434\\u043e\\u0441\\u0442\\u0430\\u0432\\u0438\\u0442\\u044c\", \"\\u0435\\u0436\\u0435\\u043c\\u0435\\u0441\\u044f\\u0447\\u043d\\u044b\\u0439\", \"\\u0435\\u0436\\u0435\\u043c\\u0435\\u0441\\u044f\\u0447\\u043d\\u044b\\u0439\", \"\\u0436\\u0430\\u043b\\u043e\\u0431\\u043d\\u044b\\u0439\", \"\\u0436\\u0438\\u0437\\u043d\\u044c\", \"\\u0436\\u0438\\u0437\\u043d\\u044c\", \"\\u0436\\u0438\\u0437\\u043d\\u044c\", \"\\u0436\\u0438\\u0437\\u043d\\u044c\", \"\\u0436\\u0438\\u0437\\u043d\\u044c\", \"\\u0436\\u0438\\u0437\\u043d\\u044c\", \"\\u0436\\u0438\\u0437\\u043d\\u044c\", \"\\u0436\\u043a\", \"\\u0436\\u043a\", \"\\u0437\\u0430\\u0431\\u043b\\u043e\\u043a\\u0438\\u0440\\u043e\\u0432\\u0430\\u0442\\u044c\", \"\\u0437\\u0430\\u0431\\u043b\\u043e\\u043a\\u0438\\u0440\\u043e\\u0432\\u0430\\u0442\\u044c\", \"\\u0437\\u0430\\u0431\\u043b\\u043e\\u043a\\u0438\\u0440\\u043e\\u0432\\u0430\\u0442\\u044c\", \"\\u0437\\u0430\\u0432\\u0435\\u0449\\u0430\\u043d\\u0438\\u0435\", \"\\u0437\\u0430\\u0434\\u043e\\u043b\\u0436\\u0435\\u043d\\u043d\\u043e\\u0441\\u0442\\u044c\", \"\\u0437\\u0430\\u0434\\u043e\\u043b\\u0436\\u0435\\u043d\\u043d\\u043e\\u0441\\u0442\\u044c\", \"\\u0437\\u0430\\u0434\\u043e\\u043b\\u0436\\u0435\\u043d\\u043d\\u043e\\u0441\\u0442\\u044c\", \"\\u0437\\u0430\\u0434\\u043e\\u043b\\u0436\\u0435\\u043d\\u043d\\u043e\\u0441\\u0442\\u044c\", \"\\u0437\\u0430\\u0434\\u043e\\u043b\\u0436\\u0435\\u043d\\u043d\\u043e\\u0441\\u0442\\u044c\", \"\\u0437\\u0430\\u043a\\u043b\\u0430\\u0434\\u043d\\u0430\\u044f\", \"\\u0437\\u0430\\u043a\\u043b\\u0430\\u0434\\u043d\\u043e\\u0439\", \"\\u0437\\u0430\\u043a\\u043b\\u0430\\u0434\\u043d\\u0443\\u044e\", \"\\u0437\\u0430\\u043a\\u043b\\u0430\\u0434\\u043d\\u0443\\u044e\", \"\\u0437\\u0430\\u043a\\u043e\\u043d\", \"\\u0437\\u0430\\u043a\\u043e\\u043d\", \"\\u0437\\u0430\\u043a\\u043e\\u043d\", \"\\u0437\\u0430\\u043a\\u043e\\u043d\", \"\\u0437\\u0430\\u043a\\u043e\\u043d\", \"\\u0437\\u0430\\u043a\\u043e\\u043d\", \"\\u0437\\u0430\\u043a\\u043e\\u043d\", \"\\u0437\\u0430\\u043a\\u043e\\u043d\", \"\\u0437\\u0430\\u043b\", \"\\u0437\\u0430\\u043b\", \"\\u0437\\u0430\\u043b\", \"\\u0437\\u0430\\u043b\", \"\\u0437\\u0430\\u043e\", \"\\u0437\\u0430\\u0441\\u0435\\u0434\\u0430\\u043d\\u0438\\u0435\", \"\\u0437\\u0430\\u0445\\u043e\\u0440\\u043e\\u043d\\u0435\\u043d\\u0438\\u0435\", \"\\u0437\\u0430\\u0447\\u0438\\u0441\\u043b\\u0435\\u043d\\u0438\\u0435\", \"\\u0437\\u0430\\u0447\\u0438\\u0441\\u043b\\u0435\\u043d\\u0438\\u0435\", \"\\u0437\\u0430\\u0447\\u0438\\u0441\\u043b\\u0438\\u0442\\u044c\", \"\\u0437\\u0430\\u0447\\u0438\\u0441\\u043b\\u0438\\u0442\\u044c\", \"\\u0437\\u0430\\u0447\\u0438\\u0441\\u043b\\u0438\\u0442\\u044c\\u0441\\u044f\", \"\\u0437\\u0430\\u044f\\u0432\\u043a\\u0430\", \"\\u0437\\u0430\\u044f\\u0432\\u043a\\u0430\", \"\\u0437\\u0430\\u044f\\u0432\\u043a\\u0430\", \"\\u0437\\u0430\\u044f\\u0432\\u043a\\u0430\", \"\\u0437\\u0430\\u044f\\u0432\\u043a\\u0430\", \"\\u0437\\u0430\\u044f\\u0432\\u043b\\u0435\\u043d\\u0438\\u0435\", \"\\u0437\\u0430\\u044f\\u0432\\u043b\\u0435\\u043d\\u0438\\u0435\", \"\\u0437\\u0430\\u044f\\u0432\\u043b\\u0435\\u043d\\u0438\\u0435\", \"\\u0437\\u0430\\u044f\\u0432\\u043b\\u0435\\u043d\\u0438\\u0435\", \"\\u0437\\u0430\\u044f\\u0432\\u043b\\u0435\\u043d\\u0438\\u0435\", \"\\u0437\\u0430\\u044f\\u0432\\u043b\\u0435\\u043d\\u0438\\u0435\", \"\\u0437\\u0430\\u044f\\u0432\\u043b\\u0435\\u043d\\u0438\\u0435\", \"\\u0437\\u0430\\u0451\\u043c\", \"\\u0437\\u0430\\u0451\\u043c\", \"\\u0437\\u0430\\u0451\\u043c\", \"\\u0438\\u0434\\u0435\\u043d\\u0442\\u0438\\u0444\\u0438\\u0446\\u0438\\u0440\\u0443\\u0435\\u0442\\u0441\\u044f\", \"\\u0438\\u0434\\u0442\\u0438\", \"\\u0438\\u0434\\u0442\\u0438\", \"\\u0438\\u0434\\u0442\\u0438\", \"\\u0438\\u0434\\u0442\\u0438\", \"\\u0438\\u0434\\u0442\\u0438\", \"\\u0438\\u0434\\u0442\\u0438\", \"\\u0438\\u0434\\u0442\\u0438\", \"\\u0438\\u0437\\u043b\\u0438\\u0448\\u0435\\u043a\", \"\\u0438\\u0437\\u043b\\u0438\\u0448\\u043d\\u0435\", \"\\u0438\\u043c\\u0435\\u043d\\u043d\\u043e\\u0439\", \"\\u0438\\u043c\\u044f\", \"\\u0438\\u043c\\u044f\", \"\\u0438\\u043c\\u044f\", \"\\u0438\\u043c\\u044f\", \"\\u0438\\u043c\\u044f\", \"\\u0438\\u043c\\u044f\", \"\\u0438\\u043c\\u044f\", \"\\u0438\\u043d\\u0432\\u0435\\u043d\\u0442\\u0430\\u0440\\u0438\\u0437\\u0430\\u0446\\u0438\\u044f\", \"\\u0438\\u043d\\u0444\\u043e\\u0440\\u043c\\u0430\\u0446\\u0438\\u044f\", \"\\u0438\\u043d\\u0444\\u043e\\u0440\\u043c\\u0430\\u0446\\u0438\\u044f\", \"\\u0438\\u043d\\u0444\\u043e\\u0440\\u043c\\u0430\\u0446\\u0438\\u044f\", \"\\u0438\\u043d\\u0444\\u043e\\u0440\\u043c\\u0430\\u0446\\u0438\\u044f\", \"\\u0438\\u043d\\u0444\\u043e\\u0440\\u043c\\u0430\\u0446\\u0438\\u044f\", \"\\u0438\\u043d\\u0444\\u043e\\u0440\\u043c\\u0430\\u0446\\u0438\\u044f\", \"\\u0438\\u043d\\u0444\\u043e\\u0440\\u043c\\u0430\\u0446\\u0438\\u044f\", \"\\u0438\\u043d\\u0444\\u0440\\u0430\\u0441\\u0442\\u0440\\u0443\\u043a\\u0442\\u0443\\u0440\\u0430\", \"\\u0438\\u043f\\u043e\\u0442\\u0435\\u043a\\u0430\", \"\\u0438\\u043f\\u043e\\u0442\\u0435\\u043a\\u0430\", \"\\u0438\\u043f\\u043e\\u0442\\u0435\\u043a\\u0430\", \"\\u0438\\u043f\\u043e\\u0442\\u0435\\u043a\\u0430\", \"\\u0438\\u043f\\u043e\\u0442\\u0435\\u043a\\u0430\", \"\\u0438\\u043f\\u043e\\u0442\\u0435\\u0447\\u043d\\u044b\\u0439\", \"\\u0438\\u043f\\u043e\\u0442\\u0435\\u0447\\u043d\\u044b\\u0439\", \"\\u0438\\u043f\\u043e\\u0442\\u0435\\u0447\\u043d\\u044b\\u0439\", \"\\u0438\\u0441\\u043a\\u043e\\u0432\\u044b\\u0439\", \"\\u0438\\u0441\\u043a\\u043e\\u0432\\u044b\\u0439\", \"\\u0438\\u0441\\u043a\\u043e\\u0432\\u044b\\u0439\", \"\\u0438\\u0441\\u043a\\u0440\\u0435\\u043d\\u043d\\u0438\\u0439\", \"\\u0438\\u0441\\u043f\\u043e\\u043b\\u043d\\u0435\\u043d\\u0438\\u0435\", \"\\u0438\\u0441\\u043f\\u043e\\u043b\\u043d\\u0435\\u043d\\u0438\\u0435\", \"\\u0438\\u0441\\u043f\\u043e\\u043b\\u043d\\u0435\\u043d\\u0438\\u0435\", \"\\u0438\\u0441\\u043f\\u043e\\u043b\\u043d\\u0435\\u043d\\u0438\\u0435\", \"\\u0438\\u0441\\u043f\\u043e\\u043b\\u043d\\u0435\\u043d\\u0438\\u0435\", \"\\u0438\\u0441\\u043f\\u043e\\u043b\\u043d\\u0435\\u043d\\u0438\\u0435\", \"\\u0438\\u0441\\u043f\\u043e\\u043b\\u043d\\u0438\\u0442\\u0435\\u043b\\u044c\", \"\\u0438\\u0441\\u043f\\u043e\\u043b\\u043d\\u0438\\u0442\\u0435\\u043b\\u044c\", \"\\u0438\\u0441\\u043f\\u043e\\u043b\\u043d\\u0438\\u0442\\u0435\\u043b\\u044c\", \"\\u0438\\u0441\\u043f\\u043e\\u043b\\u043d\\u0438\\u0442\\u0435\\u043b\\u044c\\u043d\\u044b\\u0439\", \"\\u0438\\u0441\\u043f\\u043e\\u043b\\u043d\\u0438\\u0442\\u0435\\u043b\\u044c\\u043d\\u044b\\u0439\", \"\\u0438\\u0441\\u043f\\u043e\\u043b\\u043d\\u0438\\u0442\\u0435\\u043b\\u044c\\u043d\\u044b\\u0439\", \"\\u0438\\u0441\\u0442\\u043e\\u0440\\u0438\\u044f\", \"\\u0438\\u0441\\u0442\\u043e\\u0440\\u0438\\u044f\", \"\\u0438\\u0441\\u0442\\u043e\\u0440\\u0438\\u044f\", \"\\u0438\\u0441\\u0442\\u043e\\u0440\\u0438\\u044f\", \"\\u0438\\u0441\\u0442\\u043e\\u0440\\u0438\\u044f\", \"\\u0438\\u0441\\u0442\\u043e\\u0440\\u0438\\u044f\", \"\\u0438\\u0441\\u0442\\u043e\\u0440\\u0438\\u044f\", \"\\u0438\\u0441\\u0442\\u043e\\u0440\\u0438\\u044f\", \"\\u043a\\u0430\\u0431\\u0438\\u043d\\u043a\\u0430\", \"\\u043a\\u0430\\u0434\\u0430\\u0441\\u0442\\u0440\\u043e\\u0432\\u044b\\u0439\", \"\\u043a\\u0430\\u0434\\u0430\\u0441\\u0442\\u0440\\u043e\\u0432\\u044b\\u0439\", \"\\u043a\\u0430\\u043c\\u0435\\u0440\\u0430\", \"\\u043a\\u0430\\u043c\\u0435\\u0440\\u0430\", \"\\u043a\\u0430\\u043c\\u0435\\u0440\\u0430\", \"\\u043a\\u0430\\u043f\\u0438\\u0442\\u0430\\u043b\", \"\\u043a\\u0430\\u043f\\u0438\\u0442\\u0430\\u043b\\u044c\\u043d\\u044b\\u0439\", \"\\u043a\\u0430\\u043f\\u0438\\u0442\\u0430\\u043b\\u044c\\u043d\\u044b\\u0439\", \"\\u043a\\u0430\\u0440\\u0434\", \"\\u043a\\u0430\\u0440\\u0442\\u0430\", \"\\u043a\\u0430\\u0440\\u0442\\u0430\", \"\\u043a\\u0430\\u0440\\u0442\\u0430\", \"\\u043a\\u0430\\u0440\\u0442\\u0430\", \"\\u043a\\u0430\\u0440\\u0442\\u0430\", \"\\u043a\\u0430\\u0440\\u0442\\u0430\", \"\\u043a\\u0430\\u0440\\u0442\\u0430\", \"\\u043a\\u0430\\u0440\\u0442\\u0430\", \"\\u043a\\u0430\\u0441\\u043a\\u043e\", \"\\u043a\\u0430\\u0442\\u0435\\u0433\\u043e\\u0440\\u0438\\u044f\", \"\\u043a\\u0430\\u0442\\u0435\\u0433\\u043e\\u0440\\u0438\\u044f\", \"\\u043a\\u0430\\u0448\\u0451\\u043d\\u043a\\u0438\\u043d\", \"\\u043a\\u0432\\u0430\\u043b\\u0438\\u0444\\u0438\\u0446\\u0438\\u0440\\u043e\\u0432\\u0430\\u043d\\u043d\\u044b\\u0439\", \"\\u043a\\u0432\\u0430\\u0440\\u0442\\u0438\\u0440\\u0430\", \"\\u043a\\u0432\\u0430\\u0440\\u0442\\u0438\\u0440\\u0430\", \"\\u043a\\u0432\\u0430\\u0440\\u0442\\u0438\\u0440\\u0430\", \"\\u043a\\u0432\\u0430\\u0440\\u0442\\u0438\\u0440\\u0430\", \"\\u043a\\u0432\\u0430\\u0440\\u0442\\u0438\\u0440\\u0430\", \"\\u043a\\u0432\\u0430\\u0440\\u0442\\u0438\\u0440\\u0430\", \"\\u043a\\u0432\\u0430\\u0440\\u0442\\u0438\\u0440\\u0430\", \"\\u043a\\u043b\\u0438\\u0435\\u043d\\u0442\", \"\\u043a\\u043b\\u0438\\u0435\\u043d\\u0442\", \"\\u043a\\u043b\\u0438\\u0435\\u043d\\u0442\", \"\\u043a\\u043b\\u0438\\u0435\\u043d\\u0442\", \"\\u043a\\u043b\\u0438\\u0435\\u043d\\u0442\", \"\\u043a\\u043b\\u0438\\u0435\\u043d\\u0442\", \"\\u043a\\u043b\\u0438\\u0435\\u043d\\u0442\", \"\\u043a\\u043b\\u0438\\u0435\\u043d\\u0442\", \"\\u043a\\u043e\\u0434\", \"\\u043a\\u043e\\u0434\", \"\\u043a\\u043e\\u0434\", \"\\u043a\\u043e\\u0434\", \"\\u043a\\u043e\\u0434\", \"\\u043a\\u043e\\u0434\", \"\\u043a\\u043e\\u0434\\u0435\\u043a\\u0441\", \"\\u043a\\u043e\\u0434\\u0435\\u043a\\u0441\", \"\\u043a\\u043e\\u043a\\u0441\", \"\\u043a\\u043e\\u043b\\u044f\\u0441\\u043a\\u0430\", \"\\u043a\\u043e\\u043b\\u044f\\u0441\\u043a\\u0430\", \"\\u043a\\u043e\\u043c\\u0430\\u0440\\u043e\\u0432\", \"\\u043a\\u043e\\u043c\\u0438\\u0441\\u0441\\u0438\\u044f\", \"\\u043a\\u043e\\u043c\\u0438\\u0441\\u0441\\u0438\\u044f\", \"\\u043a\\u043e\\u043c\\u0438\\u0441\\u0441\\u0438\\u044f\", \"\\u043a\\u043e\\u043c\\u0438\\u0441\\u0441\\u0438\\u044f\", \"\\u043a\\u043e\\u043c\\u0438\\u0441\\u0441\\u0438\\u044f\", \"\\u043a\\u043e\\u043c\\u043d\\u0430\\u0442\\u0430\", \"\\u043a\\u043e\\u043c\\u043d\\u0430\\u0442\\u0430\", \"\\u043a\\u043e\\u043c\\u043d\\u0430\\u0442\\u0430\", \"\\u043a\\u043e\\u043c\\u043f\\u043b\\u0435\\u043a\\u0441\", \"\\u043a\\u043e\\u043d\\u0441\\u0443\\u043b\\u044c\\u0442\\u0430\\u0446\\u0438\\u043e\\u043d\\u043d\\u044b\\u0439\", \"\\u043a\\u043e\\u043f\", \"\\u043a\\u0440\\u0430\\u0441\\u043d\\u043e\\u0430\\u0440\\u043c\\u0435\\u0439\\u0441\\u043a\\u0438\\u0439\", \"\\u043a\\u0440\\u0430\\u0441\\u043d\\u043e\\u0430\\u0440\\u043c\\u0435\\u0439\\u0441\\u043a\\u0438\\u0439\", \"\\u043a\\u0440\\u0435\\u0434\\u0438\\u0442\", \"\\u043a\\u0440\\u0435\\u0434\\u0438\\u0442\", \"\\u043a\\u0440\\u0435\\u0434\\u0438\\u0442\", \"\\u043a\\u0440\\u0435\\u0434\\u0438\\u0442\", \"\\u043a\\u0440\\u0435\\u0434\\u0438\\u0442\", \"\\u043a\\u0440\\u0435\\u0434\\u0438\\u0442\", \"\\u043a\\u0440\\u0435\\u0434\\u0438\\u0442\\u043d\\u044b\\u0439\", \"\\u043a\\u0440\\u0435\\u0434\\u0438\\u0442\\u043d\\u044b\\u0439\", \"\\u043a\\u0440\\u0435\\u0434\\u0438\\u0442\\u043d\\u044b\\u0439\", \"\\u043a\\u0440\\u0435\\u0434\\u0438\\u0442\\u043d\\u044b\\u0439\", \"\\u043a\\u0440\\u0435\\u0434\\u0438\\u0442\\u043d\\u044b\\u0439\", \"\\u043a\\u0440\\u0435\\u0434\\u0438\\u0442\\u043d\\u044b\\u0439\", \"\\u043a\\u0440\\u0435\\u0434\\u0438\\u0442\\u043d\\u044b\\u0439\", \"\\u043a\\u0440\\u0435\\u0434\\u0438\\u0442\\u043d\\u044b\\u0439\", \"\\u043a\\u0443\\u043f\\u044e\\u0440\\u0430\", \"\\u043a\\u0443\\u043f\\u044e\\u0440\\u0430\", \"\\u043a\\u0443\\u043f\\u044e\\u0440\\u0430\", \"\\u043a\\u0443\\u043f\\u044e\\u0440\\u043e\\u043f\\u0440\\u0438\\u0435\\u043c\\u043d\\u0438\\u043a\", \"\\u043b\\u0438\\u0441\\u0442\", \"\\u043b\\u0438\\u0441\\u0442\", \"\\u043b\\u0438\\u0441\\u0442\", \"\\u043b\\u0438\\u0441\\u0442\", \"\\u043b\\u0438\\u0441\\u0442\", \"\\u043b\\u0438\\u0441\\u0442\", \"\\u043b\\u0438\\u0442\", \"\\u043b\\u0443\\u0433\", \"\\u043b\\u044c\\u0433\\u043e\\u0442\\u043d\\u044b\\u0439\", \"\\u043b\\u044c\\u0433\\u043e\\u0442\\u043d\\u044b\\u0439\", \"\\u043b\\u044e\\u0434\\u043c\\u0438\\u043b\\u0430\", \"\\u043b\\u0451\\u0442\", \"\\u043c\\u0430\\u0433\\u0430\\u0434\\u0430\\u043d\", \"\\u043c\\u0430\\u0433\\u0430\\u0437\\u0438\\u043d\", \"\\u043c\\u0430\\u0433\\u0430\\u0437\\u0438\\u043d\", \"\\u043c\\u0430\\u0433\\u0430\\u0437\\u0438\\u043d\", \"\\u043c\\u0430\\u0433\\u0430\\u0437\\u0438\\u043d\", \"\\u043c\\u0430\\u043c\\u043e\\u0447\\u043a\\u0430\", \"\\u043c\\u0430\\u0440\\u0438\\u044f\", \"\\u043c\\u0430\\u0440\\u0444\\u0438\\u043d\\u043e\", \"\\u043c\\u0430\\u0441\\u0442\\u0435\\u0440\\u043a\\u0430\\u0440\\u0434\", \"\\u043c\\u0430\\u0442\\u0435\\u0440\\u0438\\u043d\\u0441\\u043a\\u0438\\u0439\", \"\\u043c\\u0430\\u0448\\u043a\\u0438\\u043d\\u043e\\u0439\", \"\\u043c\\u0433\\u043d\\u043e\\u0432\\u0435\\u043d\\u043d\\u043e\", \"\\u043c\\u0435\\u0431\\u0435\\u043b\\u044c\", \"\\u043c\\u0435\\u0436\\u0434\\u0443\\u043d\\u0430\\u0440\\u043e\\u0434\\u043d\\u044b\\u0439\", \"\\u043c\\u0435\\u0436\\u0434\\u0443\\u043d\\u0430\\u0440\\u043e\\u0434\\u043d\\u044b\\u0439\", \"\\u043c\\u0435\\u0436\\u0434\\u0443\\u043d\\u0430\\u0440\\u043e\\u0434\\u043d\\u044b\\u0439\", \"\\u043c\\u0435\\u0436\\u0434\\u0443\\u043d\\u0430\\u0440\\u043e\\u0434\\u043d\\u044b\\u0439\", \"\\u043c\\u0435\\u043d\\u0435\\u0434\\u0436\\u0435\\u0440\", \"\\u043c\\u0435\\u043d\\u0435\\u0434\\u0436\\u0435\\u0440\", \"\\u043c\\u0435\\u043d\\u0435\\u0434\\u0436\\u0435\\u0440\", \"\\u043c\\u0435\\u043d\\u0435\\u0434\\u0436\\u0435\\u0440\", \"\\u043c\\u0435\\u043d\\u0435\\u0434\\u0436\\u0435\\u0440\", \"\\u043c\\u0435\\u043d\\u0435\\u0434\\u0436\\u0435\\u0440\", \"\\u043c\\u0435\\u043d\\u0435\\u0434\\u0436\\u0435\\u0440\", \"\\u043c\\u0435\\u0441\\u044f\\u0446\", \"\\u043c\\u0435\\u0441\\u044f\\u0446\", \"\\u043c\\u0435\\u0441\\u044f\\u0446\", \"\\u043c\\u0435\\u0441\\u044f\\u0446\", \"\\u043c\\u0435\\u0441\\u044f\\u0446\", \"\\u043c\\u0435\\u0441\\u044f\\u0446\", \"\\u043c\\u0435\\u0441\\u044f\\u0446\", \"\\u043c\\u0435\\u0441\\u044f\\u0446\", \"\\u043c\\u0438\\u043d\\u0443\\u0442\\u0430\", \"\\u043c\\u0438\\u043d\\u0443\\u0442\\u0430\", \"\\u043c\\u0438\\u043d\\u0443\\u0442\\u0430\", \"\\u043c\\u0438\\u043d\\u0443\\u0442\\u0430\", \"\\u043c\\u0438\\u043d\\u0443\\u0442\\u0430\", \"\\u043c\\u0438\\u043d\\u0443\\u0442\\u0430\", \"\\u043c\\u0438\\u043d\\u0443\\u0442\\u0430\", \"\\u043c\\u0438\\u0448\\u0438\\u043d\", \"\\u043c\\u043e\\u0431\\u0438\\u043b\\u044c\\u043d\\u044b\\u0439\", \"\\u043c\\u043e\\u0431\\u0438\\u043b\\u044c\\u043d\\u044b\\u0439\", \"\\u043c\\u043e\\u0431\\u0438\\u043b\\u044c\\u043d\\u044b\\u0439\", \"\\u043c\\u043e\\u0431\\u0438\\u043b\\u044c\\u043d\\u044b\\u0439\", \"\\u043c\\u043e\\u0431\\u0438\\u043b\\u044c\\u043d\\u044b\\u0439\", \"\\u043c\\u043e\\u0431\\u0438\\u043b\\u044c\\u043d\\u044b\\u0439\", \"\\u043c\\u043e\\u0431\\u0438\\u043b\\u044c\\u043d\\u044b\\u0439\", \"\\u043c\\u043e\\u0431\\u0438\\u043b\\u044c\\u043d\\u044b\\u0439\", \"\\u043c\\u043e\\u0434\\u0435\\u0440\\u0430\\u0446\\u0438\\u044f\", \"\\u043c\\u043e\\u043c\\u0435\\u043d\\u0442\\u0443\\u043c\", \"\\u043c\\u043f\\u0441\", \"\\u043c\\u0443\\u0442\\u043d\\u044b\\u0439\", \"\\u043c\\u0444\\u0446\", \"\\u043d\\u0430\\u0434\\u0437\\u043e\\u0440\\u043d\\u044b\\u0439\", \"\\u043d\\u0430\\u043b\\u0438\\u0447\\u043a\\u0430\", \"\\u043d\\u0430\\u043b\\u0438\\u0447\\u043d\\u044b\\u0439\", \"\\u043d\\u0430\\u043b\\u0438\\u0447\\u043d\\u044b\\u0439\", \"\\u043d\\u0430\\u043b\\u0438\\u0447\\u043d\\u044b\\u0439\", \"\\u043d\\u0430\\u043b\\u0438\\u0447\\u043d\\u044b\\u0439\", \"\\u043d\\u0430\\u043b\\u0438\\u0447\\u043d\\u044b\\u0439\", \"\\u043d\\u0430\\u043b\\u043e\\u0436\\u0438\\u0442\\u044c\", \"\\u043d\\u0430\\u043f\\u0438\\u0441\\u0430\\u0442\\u044c\", \"\\u043d\\u0430\\u043f\\u0438\\u0441\\u0430\\u0442\\u044c\", \"\\u043d\\u0430\\u043f\\u0438\\u0441\\u0430\\u0442\\u044c\", \"\\u043d\\u0430\\u043f\\u0438\\u0441\\u0430\\u0442\\u044c\", \"\\u043d\\u0430\\u043f\\u0438\\u0441\\u0430\\u0442\\u044c\", \"\\u043d\\u0430\\u043f\\u0438\\u0441\\u0430\\u0442\\u044c\", \"\\u043d\\u0430\\u0441\\u043b\\u0435\\u0434\\u043e\\u0434\\u0430\\u0442\\u0435\\u043b\\u044c\", \"\\u043d\\u0430\\u0441\\u043b\\u0435\\u0434\\u0441\\u0442\\u0432\\u043e\", \"\\u043d\\u0430\\u0441\\u043b\\u0435\\u0434\\u0441\\u0442\\u0432\\u043e\", \"\\u043d\\u0430\\u0441\\u043b\\u0435\\u0434\\u0441\\u0442\\u0432\\u043e\", \"\\u043d\\u0430\\u0442\\u0430\\u043b\\u044c\\u0435\", \"\\u043d\\u0434\\u0444\\u043b\", \"\\u043d\\u0435\\u0437\\u0430\\u043c\\u0435\\u0434\\u043b\\u0438\\u0442\\u0435\\u043b\\u044c\\u043d\\u043e\", \"\\u043d\\u0435\\u0437\\u0430\\u043c\\u0435\\u0434\\u043b\\u0438\\u0442\\u0435\\u043b\\u044c\\u043d\\u043e\", \"\\u043d\\u0435\\u0437\\u0430\\u043c\\u0435\\u0434\\u043b\\u0438\\u0442\\u0435\\u043b\\u044c\\u043d\\u043e\", \"\\u043d\\u0435\\u0437\\u0430\\u043c\\u0435\\u0434\\u043b\\u0438\\u0442\\u0435\\u043b\\u044c\\u043d\\u043e\", \"\\u043d\\u0435\\u0438\\u0441\\u043f\\u0440\\u0430\\u0432\\u043d\\u043e\\u0441\\u0442\\u044c\", \"\\u043d\\u0435\\u0438\\u0441\\u043f\\u0440\\u0430\\u0432\\u043d\\u043e\\u0441\\u0442\\u044c\", \"\\u043d\\u0435\\u0438\\u0441\\u043f\\u0440\\u0430\\u0432\\u043d\\u043e\\u0441\\u0442\\u044c\", \"\\u043d\\u0435\\u0438\\u0441\\u043f\\u0440\\u0430\\u0432\\u043d\\u043e\\u0441\\u0442\\u044c\", \"\\u043d\\u0435\\u043d\\u0430\\u0434\\u0451\\u0436\\u043d\\u044b\\u0439\", \"\\u043d\\u0435\\u043f\\u043e\\u043d\\u044f\\u0442\\u043a\\u0430\", \"\\u043d\\u0435\\u0441\\u0430\\u043d\\u043a\\u0446\\u0438\\u043e\\u043d\\u0438\\u0440\\u043e\\u0432\\u0430\\u043d\\u043d\\u044b\\u0439\", \"\\u043d\\u0435\\u0441\\u043e\\u0432\\u0435\\u0440\\u0448\\u0435\\u043d\\u043d\\u043e\\u043b\\u0435\\u0442\\u043d\\u0438\\u0439\", \"\\u043d\\u0435\\u0441\\u043e\\u0432\\u0435\\u0440\\u0448\\u0435\\u043d\\u043d\\u043e\\u043b\\u0435\\u0442\\u043d\\u0438\\u0439\", \"\\u043d\\u0435\\u0441\\u043e\\u0432\\u0435\\u0440\\u0448\\u0435\\u043d\\u043d\\u043e\\u043b\\u0435\\u0442\\u043d\\u0438\\u0439\", \"\\u043d\\u0435\\u0443\\u0441\\u0442\\u043e\\u0439\\u043a\\u0430\", \"\\u043d\\u0435\\u0443\\u0441\\u0442\\u043e\\u0439\\u043a\\u0430\", \"\\u043d\\u0435\\u0443\\u0441\\u0442\\u043e\\u0439\\u043a\\u0430\", \"\\u043d\\u0435\\u0443\\u0441\\u0442\\u043e\\u0439\\u043a\\u0430\", \"\\u043d\\u0438\", \"\\u043d\\u0438\", \"\\u043d\\u0438\", \"\\u043d\\u0438\", \"\\u043d\\u0438\", \"\\u043d\\u0438\", \"\\u043d\\u0438\", \"\\u043d\\u0438\", \"\\u043d\\u043e\\u0432\\u043e\\u0441\\u0438\\u043d\\u044c\\u043a\\u043e\\u0432\\u043e\", \"\\u043d\\u043e\\u0432\\u044b\\u0439\", \"\\u043d\\u043e\\u0432\\u044b\\u0439\", \"\\u043d\\u043e\\u0432\\u044b\\u0439\", \"\\u043d\\u043e\\u0432\\u044b\\u0439\", \"\\u043d\\u043e\\u0432\\u044b\\u0439\", \"\\u043d\\u043e\\u0432\\u044b\\u0439\", \"\\u043d\\u043e\\u0432\\u044b\\u0439\", \"\\u043d\\u043e\\u0432\\u044b\\u0439\", \"\\u043d\\u043e\\u043c\\u0435\\u0440\", \"\\u043d\\u043e\\u043c\\u0435\\u0440\", \"\\u043d\\u043e\\u043c\\u0435\\u0440\", \"\\u043d\\u043e\\u043c\\u0435\\u0440\", \"\\u043d\\u043e\\u043c\\u0435\\u0440\", \"\\u043d\\u043e\\u043c\\u0435\\u0440\", \"\\u043d\\u043e\\u043c\\u0435\\u0440\", \"\\u043d\\u043e\\u043c\\u0435\\u0440\", \"\\u043d\\u043e\\u043c\\u0438\\u043d\\u0430\\u043b\", \"\\u043d\\u043e\\u0442\\u0430\\u0440\\u0438\\u0430\\u043b\\u044c\\u043d\\u044b\\u0439\", \"\\u043d\\u043e\\u0442\\u0430\\u0440\\u0438\\u0430\\u043b\\u044c\\u043d\\u044b\\u0439\", \"\\u043d\\u043e\\u0442\\u0430\\u0440\\u0438\\u0430\\u043b\\u044c\\u043d\\u044b\\u0439\", \"\\u043d\\u043e\\u0442\\u0430\\u0440\\u0438\\u0430\\u043b\\u044c\\u043d\\u044b\\u0439\", \"\\u043d\\u043e\\u0442\\u0430\\u0440\\u0438\\u0443\\u0441\", \"\\u043d\\u043e\\u0442\\u0430\\u0440\\u0438\\u0443\\u0441\", \"\\u043d\\u043e\\u0442\\u0430\\u0440\\u0438\\u0443\\u0441\", \"\\u043d\\u043e\\u0442\\u0430\\u0440\\u0438\\u0443\\u0441\", \"\\u043e\\u0431\\u043e\\u0441\\u043d\\u043e\\u0432\\u0430\\u0442\\u044c\", \"\\u043e\\u0431\\u043e\\u0441\\u043d\\u043e\\u0432\\u0430\\u0442\\u044c\", \"\\u043e\\u0431\\u043e\\u0441\\u043d\\u043e\\u0432\\u0430\\u0442\\u044c\", \"\\u043e\\u0431\\u043e\\u0441\\u043d\\u043e\\u0432\\u0430\\u0442\\u044c\", \"\\u043e\\u0431\\u043e\\u0441\\u043d\\u043e\\u0432\\u0430\\u0442\\u044c\", \"\\u043e\\u0431\\u0440\\u0430\\u0442\\u0438\\u0442\\u044c\\u0441\\u044f\", \"\\u043e\\u0431\\u0440\\u0430\\u0442\\u0438\\u0442\\u044c\\u0441\\u044f\", \"\\u043e\\u0431\\u0440\\u0430\\u0442\\u0438\\u0442\\u044c\\u0441\\u044f\", \"\\u043e\\u0431\\u0440\\u0430\\u0442\\u0438\\u0442\\u044c\\u0441\\u044f\", \"\\u043e\\u0431\\u0440\\u0430\\u0442\\u0438\\u0442\\u044c\\u0441\\u044f\", \"\\u043e\\u0431\\u0440\\u0430\\u0442\\u0438\\u0442\\u044c\\u0441\\u044f\", \"\\u043e\\u0431\\u0440\\u0430\\u0442\\u0438\\u0442\\u044c\\u0441\\u044f\", \"\\u043e\\u0431\\u0440\\u0430\\u0442\\u043d\\u043e\", \"\\u043e\\u0431\\u0440\\u0430\\u0442\\u043d\\u043e\", \"\\u043e\\u0431\\u0440\\u0430\\u0449\\u0435\\u043d\\u0438\\u0435\", \"\\u043e\\u0431\\u0440\\u0430\\u0449\\u0435\\u043d\\u0438\\u0435\", \"\\u043e\\u0431\\u0440\\u0430\\u0449\\u0435\\u043d\\u0438\\u0435\", \"\\u043e\\u0431\\u0440\\u0430\\u0449\\u0435\\u043d\\u0438\\u0435\", \"\\u043e\\u0431\\u0440\\u0430\\u0449\\u0435\\u043d\\u0438\\u0435\", \"\\u043e\\u0431\\u0440\\u0430\\u0449\\u0435\\u043d\\u0438\\u0435\", \"\\u043e\\u0431\\u0440\\u0430\\u0449\\u0435\\u043d\\u0438\\u0435\", \"\\u043e\\u0431\\u0440\\u0435\\u043c\\u0435\\u043d\\u0435\\u043d\\u0438\\u0435\", \"\\u043e\\u0431\\u0441\\u043b\\u0443\\u0436\\u0438\\u0432\\u0430\\u043d\\u0438\\u0435\", \"\\u043e\\u0431\\u0441\\u043b\\u0443\\u0436\\u0438\\u0432\\u0430\\u043d\\u0438\\u0435\", \"\\u043e\\u0431\\u0441\\u043b\\u0443\\u0436\\u0438\\u0432\\u0430\\u043d\\u0438\\u0435\", \"\\u043e\\u0431\\u0441\\u043b\\u0443\\u0436\\u0438\\u0432\\u0430\\u043d\\u0438\\u0435\", \"\\u043e\\u0431\\u0441\\u043b\\u0443\\u0436\\u0438\\u0432\\u0430\\u043d\\u0438\\u0435\", \"\\u043e\\u0431\\u0441\\u043b\\u0443\\u0436\\u0438\\u0432\\u0430\\u043d\\u0438\\u0435\", \"\\u043e\\u0431\\u0441\\u043b\\u0443\\u0436\\u0438\\u0432\\u0430\\u043d\\u0438\\u0435\", \"\\u043e\\u0431\\u0441\\u043b\\u0443\\u0436\\u0438\\u0432\\u0430\\u0442\\u044c\", \"\\u043e\\u0431\\u0441\\u043b\\u0443\\u0436\\u0438\\u0432\\u0430\\u0442\\u044c\", \"\\u043e\\u0431\\u0441\\u043b\\u0443\\u0436\\u0438\\u0432\\u0430\\u0442\\u044c\", \"\\u043e\\u0431\\u0441\\u043b\\u0443\\u0436\\u0438\\u0432\\u0430\\u0442\\u044c\", \"\\u043e\\u0431\\u0441\\u043b\\u0443\\u0436\\u0438\\u0432\\u0430\\u0442\\u044c\", \"\\u043e\\u0431\\u0441\\u043b\\u0443\\u0436\\u0438\\u0432\\u0430\\u0442\\u044c\", \"\\u043e\\u0431\\u0441\\u043b\\u0443\\u0436\\u0438\\u0442\\u044c\", \"\\u043e\\u0431\\u0441\\u043b\\u0443\\u0436\\u0438\\u0442\\u044c\", \"\\u043e\\u0431\\u0449\\u0435\\u0441\\u0442\\u0432\\u0435\\u043d\\u043d\\u043e\\u0441\\u0442\\u044c\", \"\\u043e\\u0431\\u044a\\u0435\\u043a\\u0442\", \"\\u043e\\u0431\\u044a\\u0435\\u043a\\u0442\", \"\\u043e\\u0431\\u044a\\u0435\\u043a\\u0442\", \"\\u043e\\u0431\\u044a\\u0435\\u043a\\u0442\", \"\\u043e\\u0432\\u0435\\u0440\\u0434\\u0440\\u0430\\u0444\\u0442\", \"\\u043e\\u0432\\u0435\\u0440\\u0434\\u0440\\u0430\\u0444\\u0442\", \"\\u043e\\u0432\\u0435\\u0440\\u0434\\u0440\\u0430\\u0444\\u0442\", \"\\u043e\\u0433\\u0440\\u043e\\u043c\\u043d\\u044b\\u0439\", \"\\u043e\\u0433\\u0440\\u043e\\u043c\\u043d\\u044b\\u0439\", \"\\u043e\\u0433\\u0440\\u043e\\u043c\\u043d\\u044b\\u0439\", \"\\u043e\\u0433\\u0440\\u043e\\u043c\\u043d\\u044b\\u0439\", \"\\u043e\\u0434\\u043d\\u043e\\u0440\\u0430\\u0437\\u043e\\u0432\\u044b\\u0439\", \"\\u043e\\u0434\\u043e\\u0431\\u0440\\u0435\\u043d\\u0438\\u0435\", \"\\u043e\\u0434\\u043e\\u0431\\u0440\\u0435\\u043d\\u0438\\u0435\", \"\\u043e\\u0434\\u043e\\u0431\\u0440\\u0435\\u043d\\u0438\\u0435\", \"\\u043e\\u0434\\u043e\\u0431\\u0440\\u0438\\u0442\\u044c\", \"\\u043e\\u0434\\u043e\\u0431\\u0440\\u0438\\u0442\\u044c\", \"\\u043e\\u0434\\u043e\\u0431\\u0440\\u044f\\u0442\\u044c\", \"\\u043e\\u043a\\u0431\", \"\\u043e\\u043a\\u043d\\u043e\", \"\\u043e\\u043a\\u043d\\u043e\", \"\\u043e\\u043a\\u043d\\u043e\", \"\\u043e\\u043a\\u043d\\u043e\", \"\\u043e\\u043a\\u043d\\u043e\", \"\\u043e\\u043a\\u043e\\u0448\\u043a\\u0430\", \"\\u043e\\u043a\\u043e\\u0448\\u043a\\u0430\", \"\\u043e\\u043a\\u043e\\u0448\\u043a\\u0430\", \"\\u043e\\u043a\\u043e\\u0448\\u043a\\u0430\", \"\\u043e\\u043a\\u043e\\u0448\\u043a\\u0435\", \"\\u043e\\u043a\\u043e\\u0448\\u043a\\u0443\", \"\\u043e\\u043a\\u043e\\u0448\\u043a\\u0443\", \"\\u043e\\u043a\\u043e\\u0448\\u043a\\u0443\", \"\\u043e\\u043c\\u0431\\u0443\\u0434\\u0441\\u043c\\u0435\\u043d\", \"\\u043e\\u043c\\u0431\\u0443\\u0434\\u0441\\u043c\\u0435\\u043d\", \"\\u043e\\u043c\\u0431\\u0443\\u0434\\u0441\\u043c\\u0435\\u043d\", \"\\u043e\\u043d\\u043b\\u0430\\u0439\\u043d\", \"\\u043e\\u043d\\u043b\\u0430\\u0439\\u043d\", \"\\u043e\\u043d\\u043b\\u0430\\u0439\\u043d\", \"\\u043e\\u043d\\u043b\\u0430\\u0439\\u043d\", \"\\u043e\\u043d\\u043b\\u0430\\u0439\\u043d\", \"\\u043e\\u043d\\u043b\\u0430\\u0439\\u043d\", \"\\u043e\\u043d\\u043b\\u0430\\u0439\\u043d\", \"\\u043e\\u043f\\u0435\\u043a\\u0430\", \"\\u043e\\u043f\\u0435\\u043a\\u0430\", \"\\u043e\\u043f\\u0435\\u043a\\u0430\", \"\\u043e\\u043f\\u0435\\u0440\\u0430\\u0442\\u0438\\u0432\\u043d\\u043e\\u0441\\u0442\\u044c\", \"\\u043e\\u043f\\u0435\\u0440\\u0430\\u0446\\u0438\\u044f\", \"\\u043e\\u043f\\u0435\\u0440\\u0430\\u0446\\u0438\\u044f\", \"\\u043e\\u043f\\u0435\\u0440\\u0430\\u0446\\u0438\\u044f\", \"\\u043e\\u043f\\u0435\\u0440\\u0430\\u0446\\u0438\\u044f\", \"\\u043e\\u043f\\u0435\\u0440\\u0430\\u0446\\u0438\\u044f\", \"\\u043e\\u043f\\u0435\\u0440\\u0430\\u0446\\u0438\\u044f\", \"\\u043e\\u043f\\u0435\\u0440\\u0430\\u0446\\u0438\\u044f\", \"\\u043e\\u043f\\u0440\\u0435\\u0434\\u0435\\u043b\\u0435\\u043d\\u0438\\u0435\", \"\\u043e\\u043f\\u0446\\u0438\\u043e\\u043d\", \"\\u043e\\u0440\\u0433\\u0430\\u043d\\u0438\\u0437\\u0430\\u0446\\u0438\\u044f\", \"\\u043e\\u0440\\u0433\\u0430\\u043d\\u0438\\u0437\\u0430\\u0446\\u0438\\u044f\", \"\\u043e\\u0440\\u0433\\u0430\\u043d\\u0438\\u0437\\u0430\\u0446\\u0438\\u044f\", \"\\u043e\\u0440\\u0433\\u0430\\u043d\\u0438\\u0437\\u0430\\u0446\\u0438\\u044f\", \"\\u043e\\u0440\\u0433\\u0430\\u043d\\u0438\\u0437\\u0430\\u0446\\u0438\\u044f\", \"\\u043e\\u0440\\u0433\\u0430\\u043d\\u0438\\u0437\\u0430\\u0446\\u0438\\u044f\", \"\\u043e\\u0440\\u0433\\u0430\\u043d\\u0438\\u0437\\u0430\\u0446\\u0438\\u044f\", \"\\u043e\\u0441\\u0432\\u043e\\u0431\\u043e\\u0434\\u0438\\u0442\\u044c\", \"\\u043e\\u0441\\u0432\\u043e\\u0431\\u043e\\u0434\\u0438\\u0442\\u044c\", \"\\u043e\\u0442\\u0432\\u0435\\u0442\", \"\\u043e\\u0442\\u0432\\u0435\\u0442\", \"\\u043e\\u0442\\u0432\\u0435\\u0442\", \"\\u043e\\u0442\\u0432\\u0435\\u0442\", \"\\u043e\\u0442\\u0432\\u0435\\u0442\", \"\\u043e\\u0442\\u0432\\u0435\\u0442\", \"\\u043e\\u0442\\u0432\\u0435\\u0442\", \"\\u043e\\u0442\\u0434\\u0435\\u043b\\u0435\\u043d\\u0438\\u0435\", \"\\u043e\\u0442\\u0434\\u0435\\u043b\\u0435\\u043d\\u0438\\u0435\", \"\\u043e\\u0442\\u0434\\u0435\\u043b\\u0435\\u043d\\u0438\\u0435\", \"\\u043e\\u0442\\u0434\\u0435\\u043b\\u0435\\u043d\\u0438\\u0435\", \"\\u043e\\u0442\\u0434\\u0435\\u043b\\u0435\\u043d\\u0438\\u0435\", \"\\u043e\\u0442\\u0434\\u0435\\u043b\\u0435\\u043d\\u0438\\u0435\", \"\\u043e\\u0442\\u0434\\u0435\\u043b\\u0435\\u043d\\u0438\\u0435\", \"\\u043e\\u0442\\u0437\\u044b\\u0432\\u0447\\u0438\\u0432\\u044b\\u0439\", \"\\u043e\\u0442\\u043a\\u0430\\u0437\", \"\\u043e\\u0442\\u043a\\u0430\\u0437\", \"\\u043e\\u0442\\u043a\\u0430\\u0437\", \"\\u043e\\u0442\\u043a\\u0430\\u0437\", \"\\u043e\\u0442\\u043a\\u0430\\u0437\", \"\\u043e\\u0442\\u043a\\u0430\\u0437\", \"\\u043e\\u0442\\u043a\\u0430\\u0437\", \"\\u043e\\u0442\\u043a\\u043b\\u044e\\u0447\\u0435\\u043d\\u0438\\u0435\", \"\\u043e\\u0442\\u043a\\u043b\\u044e\\u0447\\u0435\\u043d\\u0438\\u0435\", \"\\u043e\\u0442\\u043a\\u043b\\u044e\\u0447\\u0438\\u0442\\u044c\", \"\\u043e\\u0442\\u043a\\u043b\\u044e\\u0447\\u0438\\u0442\\u044c\", \"\\u043e\\u0442\\u043d\\u043e\\u0448\\u0435\\u043d\\u0438\\u0435\", \"\\u043e\\u0442\\u043d\\u043e\\u0448\\u0435\\u043d\\u0438\\u0435\", \"\\u043e\\u0442\\u043d\\u043e\\u0448\\u0435\\u043d\\u0438\\u0435\", \"\\u043e\\u0442\\u043d\\u043e\\u0448\\u0435\\u043d\\u0438\\u0435\", \"\\u043e\\u0442\\u043d\\u043e\\u0448\\u0435\\u043d\\u0438\\u0435\", \"\\u043e\\u0442\\u043d\\u043e\\u0448\\u0435\\u043d\\u0438\\u0435\", \"\\u043e\\u0442\\u043d\\u043e\\u0448\\u0435\\u043d\\u0438\\u0435\", \"\\u043e\\u0442\\u043f\\u0440\\u0430\\u0432\\u0438\\u0442\\u0435\\u043b\\u044c\", \"\\u043e\\u0442\\u043f\\u0440\\u0430\\u0432\\u0438\\u0442\\u044c\", \"\\u043e\\u0442\\u043f\\u0440\\u0430\\u0432\\u0438\\u0442\\u044c\", \"\\u043e\\u0442\\u043f\\u0440\\u0430\\u0432\\u0438\\u0442\\u044c\", \"\\u043e\\u0442\\u043f\\u0440\\u0430\\u0432\\u0438\\u0442\\u044c\", \"\\u043e\\u0442\\u043f\\u0440\\u0430\\u0432\\u0438\\u0442\\u044c\", \"\\u043e\\u0442\\u043f\\u0440\\u0430\\u0432\\u0438\\u0442\\u044c\", \"\\u043e\\u0442\\u0440\\u0430\\u0432\\u043b\\u0435\\u043d\\u0438\\u0435\", \"\\u043e\\u0442\\u0440\\u0430\\u0436\\u0430\\u0442\\u044c\", \"\\u043e\\u0442\\u0447\\u0451\\u0442\\u0430\", \"\\u043e\\u0442\\u0447\\u0451\\u0442\\u0430\", \"\\u043e\\u0444\\u0438\\u0441\", \"\\u043e\\u0444\\u0438\\u0441\", \"\\u043e\\u0444\\u0438\\u0441\", \"\\u043e\\u0444\\u0438\\u0441\", \"\\u043e\\u0444\\u0438\\u0441\", \"\\u043e\\u0444\\u0438\\u0441\", \"\\u043e\\u0444\\u0438\\u0441\", \"\\u043e\\u0444\\u043e\\u0440\\u043c\\u0438\\u0442\\u044c\", \"\\u043e\\u0444\\u043e\\u0440\\u043c\\u0438\\u0442\\u044c\", \"\\u043e\\u0444\\u043e\\u0440\\u043c\\u0438\\u0442\\u044c\", \"\\u043e\\u0444\\u043e\\u0440\\u043c\\u0438\\u0442\\u044c\", \"\\u043e\\u0444\\u043e\\u0440\\u043c\\u0438\\u0442\\u044c\", \"\\u043e\\u0444\\u043e\\u0440\\u043c\\u0438\\u0442\\u044c\", \"\\u043e\\u0444\\u043e\\u0440\\u043c\\u0438\\u0442\\u044c\", \"\\u043e\\u0444\\u043e\\u0440\\u043c\\u0438\\u0442\\u044c\", \"\\u043e\\u0445\\u0440\\u0430\\u043d\\u0430\", \"\\u043e\\u0447\\u0435\\u0440\\u0435\\u0434\\u044c\", \"\\u043e\\u0447\\u0435\\u0440\\u0435\\u0434\\u044c\", \"\\u043e\\u0447\\u0435\\u0440\\u0435\\u0434\\u044c\", \"\\u043e\\u0447\\u0435\\u0440\\u0435\\u0434\\u044c\", \"\\u043e\\u0447\\u0435\\u0440\\u0435\\u0434\\u044c\", \"\\u043e\\u0447\\u0435\\u0440\\u0435\\u0434\\u044c\", \"\\u043e\\u0447\\u0435\\u0440\\u0435\\u0434\\u044c\", \"\\u043f\\u0430\\u043e\", \"\\u043f\\u0430\\u043e\", \"\\u043f\\u0430\\u043e\", \"\\u043f\\u0430\\u043e\", \"\\u043f\\u0430\\u043e\", \"\\u043f\\u0430\\u043e\", \"\\u043f\\u0430\\u043f\\u0430\", \"\\u043f\\u0430\\u043f\\u0430\", \"\\u043f\\u0430\\u0441\\u043f\\u043e\\u0440\\u0442\", \"\\u043f\\u0430\\u0441\\u043f\\u043e\\u0440\\u0442\", \"\\u043f\\u0430\\u0441\\u043f\\u043e\\u0440\\u0442\", \"\\u043f\\u0430\\u0441\\u043f\\u043e\\u0440\\u0442\", \"\\u043f\\u0430\\u0441\\u043f\\u043e\\u0440\\u0442\", \"\\u043f\\u0430\\u0441\\u043f\\u043e\\u0440\\u0442\", \"\\u043f\\u0430\\u0441\\u043f\\u043e\\u0440\\u0442\", \"\\u043f\\u0430\\u0447\\u043a\\u0430\", \"\\u043f\\u0435\\u0440\\u0435\\u0432\\u0435\\u0441\\u0442\\u0438\", \"\\u043f\\u0435\\u0440\\u0435\\u0432\\u0435\\u0441\\u0442\\u0438\", \"\\u043f\\u0435\\u0440\\u0435\\u0432\\u0435\\u0441\\u0442\\u0438\", \"\\u043f\\u0435\\u0440\\u0435\\u0432\\u0435\\u0441\\u0442\\u0438\", \"\\u043f\\u0435\\u0440\\u0435\\u0432\\u0435\\u0441\\u0442\\u0438\", \"\\u043f\\u0435\\u0440\\u0435\\u0432\\u0435\\u0441\\u0442\\u0438\", \"\\u043f\\u0435\\u0440\\u0435\\u0432\\u043e\\u0434\", \"\\u043f\\u0435\\u0440\\u0435\\u0432\\u043e\\u0434\", \"\\u043f\\u0435\\u0440\\u0435\\u0432\\u043e\\u0434\", \"\\u043f\\u0435\\u0440\\u0435\\u0432\\u044b\\u043f\\u0443\\u0441\\u043a\", \"\\u043f\\u0435\\u0440\\u0435\\u0432\\u044b\\u043f\\u0443\\u0441\\u043a\", \"\\u043f\\u0435\\u0440\\u0435\\u0432\\u044b\\u043f\\u0443\\u0441\\u043a\\u0430\", \"\\u043f\\u0435\\u0440\\u0435\\u0432\\u044b\\u043f\\u0443\\u0441\\u043a\\u0430\", \"\\u043f\\u0435\\u0440\\u0435\\u0432\\u044b\\u043f\\u0443\\u0441\\u043a\\u0430\", \"\\u043f\\u0435\\u0440\\u0435\\u0432\\u044b\\u043f\\u0443\\u0441\\u043a\\u0430\", \"\\u043f\\u0435\\u0440\\u0435\\u0432\\u044b\\u043f\\u0443\\u0441\\u043a\\u0430\\u0442\\u044c\", \"\\u043f\\u0435\\u0440\\u0435\\u0432\\u044b\\u043f\\u0443\\u0449\\u0435\\u043d\\u043d\\u0443\\u044e\", \"\\u043f\\u0435\\u0440\\u0435\\u0440\\u0430\\u0441\\u0447\\u0451\\u0442\", \"\\u043f\\u0435\\u0440\\u0435\\u0440\\u044b\\u0432\", \"\\u043f\\u0435\\u0440\\u0435\\u0441\\u0447\\u0438\\u0442\\u044b\\u0432\\u0430\\u0442\\u044c\", \"\\u043f\\u0435\\u0440\\u0435\\u0447\\u0438\\u0441\\u043b\\u0435\\u043d\\u0438\\u0435\", \"\\u043f\\u0435\\u0440\\u0435\\u0447\\u0438\\u0441\\u043b\\u0435\\u043d\\u0438\\u0435\", \"\\u043f\\u0435\\u0440\\u0438\\u043e\\u0434\", \"\\u043f\\u0435\\u0440\\u0438\\u043e\\u0434\", \"\\u043f\\u0435\\u0440\\u0438\\u043e\\u0434\", \"\\u043f\\u0435\\u0440\\u0438\\u043e\\u0434\", \"\\u043f\\u0435\\u0440\\u0438\\u043e\\u0434\", \"\\u043f\\u0435\\u0440\\u0441\\u043e\\u043d\\u0430\\u043b\\u0438\\u0437\\u0438\\u0440\\u043e\\u0432\\u0430\\u043d\\u043d\\u0443\\u044e\", \"\\u043f\\u0438\\u043d\", \"\\u043f\\u0438\\u043d\", \"\\u043f\\u0438\\u043d\", \"\\u043f\\u0438\\u0441\\u044c\\u043c\\u043e\", \"\\u043f\\u0438\\u0441\\u044c\\u043c\\u043e\", \"\\u043f\\u0438\\u0441\\u044c\\u043c\\u043e\", \"\\u043f\\u0438\\u0441\\u044c\\u043c\\u043e\", \"\\u043f\\u0438\\u0441\\u044c\\u043c\\u043e\", \"\\u043f\\u0438\\u0441\\u044c\\u043c\\u043e\", \"\\u043f\\u043b\\u0430\\u0442\\u0451\\u0436\", \"\\u043f\\u043b\\u0430\\u0442\\u0451\\u0436\", \"\\u043f\\u043b\\u0430\\u0442\\u0451\\u0436\", \"\\u043f\\u043b\\u0430\\u0442\\u0451\\u0436\", \"\\u043f\\u043b\\u0430\\u0442\\u0451\\u0436\", \"\\u043f\\u043b\\u0430\\u0442\\u0451\\u0436\", \"\\u043f\\u043b\\u0430\\u0442\\u0451\\u0436\\u043d\\u044b\\u0439\", \"\\u043f\\u043b\\u0430\\u0442\\u0451\\u0436\\u043d\\u044b\\u0439\", \"\\u043f\\u043b\\u0430\\u0442\\u0451\\u0436\\u043d\\u044b\\u0439\", \"\\u043f\\u043b\\u0430\\u0442\\u0451\\u0436\\u043d\\u044b\\u0439\", \"\\u043f\\u043b\\u0435\\u0447\\u043e\", \"\\u043f\\u043b\\u0435\\u0447\\u043e\", \"\\u043f\\u043b\\u0435\\u0447\\u043e\", \"\\u043f\\u043b\\u0435\\u0447\\u043e\", \"\\u043f\\u043e\\u0431\\u043e\\u043b\\u044c\\u0448\\u0435\", \"\\u043f\\u043e\\u0431\\u043e\\u043b\\u044c\\u0448\\u0435\", \"\\u043f\\u043e\\u0432\\u0435\\u0434\\u0435\\u043d\\u0438\\u0435\", \"\\u043f\\u043e\\u0433\\u0430\\u0441\\u0438\\u0442\\u044c\", \"\\u043f\\u043e\\u0433\\u0430\\u0441\\u0438\\u0442\\u044c\", \"\\u043f\\u043e\\u0433\\u0430\\u0441\\u0438\\u0442\\u044c\", \"\\u043f\\u043e\\u0433\\u0430\\u0448\\u0435\\u043d\\u0438\\u0435\", \"\\u043f\\u043e\\u0433\\u0430\\u0448\\u0435\\u043d\\u0438\\u0435\", \"\\u043f\\u043e\\u0433\\u0430\\u0448\\u0435\\u043d\\u0438\\u0435\", \"\\u043f\\u043e\\u0434\\u0430\\u0442\\u044c\", \"\\u043f\\u043e\\u0434\\u0430\\u0442\\u044c\", \"\\u043f\\u043e\\u0434\\u0430\\u0442\\u044c\", \"\\u043f\\u043e\\u0434\\u0430\\u0442\\u044c\", \"\\u043f\\u043e\\u0434\\u0430\\u0442\\u044c\", \"\\u043f\\u043e\\u0434\\u0430\\u0442\\u044c\", \"\\u043f\\u043e\\u0434\\u0432\\u043e\\u0434\\u043d\\u044b\\u0439\", \"\\u043f\\u043e\\u0434\\u043a\\u043b\\u044e\\u0447\\u0430\\u0442\\u044c\", \"\\u043f\\u043e\\u0434\\u043a\\u043b\\u044e\\u0447\\u0430\\u0442\\u044c\", \"\\u043f\\u043e\\u0434\\u043a\\u043b\\u044e\\u0447\\u0430\\u0442\\u044c\", \"\\u043f\\u043e\\u0434\\u043a\\u043b\\u044e\\u0447\\u0430\\u0442\\u044c\", \"\\u043f\\u043e\\u0434\\u043a\\u043b\\u044e\\u0447\\u0435\\u043d\\u0438\\u0435\", \"\\u043f\\u043e\\u0434\\u043a\\u043b\\u044e\\u0447\\u0435\\u043d\\u0438\\u0435\", \"\\u043f\\u043e\\u0434\\u043a\\u043b\\u044e\\u0447\\u0438\\u0442\\u044c\", \"\\u043f\\u043e\\u0434\\u043a\\u043b\\u044e\\u0447\\u0438\\u0442\\u044c\", \"\\u043f\\u043e\\u0434\\u043a\\u043b\\u044e\\u0447\\u0438\\u0442\\u044c\", \"\\u043f\\u043e\\u0434\\u043a\\u043b\\u044e\\u0447\\u0438\\u0442\\u044c\", \"\\u043f\\u043e\\u0434\\u043a\\u043b\\u044e\\u0447\\u0451\\u043d\", \"\\u043f\\u043e\\u0434\\u043e\\u0437\\u0440\\u0438\\u0442\\u0435\\u043b\\u044c\\u043d\\u044b\\u0439\", \"\\u043f\\u043e\\u0434\\u043e\\u0439\\u0442\\u0438\", \"\\u043f\\u043e\\u0434\\u043e\\u0439\\u0442\\u0438\", \"\\u043f\\u043e\\u0434\\u043e\\u0439\\u0442\\u0438\", \"\\u043f\\u043e\\u0434\\u043e\\u0439\\u0442\\u0438\", \"\\u043f\\u043e\\u0434\\u043e\\u0439\\u0442\\u0438\", \"\\u043f\\u043e\\u0434\\u043f\\u0438\\u0441\\u0430\\u0442\\u044c\", \"\\u043f\\u043e\\u0434\\u043f\\u0438\\u0441\\u0430\\u0442\\u044c\", \"\\u043f\\u043e\\u0434\\u043f\\u0438\\u0441\\u0430\\u0442\\u044c\", \"\\u043f\\u043e\\u0434\\u043f\\u0438\\u0441\\u0430\\u0442\\u044c\", \"\\u043f\\u043e\\u0434\\u043f\\u0438\\u0441\\u0430\\u0442\\u044c\", \"\\u043f\\u043e\\u0434\\u043f\\u0438\\u0441\\u0430\\u0442\\u044c\", \"\\u043f\\u043e\\u0436\\u0430\\u0440\", \"\\u043f\\u043e\\u0436\\u0430\\u0440\", \"\\u043f\\u043e\\u0436\\u0438\\u043c\\u0430\\u0442\\u044c\", \"\\u043f\\u043e\\u043a\\u0443\\u043f\\u043a\\u0430\", \"\\u043f\\u043e\\u043a\\u0443\\u043f\\u043a\\u0430\", \"\\u043f\\u043e\\u043a\\u0443\\u043f\\u043a\\u0430\", \"\\u043f\\u043e\\u043a\\u0443\\u043f\\u043a\\u0430\", \"\\u043f\\u043e\\u043a\\u0443\\u043f\\u043a\\u0430\", \"\\u043f\\u043e\\u043a\\u0443\\u043f\\u043a\\u0430\", \"\\u043f\\u043e\\u043b\\u0438\\u0441\", \"\\u043f\\u043e\\u043b\\u0438\\u0441\", \"\\u043f\\u043e\\u043b\\u0438\\u0446\\u0438\\u044f\", \"\\u043f\\u043e\\u043b\\u0438\\u0446\\u0438\\u044f\", \"\\u043f\\u043e\\u043b\\u0438\\u0446\\u0438\\u044f\", \"\\u043f\\u043e\\u043b\\u043e\\u0436\\u0435\\u043d\\u0438\\u0435\", \"\\u043f\\u043e\\u043b\\u043e\\u0436\\u0435\\u043d\\u0438\\u0435\", \"\\u043f\\u043e\\u043b\\u043e\\u0436\\u0435\\u043d\\u0438\\u0435\", \"\\u043f\\u043e\\u043b\\u043e\\u0436\\u0435\\u043d\\u0438\\u0435\", \"\\u043f\\u043e\\u043b\\u043e\\u0436\\u0435\\u043d\\u0438\\u0435\", \"\\u043f\\u043e\\u043b\\u043e\\u0436\\u0435\\u043d\\u0438\\u0435\", \"\\u043f\\u043e\\u043b\\u043e\\u0436\\u0438\\u0442\\u044c\", \"\\u043f\\u043e\\u043b\\u043e\\u0436\\u0438\\u0442\\u044c\", \"\\u043f\\u043e\\u043b\\u043e\\u0436\\u0438\\u0442\\u044c\", \"\\u043f\\u043e\\u043b\\u043e\\u0436\\u0438\\u0442\\u044c\", \"\\u043f\\u043e\\u043b\\u0443\\u0447\\u0435\\u043d\\u0438\\u0435\", \"\\u043f\\u043e\\u043b\\u0443\\u0447\\u0435\\u043d\\u0438\\u0435\", \"\\u043f\\u043e\\u043b\\u0443\\u0447\\u0435\\u043d\\u0438\\u0435\", \"\\u043f\\u043e\\u043b\\u0443\\u0447\\u0435\\u043d\\u0438\\u0435\", \"\\u043f\\u043e\\u043b\\u0443\\u0447\\u0435\\u043d\\u0438\\u0435\", \"\\u043f\\u043e\\u043b\\u0443\\u0447\\u0435\\u043d\\u0438\\u0435\", \"\\u043f\\u043e\\u043b\\u0443\\u0447\\u0435\\u043d\\u0438\\u0435\", \"\\u043f\\u043e\\u043b\\u0443\\u0447\\u0435\\u043d\\u0438\\u0435\", \"\\u043f\\u043e\\u043b\\u0443\\u0447\\u0438\\u0442\\u044c\", \"\\u043f\\u043e\\u043b\\u0443\\u0447\\u0438\\u0442\\u044c\", \"\\u043f\\u043e\\u043b\\u0443\\u0447\\u0438\\u0442\\u044c\", \"\\u043f\\u043e\\u043b\\u0443\\u0447\\u0438\\u0442\\u044c\", \"\\u043f\\u043e\\u043b\\u0443\\u0447\\u0438\\u0442\\u044c\", \"\\u043f\\u043e\\u043b\\u0443\\u0447\\u0438\\u0442\\u044c\", \"\\u043f\\u043e\\u043b\\u0443\\u0447\\u0438\\u0442\\u044c\", \"\\u043f\\u043e\\u043b\\u0443\\u0447\\u0438\\u0442\\u044c\", \"\\u043f\\u043e\\u043b\\u044c\\u0437\\u043e\\u0432\\u0430\\u0442\\u044c\\u0441\\u044f\", \"\\u043f\\u043e\\u043b\\u044c\\u0437\\u043e\\u0432\\u0430\\u0442\\u044c\\u0441\\u044f\", \"\\u043f\\u043e\\u043b\\u044c\\u0437\\u043e\\u0432\\u0430\\u0442\\u044c\\u0441\\u044f\", \"\\u043f\\u043e\\u043b\\u044c\\u0437\\u043e\\u0432\\u0430\\u0442\\u044c\\u0441\\u044f\", \"\\u043f\\u043e\\u043b\\u044c\\u0437\\u043e\\u0432\\u0430\\u0442\\u044c\\u0441\\u044f\", \"\\u043f\\u043e\\u043b\\u044c\\u0437\\u043e\\u0432\\u0430\\u0442\\u044c\\u0441\\u044f\", \"\\u043f\\u043e\\u043c\\u043e\\u0447\\u044c\", \"\\u043f\\u043e\\u043c\\u043e\\u0447\\u044c\", \"\\u043f\\u043e\\u043c\\u043e\\u0447\\u044c\", \"\\u043f\\u043e\\u043c\\u043e\\u0447\\u044c\", \"\\u043f\\u043e\\u043c\\u043e\\u0447\\u044c\", \"\\u043f\\u043e\\u043c\\u043e\\u0447\\u044c\", \"\\u043f\\u043e\\u043c\\u043e\\u0449\\u044c\", \"\\u043f\\u043e\\u043c\\u043e\\u0449\\u044c\", \"\\u043f\\u043e\\u043c\\u043e\\u0449\\u044c\", \"\\u043f\\u043e\\u043c\\u043e\\u0449\\u044c\", \"\\u043f\\u043e\\u043c\\u043e\\u0449\\u044c\", \"\\u043f\\u043e\\u043c\\u043e\\u0449\\u044c\", \"\\u043f\\u043e\\u043c\\u043e\\u0449\\u044c\", \"\\u043f\\u043e\\u0440\\u0442\\u0430\\u043b\", \"\\u043f\\u043e\\u0440\\u0442\\u0430\\u043b\", \"\\u043f\\u043e\\u0440\\u0443\\u0447\\u0435\\u043d\\u0438\\u0435\", \"\\u043f\\u043e\\u0440\\u0443\\u0447\\u0435\\u043d\\u0438\\u0435\", \"\\u043f\\u043e\\u0440\\u0443\\u0447\\u0435\\u043d\\u0438\\u0435\", \"\\u043f\\u043e\\u0440\\u0443\\u0447\\u0435\\u043d\\u0438\\u0435\", \"\\u043f\\u043e\\u0441\\u0442\\u0440\\u043e\\u0439\\u043a\\u0430\", \"\\u043f\\u043e\\u0442\\u0440\\u0435\\u0431\\u0438\\u0442\\u0435\\u043b\\u044c\", \"\\u043f\\u043e\\u0442\\u0440\\u0435\\u0431\\u0438\\u0442\\u0435\\u043b\\u044c\", \"\\u043f\\u043e\\u0442\\u0440\\u0435\\u0431\\u0438\\u0442\\u0435\\u043b\\u044c\", \"\\u043f\\u043e\\u0442\\u0440\\u0435\\u0431\\u0438\\u0442\\u0435\\u043b\\u044c\", \"\\u043f\\u043e\\u0442\\u0440\\u0435\\u0431\\u0438\\u0442\\u0435\\u043b\\u044c\\u0441\\u043a\\u0438\\u0439\", \"\\u043f\\u043e\\u0442\\u0440\\u0435\\u0431\\u0438\\u0442\\u0435\\u043b\\u044c\\u0441\\u043a\\u0438\\u0439\", \"\\u043f\\u043e\\u0442\\u0440\\u0435\\u0431\\u0438\\u0442\\u0435\\u043b\\u044c\\u0441\\u043a\\u0438\\u0439\", \"\\u043f\\u043e\\u0448\\u043b\\u0438\\u043d\\u0430\", \"\\u043f\\u043e\\u0448\\u043b\\u0438\\u043d\\u0430\", \"\\u043f\\u043f\\u0444\", \"\\u043f\\u0440\\u0430\\u0432\\u043e\", \"\\u043f\\u0440\\u0430\\u0432\\u043e\", \"\\u043f\\u0440\\u0430\\u0432\\u043e\", \"\\u043f\\u0440\\u0430\\u0432\\u043e\", \"\\u043f\\u0440\\u0430\\u0432\\u043e\", \"\\u043f\\u0440\\u0430\\u0432\\u043e\", \"\\u043f\\u0440\\u0430\\u0432\\u043e\", \"\\u043f\\u0440\\u0430\\u0432\\u043e\", \"\\u043f\\u0440\\u0435\\u0434\\u0432\\u0438\\u0434\\u0435\\u0442\\u044c\", \"\\u043f\\u0440\\u0435\\u0434\\u043b\\u043e\\u0436\\u0435\\u043d\\u0438\\u0435\", \"\\u043f\\u0440\\u0435\\u0434\\u043b\\u043e\\u0436\\u0435\\u043d\\u0438\\u0435\", \"\\u043f\\u0440\\u0435\\u0434\\u043b\\u043e\\u0436\\u0435\\u043d\\u0438\\u0435\", \"\\u043f\\u0440\\u0435\\u0434\\u043b\\u043e\\u0436\\u0435\\u043d\\u0438\\u0435\", \"\\u043f\\u0440\\u0435\\u0434\\u043b\\u043e\\u0436\\u0435\\u043d\\u0438\\u0435\", \"\\u043f\\u0440\\u0435\\u0434\\u043b\\u043e\\u0436\\u0435\\u043d\\u0438\\u0435\", \"\\u043f\\u0440\\u0435\\u0434\\u043b\\u043e\\u0436\\u0435\\u043d\\u0438\\u0435\", \"\\u043f\\u0440\\u0435\\u0434\\u043e\\u0441\\u0442\\u0430\\u0432\\u0438\\u0442\\u044c\", \"\\u043f\\u0440\\u0435\\u0434\\u043e\\u0441\\u0442\\u0430\\u0432\\u0438\\u0442\\u044c\", \"\\u043f\\u0440\\u0435\\u0434\\u043e\\u0441\\u0442\\u0430\\u0432\\u0438\\u0442\\u044c\", \"\\u043f\\u0440\\u0435\\u0434\\u043e\\u0441\\u0442\\u0430\\u0432\\u0438\\u0442\\u044c\", \"\\u043f\\u0440\\u0435\\u0434\\u043e\\u0441\\u0442\\u0430\\u0432\\u0438\\u0442\\u044c\", \"\\u043f\\u0440\\u0435\\u0434\\u043e\\u0441\\u0442\\u0430\\u0432\\u0438\\u0442\\u044c\", \"\\u043f\\u0440\\u0435\\u0434\\u0441\\u0442\\u0430\\u0432\\u0438\\u0442\\u0435\\u043b\\u044c\", \"\\u043f\\u0440\\u0435\\u0434\\u0441\\u0442\\u0430\\u0432\\u0438\\u0442\\u0435\\u043b\\u044c\", \"\\u043f\\u0440\\u0435\\u0434\\u0441\\u0442\\u0430\\u0432\\u0438\\u0442\\u0435\\u043b\\u044c\", \"\\u043f\\u0440\\u0435\\u0434\\u0441\\u0442\\u0430\\u0432\\u0438\\u0442\\u0435\\u043b\\u044c\", \"\\u043f\\u0440\\u0435\\u0434\\u0441\\u0442\\u0430\\u0432\\u0438\\u0442\\u0435\\u043b\\u044c\", \"\\u043f\\u0440\\u0435\\u0434\\u0441\\u0442\\u0430\\u0432\\u0438\\u0442\\u0435\\u043b\\u044c\", \"\\u043f\\u0440\\u0435\\u0434\\u0441\\u0442\\u0430\\u0432\\u0438\\u0442\\u0435\\u043b\\u044c\", \"\\u043f\\u0440\\u0435\\u043a\\u0440\\u0430\\u0449\\u0435\\u043d\\u0438\\u0435\", \"\\u043f\\u0440\\u0435\\u043a\\u0440\\u0430\\u0449\\u0435\\u043d\\u0438\\u0435\", \"\\u043f\\u0440\\u0435\\u043a\\u0440\\u0430\\u0449\\u0435\\u043d\\u0438\\u0435\", \"\\u043f\\u0440\\u0438\\u0435\\u0437\\u0436\\u0430\\u0439\", \"\\u043f\\u0440\\u0438\\u0437\\u043d\\u0430\\u0442\\u0435\\u043b\\u044c\\u043d\\u043e\\u0441\\u0442\\u044c\", \"\\u043f\\u0440\\u0438\\u0439\\u0442\\u0438\", \"\\u043f\\u0440\\u0438\\u0439\\u0442\\u0438\", \"\\u043f\\u0440\\u0438\\u0439\\u0442\\u0438\", \"\\u043f\\u0440\\u0438\\u0439\\u0442\\u0438\", \"\\u043f\\u0440\\u0438\\u0439\\u0442\\u0438\", \"\\u043f\\u0440\\u0438\\u0439\\u0442\\u0438\", \"\\u043f\\u0440\\u0438\\u0439\\u0442\\u0438\", \"\\u043f\\u0440\\u0438\\u043a\\u0430\\u0437\", \"\\u043f\\u0440\\u0438\\u043a\\u0430\\u0437\", \"\\u043f\\u0440\\u0438\\u043d\\u0441\\u043e\\u0446\\u0431\\u0430\\u043d\\u043a\", \"\\u043f\\u0440\\u0438\\u043e\\u0441\\u0442\\u0430\\u043d\\u0430\\u0432\\u043b\\u0438\\u0432\\u0430\\u0442\\u044c\", \"\\u043f\\u0440\\u0438\\u0441\\u0442\\u0430\\u0432\", \"\\u043f\\u0440\\u0438\\u0441\\u0442\\u0430\\u0432\", \"\\u043f\\u0440\\u0438\\u0441\\u0442\\u0430\\u0432\", \"\\u043f\\u0440\\u0438\\u044f\\u0442\\u043d\\u044b\\u0439\", \"\\u043f\\u0440\\u0438\\u044f\\u0442\\u043d\\u044b\\u0439\", \"\\u043f\\u0440\\u0438\\u044f\\u0442\\u043d\\u044b\\u0439\", \"\\u043f\\u0440\\u043e\\u0431\\u043b\\u0435\\u043c\\u0430\", \"\\u043f\\u0440\\u043e\\u0431\\u043b\\u0435\\u043c\\u0430\", \"\\u043f\\u0440\\u043e\\u0431\\u043b\\u0435\\u043c\\u0430\", \"\\u043f\\u0440\\u043e\\u0431\\u043b\\u0435\\u043c\\u0430\", \"\\u043f\\u0440\\u043e\\u0431\\u043b\\u0435\\u043c\\u0430\", \"\\u043f\\u0440\\u043e\\u0431\\u043b\\u0435\\u043c\\u0430\", \"\\u043f\\u0440\\u043e\\u0431\\u043b\\u0435\\u043c\\u0430\", \"\\u043f\\u0440\\u043e\\u0431\\u043b\\u0435\\u043c\\u0430\", \"\\u043f\\u0440\\u043e\\u0432\\u0435\\u0440\\u043a\\u0430\", \"\\u043f\\u0440\\u043e\\u0432\\u0435\\u0440\\u043a\\u0430\", \"\\u043f\\u0440\\u043e\\u0432\\u0435\\u0440\\u043a\\u0430\", \"\\u043f\\u0440\\u043e\\u0432\\u0435\\u0440\\u043a\\u0430\", \"\\u043f\\u0440\\u043e\\u0432\\u0435\\u0440\\u043a\\u0430\", \"\\u043f\\u0440\\u043e\\u0432\\u0435\\u0440\\u043a\\u0430\", \"\\u043f\\u0440\\u043e\\u0432\\u0435\\u0440\\u043a\\u0430\", \"\\u043f\\u0440\\u043e\\u0434\\u0430\\u0432\\u0435\\u0446\", \"\\u043f\\u0440\\u043e\\u0434\\u0430\\u0432\\u0435\\u0446\", \"\\u043f\\u0440\\u043e\\u0434\\u0430\\u0432\\u0435\\u0446\", \"\\u043f\\u0440\\u043e\\u0434\\u0430\\u0432\\u0435\\u0446\", \"\\u043f\\u0440\\u043e\\u0438\\u0437\\u0432\\u0435\\u0441\\u0442\\u0438\", \"\\u043f\\u0440\\u043e\\u0438\\u0437\\u0432\\u0435\\u0441\\u0442\\u0438\", \"\\u043f\\u0440\\u043e\\u0438\\u0437\\u0432\\u0435\\u0441\\u0442\\u0438\", \"\\u043f\\u0440\\u043e\\u0438\\u0437\\u0432\\u0435\\u0441\\u0442\\u0438\", \"\\u043f\\u0440\\u043e\\u0438\\u0437\\u0432\\u0435\\u0441\\u0442\\u0438\", \"\\u043f\\u0440\\u043e\\u0438\\u0437\\u0432\\u0435\\u0441\\u0442\\u0438\", \"\\u043f\\u0440\\u043e\\u0438\\u0437\\u043e\\u0439\\u0442\\u0438\", \"\\u043f\\u0440\\u043e\\u0438\\u0437\\u043e\\u0439\\u0442\\u0438\", \"\\u043f\\u0440\\u043e\\u0438\\u0437\\u043e\\u0439\\u0442\\u0438\", \"\\u043f\\u0440\\u043e\\u0438\\u0437\\u043e\\u0439\\u0442\\u0438\", \"\\u043f\\u0440\\u043e\\u0438\\u0437\\u043e\\u0439\\u0442\\u0438\", \"\\u043f\\u0440\\u043e\\u0441\\u0438\\u0434\\u0435\\u0442\\u044c\", \"\\u043f\\u0440\\u043e\\u0441\\u0438\\u0442\\u044c\", \"\\u043f\\u0440\\u043e\\u0441\\u0438\\u0442\\u044c\", \"\\u043f\\u0440\\u043e\\u0441\\u0438\\u0442\\u044c\", \"\\u043f\\u0440\\u043e\\u0441\\u0438\\u0442\\u044c\", \"\\u043f\\u0440\\u043e\\u0441\\u0438\\u0442\\u044c\", \"\\u043f\\u0440\\u043e\\u0441\\u0438\\u0442\\u044c\", \"\\u043f\\u0440\\u043e\\u0441\\u0438\\u0442\\u044c\", \"\\u043f\\u0440\\u043e\\u0441\\u0438\\u0442\\u044c\", \"\\u043f\\u0440\\u043e\\u0441\\u0440\\u043e\\u0447\\u043a\\u0430\", \"\\u043f\\u0440\\u043e\\u0441\\u0440\\u043e\\u0447\\u043a\\u0430\", \"\\u043f\\u0440\\u043e\\u0441\\u0440\\u043e\\u0447\\u043a\\u0430\", \"\\u043f\\u0440\\u043e\\u0444\\u0435\\u0441\\u0441\\u0438\\u043e\\u043d\\u0430\\u043b\", \"\\u043f\\u0440\\u043e\\u0444\\u0435\\u0441\\u0441\\u0438\\u043e\\u043d\\u0430\\u043b\\u0438\\u0437\\u043c\", \"\\u043f\\u0440\\u043e\\u0444\\u0435\\u0441\\u0441\\u0438\\u043e\\u043d\\u0430\\u043b\\u0438\\u0437\\u043c\", \"\\u043f\\u0440\\u043e\\u0444\\u0435\\u0441\\u0441\\u0438\\u043e\\u043d\\u0430\\u043b\\u044c\\u043d\\u044b\\u0439\", \"\\u043f\\u0440\\u043e\\u0444\\u0435\\u0441\\u0441\\u0438\\u043e\\u043d\\u0430\\u043b\\u044c\\u043d\\u044b\\u0439\", \"\\u043f\\u0440\\u043e\\u0444\\u0438\\u043b\\u044c\", \"\\u043f\\u0440\\u043e\\u0444\\u0438\\u043b\\u044c\", \"\\u043f\\u0440\\u043e\\u0446\\u0435\\u043d\\u0442\", \"\\u043f\\u0440\\u043e\\u0446\\u0435\\u043d\\u0442\", \"\\u043f\\u0440\\u043e\\u0446\\u0435\\u043d\\u0442\", \"\\u043f\\u0440\\u043e\\u0446\\u0435\\u043d\\u0442\", \"\\u043f\\u0440\\u043e\\u0446\\u0435\\u043d\\u0442\", \"\\u043f\\u0440\\u043e\\u0446\\u0435\\u043d\\u0442\", \"\\u043f\\u0440\\u043e\\u0446\\u0435\\u043d\\u0442\\u043d\\u044b\\u0439\", \"\\u043f\\u0440\\u043e\\u0446\\u0435\\u043d\\u0442\\u043d\\u044b\\u0439\", \"\\u043f\\u0440\\u043e\\u0446\\u0435\\u043d\\u0442\\u043d\\u044b\\u0439\", \"\\u043f\\u0440\\u043e\\u0446\\u0435\\u043d\\u0442\\u043d\\u044b\\u0439\", \"\\u043f\\u0440\\u043e\\u0446\\u0435\\u043d\\u0442\\u043d\\u044b\\u0439\", \"\\u043f\\u044f\\u0442\\u0438\\u0442\\u044b\\u0441\\u044f\\u0447\\u043d\\u044b\\u0439\", \"\\u0440\\u0430\\u0431\\u043e\\u0442\\u0430\", \"\\u0440\\u0430\\u0431\\u043e\\u0442\\u0430\", \"\\u0440\\u0430\\u0431\\u043e\\u0442\\u0430\", \"\\u0440\\u0430\\u0431\\u043e\\u0442\\u0430\", \"\\u0440\\u0430\\u0431\\u043e\\u0442\\u0430\", \"\\u0440\\u0430\\u0431\\u043e\\u0442\\u0430\", \"\\u0440\\u0430\\u0431\\u043e\\u0442\\u0430\", \"\\u0440\\u0430\\u0431\\u043e\\u0442\\u0430\\u0442\\u044c\", \"\\u0440\\u0430\\u0431\\u043e\\u0442\\u0430\\u0442\\u044c\", \"\\u0440\\u0430\\u0431\\u043e\\u0442\\u0430\\u0442\\u044c\", \"\\u0440\\u0430\\u0431\\u043e\\u0442\\u0430\\u0442\\u044c\", \"\\u0440\\u0430\\u0431\\u043e\\u0442\\u0430\\u0442\\u044c\", \"\\u0440\\u0430\\u0431\\u043e\\u0442\\u0430\\u0442\\u044c\", \"\\u0440\\u0430\\u0431\\u043e\\u0442\\u0430\\u0442\\u044c\", \"\\u0440\\u0430\\u0431\\u043e\\u0442\\u0430\\u0442\\u044c\", \"\\u0440\\u0430\\u0437\", \"\\u0440\\u0430\\u0437\", \"\\u0440\\u0430\\u0437\", \"\\u0440\\u0430\\u0437\", \"\\u0440\\u0430\\u0437\", \"\\u0440\\u0430\\u0437\", \"\\u0440\\u0430\\u0437\", \"\\u0440\\u0430\\u0437\", \"\\u0440\\u0430\\u0437\\u0431\\u043b\\u043e\\u043a\\u0438\\u0440\\u043e\\u0432\\u0430\\u0442\\u044c\", \"\\u0440\\u0430\\u0437\\u0431\\u043b\\u043e\\u043a\\u0438\\u0440\\u043e\\u0432\\u0430\\u0442\\u044c\", \"\\u0440\\u0430\\u0441\\u0442\\u043e\\u0440\\u0436\\u0435\\u043d\\u0438\\u0435\", \"\\u0440\\u0430\\u0441\\u0442\\u043e\\u0440\\u0436\\u0435\\u043d\\u0438\\u0435\", \"\\u0440\\u0430\\u0441\\u0442\\u043e\\u0440\\u0436\\u0435\\u043d\\u0438\\u0435\", \"\\u0440\\u0430\\u0441\\u0447\\u0451\\u0442\\u043d\\u044b\\u0439\", \"\\u0440\\u0430\\u0441\\u0447\\u0451\\u0442\\u043d\\u044b\\u0439\", \"\\u0440\\u0430\\u0441\\u0447\\u0451\\u0442\\u043d\\u044b\\u0439\", \"\\u0440\\u0435\\u0433\\u0438\\u0441\\u0442\\u0440\\u0430\\u0446\\u0438\\u044f\", \"\\u0440\\u0435\\u0433\\u0438\\u0441\\u0442\\u0440\\u0430\\u0446\\u0438\\u044f\", \"\\u0440\\u0435\\u0433\\u0438\\u0441\\u0442\\u0440\\u0430\\u0446\\u0438\\u044f\", \"\\u0440\\u0435\\u0433\\u0438\\u0441\\u0442\\u0440\\u0430\\u0446\\u0438\\u044f\", \"\\u0440\\u0435\\u0433\\u0438\\u0441\\u0442\\u0440\\u0430\\u0446\\u0438\\u044f\", \"\\u0440\\u0435\\u0435\\u0441\\u0442\\u0440\", \"\\u0440\\u0435\\u043a\\u0432\\u0438\\u0437\\u0438\\u0442\", \"\\u0440\\u0435\\u043a\\u0432\\u0438\\u0437\\u0438\\u0442\", \"\\u0440\\u0435\\u043a\\u0432\\u0438\\u0437\\u0438\\u0442\", \"\\u0440\\u0435\\u043a\\u0432\\u0438\\u0437\\u0438\\u0442\", \"\\u0440\\u0435\\u0441\\u0442\\u0440\\u0443\\u043a\\u0442\\u0443\\u0440\\u0438\\u0437\\u0430\\u0446\\u0438\\u044f\", \"\\u0440\\u0435\\u0441\\u0442\\u0440\\u0443\\u043a\\u0442\\u0443\\u0440\\u0438\\u0437\\u0430\\u0446\\u0438\\u044f\", \"\\u0440\\u0435\\u0444\\u0438\\u043d\\u0430\\u043d\\u0441\\u0438\\u0440\\u043e\\u0432\\u0430\\u043d\\u0438\\u0435\", \"\\u0440\\u0435\\u0444\\u0438\\u043d\\u0430\\u043d\\u0441\\u0438\\u0440\\u043e\\u0432\\u0430\\u0442\\u044c\", \"\\u0440\\u043e\\u0441\\u0432\\u043e\\u0435\\u043d\\u0438\\u043f\\u043e\\u0442\\u0435\\u043a\\u0430\", \"\\u0440\\u043e\\u0441\\u0441\\u0438\\u044f\", \"\\u0440\\u043e\\u0441\\u0441\\u0438\\u044f\", \"\\u0440\\u043e\\u0441\\u0441\\u0438\\u044f\", \"\\u0440\\u043e\\u0441\\u0441\\u0438\\u044f\", \"\\u0440\\u043e\\u0441\\u0441\\u0438\\u044f\", \"\\u0440\\u043e\\u0441\\u0441\\u0438\\u044f\", \"\\u0440\\u043e\\u0441\\u0441\\u0438\\u044f\", \"\\u0440\\u0443\\u0431\", \"\\u0440\\u0443\\u0431\", \"\\u0440\\u0443\\u0431\", \"\\u0440\\u0443\\u0431\", \"\\u0440\\u0443\\u0431\", \"\\u0440\\u0443\\u0431\", \"\\u0440\\u0443\\u0431\\u043b\\u044c\", \"\\u0440\\u0443\\u0431\\u043b\\u044c\", \"\\u0440\\u0443\\u0431\\u043b\\u044c\", \"\\u0440\\u0443\\u0431\\u043b\\u044c\", \"\\u0440\\u0443\\u0431\\u043b\\u044c\", \"\\u0440\\u0443\\u043a\\u0430\", \"\\u0440\\u0443\\u043a\\u0430\", \"\\u0440\\u0443\\u043a\\u0430\", \"\\u0440\\u0443\\u043a\\u0430\", \"\\u0440\\u0443\\u043a\\u0430\", \"\\u0440\\u0443\\u043a\\u0430\", \"\\u0440\\u0443\\u043a\\u043e\\u0432\\u043e\\u0434\\u0438\\u0442\\u0435\\u043b\\u044c\", \"\\u0440\\u0443\\u043a\\u043e\\u0432\\u043e\\u0434\\u0438\\u0442\\u0435\\u043b\\u044c\", \"\\u0440\\u0443\\u043a\\u043e\\u0432\\u043e\\u0434\\u0438\\u0442\\u0435\\u043b\\u044c\", \"\\u0440\\u0443\\u043a\\u043e\\u0432\\u043e\\u0434\\u0438\\u0442\\u0435\\u043b\\u044c\", \"\\u0440\\u0444\", \"\\u0440\\u0444\", \"\\u0440\\u0444\", \"\\u0440\\u0444\", \"\\u0440\\u0444\", \"\\u0440\\u0444\", \"\\u0440\\u0444\", \"\\u0441\\u0430\\u0439\\u0442\", \"\\u0441\\u0430\\u0439\\u0442\", \"\\u0441\\u0430\\u0439\\u0442\", \"\\u0441\\u0430\\u0439\\u0442\", \"\\u0441\\u0430\\u0439\\u0442\", \"\\u0441\\u0430\\u0439\\u0442\", \"\\u0441\\u0430\\u0439\\u0442\", \"\\u0441\\u0430\\u043c\\u043e\\u043e\\u0431\\u0441\\u043b\\u0443\\u0436\\u0438\\u0432\\u0430\\u043d\\u0438\\u0435\", \"\\u0441\\u0430\\u043c\\u043e\\u043e\\u0431\\u0441\\u043b\\u0443\\u0436\\u0438\\u0432\\u0430\\u043d\\u0438\\u0435\", \"\\u0441\\u0430\\u043c\\u043e\\u043e\\u0431\\u0441\\u043b\\u0443\\u0436\\u0438\\u0432\\u0430\\u043d\\u0438\\u0435\", \"\\u0441\\u0430\\u043d\\u0430\\u0442\\u043e\\u0440\\u0438\\u0439\", \"\\u0441\\u0431\\u0435\\u0440\\u0431\\u0430\\u043d\\u043a\", \"\\u0441\\u0431\\u0435\\u0440\\u0431\\u0430\\u043d\\u043a\", \"\\u0441\\u0431\\u0435\\u0440\\u0431\\u0430\\u043d\\u043a\", \"\\u0441\\u0431\\u0435\\u0440\\u0431\\u0430\\u043d\\u043a\", \"\\u0441\\u0431\\u0435\\u0440\\u0431\\u0430\\u043d\\u043a\", \"\\u0441\\u0431\\u0435\\u0440\\u0431\\u0430\\u043d\\u043a\", \"\\u0441\\u0431\\u0435\\u0440\\u0431\\u0430\\u043d\\u043a\", \"\\u0441\\u0431\\u0435\\u0440\\u0431\\u0430\\u043d\\u043a\", \"\\u0441\\u0431\\u0435\\u0440\\u043a\\u043d\\u0438\\u0436\\u043a\\u0430\", \"\\u0441\\u0431\\u0435\\u0440\\u043a\\u043d\\u0438\\u0436\\u043a\\u0430\", \"\\u0441\\u0431\\u0435\\u0440\\u043a\\u043d\\u0438\\u0436\\u043a\\u0430\", \"\\u0441\\u0431\\u0435\\u0440\\u043a\\u043d\\u0438\\u0436\\u043a\\u0430\", \"\\u0441\\u0431\\u0435\\u0440\\u043a\\u043d\\u0438\\u0436\\u043a\\u0430\", \"\\u0441\\u0431\\u043e\\u0439\", \"\\u0441\\u0431\\u043e\\u0439\", \"\\u0441\\u0434\\u0435\\u043b\\u0430\\u0442\\u044c\", \"\\u0441\\u0434\\u0435\\u043b\\u0430\\u0442\\u044c\", \"\\u0441\\u0434\\u0435\\u043b\\u0430\\u0442\\u044c\", \"\\u0441\\u0434\\u0435\\u043b\\u0430\\u0442\\u044c\", \"\\u0441\\u0434\\u0435\\u043b\\u0430\\u0442\\u044c\", \"\\u0441\\u0434\\u0435\\u043b\\u0430\\u0442\\u044c\", \"\\u0441\\u0434\\u0435\\u043b\\u0430\\u0442\\u044c\", \"\\u0441\\u0438\\u043c\", \"\\u0441\\u0438\\u0441\\u0442\\u0435\\u043c\\u0430\", \"\\u0441\\u0438\\u0441\\u0442\\u0435\\u043c\\u0430\", \"\\u0441\\u0438\\u0441\\u0442\\u0435\\u043c\\u0430\", \"\\u0441\\u0438\\u0441\\u0442\\u0435\\u043c\\u0430\", \"\\u0441\\u0438\\u0441\\u0442\\u0435\\u043c\\u0430\", \"\\u0441\\u0438\\u0441\\u0442\\u0435\\u043c\\u0430\", \"\\u0441\\u0438\\u0441\\u0442\\u0435\\u043c\\u0430\", \"\\u0441\\u0438\\u0442\\u0438\\u0431\\u0430\\u043d\\u043a\", \"\\u0441\\u0438\\u0442\\u0443\\u0430\\u0446\\u0438\\u044f\", \"\\u0441\\u0438\\u0442\\u0443\\u0430\\u0446\\u0438\\u044f\", \"\\u0441\\u0438\\u0442\\u0443\\u0430\\u0446\\u0438\\u044f\", \"\\u0441\\u0438\\u0442\\u0443\\u0430\\u0446\\u0438\\u044f\", \"\\u0441\\u0438\\u0442\\u0443\\u0430\\u0446\\u0438\\u044f\", \"\\u0441\\u0438\\u0442\\u0443\\u0430\\u0446\\u0438\\u044f\", \"\\u0441\\u0438\\u0442\\u0443\\u0430\\u0446\\u0438\\u044f\", \"\\u0441\\u0438\\u0442\\u0443\\u0430\\u0446\\u0438\\u044f\", \"\\u0441\\u043a\", \"\\u0441\\u043a\", \"\\u0441\\u043a\\u0430\\u0437\\u0430\\u0442\\u044c\", \"\\u0441\\u043a\\u0430\\u0437\\u0430\\u0442\\u044c\", \"\\u0441\\u043a\\u0430\\u0437\\u0430\\u0442\\u044c\", \"\\u0441\\u043a\\u0430\\u0437\\u0430\\u0442\\u044c\", \"\\u0441\\u043a\\u0430\\u0437\\u0430\\u0442\\u044c\", \"\\u0441\\u043a\\u0430\\u0437\\u0430\\u0442\\u044c\", \"\\u0441\\u043a\\u0430\\u0437\\u0430\\u0442\\u044c\", \"\\u0441\\u043a\\u0438\\u0434\\u043a\\u0430\", \"\\u0441\\u043a\\u0438\\u0434\\u043a\\u0430\", \"\\u0441\\u043a\\u0438\\u0434\\u043a\\u0430\", \"\\u0441\\u043a\\u0438\\u0434\\u043a\\u0430\", \"\\u0441\\u043a\\u0440\\u0438\\u043d\\u0448\\u043e\\u0442\", \"\\u0441\\u043a\\u0440\\u0438\\u043d\\u0448\\u043e\\u0442\", \"\\u0441\\u043b\\u0443\\u0447\\u0430\\u0439\", \"\\u0441\\u043b\\u0443\\u0447\\u0430\\u0439\", \"\\u0441\\u043b\\u0443\\u0447\\u0430\\u0439\", \"\\u0441\\u043b\\u0443\\u0447\\u0430\\u0439\", \"\\u0441\\u043b\\u0443\\u0447\\u0430\\u0439\", \"\\u0441\\u043b\\u0443\\u0447\\u0430\\u0439\", \"\\u0441\\u043b\\u0443\\u0447\\u0430\\u0439\", \"\\u0441\\u043c\\u0430\\u0440\\u0442\\u043f\\u043e\\u043b\\u0438\\u0441\", \"\\u0441\\u043c\\u0438\", \"\\u0441\\u043c\\u0438\", \"\\u0441\\u043c\\u0441\", \"\\u0441\\u043c\\u0441\", \"\\u0441\\u043c\\u0441\", \"\\u0441\\u043c\\u0441\", \"\\u0441\\u043c\\u0441\", \"\\u0441\\u043d\\u0438\\u0436\\u0435\\u043d\\u0438\\u0435\", \"\\u0441\\u043d\\u0438\\u0436\\u0435\\u043d\\u0438\\u0435\", \"\\u0441\\u043d\\u0438\\u043c\\u0430\\u0442\\u044c\", \"\\u0441\\u043d\\u0438\\u043c\\u0430\\u0442\\u044c\", \"\\u0441\\u043d\\u0438\\u043c\\u0430\\u0442\\u044c\", \"\\u0441\\u043d\\u0438\\u043c\\u0430\\u0442\\u044c\", \"\\u0441\\u043d\\u044f\\u0442\\u044c\", \"\\u0441\\u043d\\u044f\\u0442\\u044c\", \"\\u0441\\u043d\\u044f\\u0442\\u044c\", \"\\u0441\\u043d\\u044f\\u0442\\u044c\", \"\\u0441\\u043d\\u044f\\u0442\\u044c\", \"\\u0441\\u043e\\u0432\\u0435\\u0440\\u0448\\u0438\\u0442\\u044c\", \"\\u0441\\u043e\\u0432\\u0435\\u0440\\u0448\\u0438\\u0442\\u044c\", \"\\u0441\\u043e\\u0432\\u0435\\u0440\\u0448\\u0438\\u0442\\u044c\", \"\\u0441\\u043e\\u0432\\u0435\\u0440\\u0448\\u0438\\u0442\\u044c\", \"\\u0441\\u043e\\u0432\\u0435\\u0440\\u0448\\u0438\\u0442\\u044c\", \"\\u0441\\u043e\\u0432\\u0435\\u0442\\u043d\\u0438\\u043a\", \"\\u0441\\u043e\\u043e\\u0431\\u0449\\u0435\\u043d\\u0438\\u0435\", \"\\u0441\\u043e\\u043e\\u0431\\u0449\\u0435\\u043d\\u0438\\u0435\", \"\\u0441\\u043e\\u043e\\u0431\\u0449\\u0435\\u043d\\u0438\\u0435\", \"\\u0441\\u043e\\u043e\\u0431\\u0449\\u0435\\u043d\\u0438\\u0435\", \"\\u0441\\u043e\\u043e\\u0431\\u0449\\u0435\\u043d\\u0438\\u0435\", \"\\u0441\\u043e\\u043e\\u0442\\u0432\\u0435\\u0442\\u0441\\u0442\\u0432\\u0438\\u0435\", \"\\u0441\\u043e\\u043e\\u0442\\u0432\\u0435\\u0442\\u0441\\u0442\\u0432\\u0438\\u0435\", \"\\u0441\\u043e\\u043e\\u0442\\u0432\\u0435\\u0442\\u0441\\u0442\\u0432\\u0438\\u0435\", \"\\u0441\\u043e\\u043e\\u0442\\u0432\\u0435\\u0442\\u0441\\u0442\\u0432\\u0438\\u0435\", \"\\u0441\\u043e\\u043e\\u0442\\u0432\\u0435\\u0442\\u0441\\u0442\\u0432\\u0438\\u0435\", \"\\u0441\\u043e\\u0442\\u0440\\u0443\\u0434\\u043d\\u0438\\u043a\", \"\\u0441\\u043e\\u0442\\u0440\\u0443\\u0434\\u043d\\u0438\\u043a\", \"\\u0441\\u043e\\u0442\\u0440\\u0443\\u0434\\u043d\\u0438\\u043a\", \"\\u0441\\u043e\\u0442\\u0440\\u0443\\u0434\\u043d\\u0438\\u043a\", \"\\u0441\\u043e\\u0442\\u0440\\u0443\\u0434\\u043d\\u0438\\u043a\", \"\\u0441\\u043e\\u0442\\u0440\\u0443\\u0434\\u043d\\u0438\\u043a\", \"\\u0441\\u043e\\u0442\\u0440\\u0443\\u0434\\u043d\\u0438\\u043a\", \"\\u0441\\u043e\\u0442\\u0440\\u0443\\u0434\\u043d\\u0438\\u0446\\u0430\", \"\\u0441\\u043e\\u0442\\u0440\\u0443\\u0434\\u043d\\u0438\\u0446\\u0430\", \"\\u0441\\u043e\\u0442\\u0440\\u0443\\u0434\\u043d\\u0438\\u0446\\u0430\", \"\\u0441\\u043e\\u0442\\u0440\\u0443\\u0434\\u043d\\u0438\\u0446\\u0430\", \"\\u0441\\u043e\\u0442\\u0440\\u0443\\u0434\\u043d\\u0438\\u0446\\u0430\", \"\\u0441\\u043e\\u0442\\u0440\\u0443\\u0434\\u043d\\u0438\\u0446\\u0430\", \"\\u0441\\u043e\\u0442\\u0440\\u0443\\u0434\\u043d\\u0438\\u0446\\u0430\", \"\\u0441\\u043f\\u0430\\u0441\\u0438\\u0431\\u043e\", \"\\u0441\\u043f\\u0430\\u0441\\u0438\\u0431\\u043e\", \"\\u0441\\u043f\\u0430\\u0441\\u0438\\u0431\\u043e\", \"\\u0441\\u043f\\u0430\\u0441\\u0438\\u0431\\u043e\", \"\\u0441\\u043f\\u0430\\u0441\\u0438\\u0431\\u043e\", \"\\u0441\\u043f\\u0430\\u0441\\u0438\\u0431\\u043e\", \"\\u0441\\u043f\\u0430\\u0441\\u0438\\u0431\\u043e\", \"\\u0441\\u043f\\u0435\\u0446\\u0438\\u0430\\u043b\\u0438\\u0441\\u0442\", \"\\u0441\\u043f\\u0435\\u0446\\u0438\\u0430\\u043b\\u0438\\u0441\\u0442\", \"\\u0441\\u043f\\u0435\\u0446\\u0438\\u0430\\u043b\\u0438\\u0441\\u0442\", \"\\u0441\\u043f\\u0435\\u0446\\u0438\\u0430\\u043b\\u0438\\u0441\\u0442\", \"\\u0441\\u043f\\u0435\\u0446\\u0438\\u0430\\u043b\\u0438\\u0441\\u0442\", \"\\u0441\\u043f\\u0435\\u0446\\u0438\\u0430\\u043b\\u0438\\u0441\\u0442\", \"\\u0441\\u043f\\u0438\\u0441\\u0430\\u0442\\u044c\", \"\\u0441\\u043f\\u0438\\u0441\\u0430\\u0442\\u044c\", \"\\u0441\\u043f\\u0438\\u0441\\u0430\\u0442\\u044c\", \"\\u0441\\u043f\\u0438\\u0441\\u0430\\u0442\\u044c\", \"\\u0441\\u043f\\u0438\\u0441\\u0430\\u0442\\u044c\\u0441\\u044f\", \"\\u0441\\u043f\\u0438\\u0441\\u0430\\u0442\\u044c\\u0441\\u044f\", \"\\u0441\\u043f\\u0440\\u0430\\u0432\\u043a\\u0430\", \"\\u0441\\u043f\\u0440\\u0430\\u0432\\u043a\\u0430\", \"\\u0441\\u043f\\u0440\\u0430\\u0432\\u043a\\u0430\", \"\\u0441\\u043f\\u0440\\u0430\\u0432\\u043a\\u0430\", \"\\u0441\\u043f\\u0440\\u0430\\u0432\\u043a\\u0430\", \"\\u0441\\u0440\\u0435\\u0434\\u0441\\u0442\\u0432\\u043e\", \"\\u0441\\u0440\\u0435\\u0434\\u0441\\u0442\\u0432\\u043e\", \"\\u0441\\u0440\\u0435\\u0434\\u0441\\u0442\\u0432\\u043e\", \"\\u0441\\u0440\\u0435\\u0434\\u0441\\u0442\\u0432\\u043e\", \"\\u0441\\u0440\\u0435\\u0434\\u0441\\u0442\\u0432\\u043e\", \"\\u0441\\u0440\\u0435\\u0434\\u0441\\u0442\\u0432\\u043e\", \"\\u0441\\u0440\\u043e\\u043a\", \"\\u0441\\u0440\\u043e\\u043a\", \"\\u0441\\u0440\\u043e\\u043a\", \"\\u0441\\u0440\\u043e\\u043a\", \"\\u0441\\u0440\\u043e\\u043a\", \"\\u0441\\u0440\\u043e\\u043a\", \"\\u0441\\u0440\\u043e\\u043a\", \"\\u0441\\u0442\", \"\\u0441\\u0442\", \"\\u0441\\u0442\", \"\\u0441\\u0442\", \"\\u0441\\u0442\\u0430\\u0432\\u043a\\u0430\", \"\\u0441\\u0442\\u0430\\u0432\\u043a\\u0430\", \"\\u0441\\u0442\\u0430\\u0432\\u043a\\u0430\", \"\\u0441\\u0442\\u0430\\u0432\\u043a\\u0430\", \"\\u0441\\u0442\\u0430\\u0432\\u043a\\u0430\", \"\\u0441\\u0442\\u0430\\u0432\\u043e\\u043a\", \"\\u0441\\u0442\\u0430\\u0432\\u043e\\u043a\", \"\\u0441\\u0442\\u0430\\u0440\\u044b\\u0439\", \"\\u0441\\u0442\\u0430\\u0440\\u044b\\u0439\", \"\\u0441\\u0442\\u0430\\u0440\\u044b\\u0439\", \"\\u0441\\u0442\\u0430\\u0440\\u044b\\u0439\", \"\\u0441\\u0442\\u0430\\u0440\\u044b\\u0439\", \"\\u0441\\u0442\\u0430\\u0440\\u044b\\u0439\", \"\\u0441\\u0442\\u0430\\u0440\\u044b\\u0439\", \"\\u0441\\u0442\\u0430\\u0442\\u044c\\u044f\", \"\\u0441\\u0442\\u0430\\u0442\\u044c\\u044f\", \"\\u0441\\u0442\\u0430\\u0442\\u044c\\u044f\", \"\\u0441\\u0442\\u043e\\u043b\\u043e\\u0432\\u0430\\u044f\", \"\\u0441\\u0442\\u043e\\u043f\\u0430\", \"\\u0441\\u0442\\u0440\\u0430\\u0445\\u043e\\u0432\\u0430\\u043d\\u0438\\u0435\", \"\\u0441\\u0442\\u0440\\u0430\\u0445\\u043e\\u0432\\u0430\\u043d\\u0438\\u0435\", \"\\u0441\\u0442\\u0440\\u0430\\u0445\\u043e\\u0432\\u0430\\u043d\\u0438\\u0435\", \"\\u0441\\u0442\\u0440\\u0430\\u0445\\u043e\\u0432\\u043a\\u0430\", \"\\u0441\\u0442\\u0440\\u0430\\u0445\\u043e\\u0432\\u043a\\u0430\", \"\\u0441\\u0442\\u0440\\u0430\\u0445\\u043e\\u0432\\u043a\\u0430\", \"\\u0441\\u0442\\u0440\\u0430\\u0445\\u043e\\u0432\\u043e\\u0439\", \"\\u0441\\u0442\\u0440\\u0430\\u0445\\u043e\\u0432\\u043e\\u0439\", \"\\u0441\\u0442\\u0440\\u0430\\u0445\\u043e\\u0432\\u043e\\u0439\", \"\\u0441\\u0442\\u0440\\u0430\\u0445\\u043e\\u0432\\u043e\\u0439\", \"\\u0441\\u0442\\u0440\\u043e\\u044f\\u0449\\u0435\\u0433\\u043e\\u0441\\u044f\", \"\\u0441\\u0442\\u0443\\u043b\", \"\\u0441\\u0443\\u0434\", \"\\u0441\\u0443\\u0434\", \"\\u0441\\u0443\\u0434\", \"\\u0441\\u0443\\u0434\", \"\\u0441\\u0443\\u043c\\u043c\\u0430\", \"\\u0441\\u0443\\u043c\\u043c\\u0430\", \"\\u0441\\u0443\\u043c\\u043c\\u0430\", \"\\u0441\\u0443\\u043c\\u043c\\u0430\", \"\\u0441\\u0443\\u043c\\u043c\\u0430\", \"\\u0441\\u0443\\u043c\\u043c\\u0430\", \"\\u0441\\u0444\\u043e\\u0440\\u043c\\u0438\\u0440\\u043e\\u0432\\u0430\\u0442\\u044c\", \"\\u0441\\u0447\\u0438\\u0442\\u044b\\u0432\\u0430\\u043d\\u0438\\u0435\", \"\\u0441\\u0447\\u0451\\u0442\", \"\\u0441\\u0447\\u0451\\u0442\", \"\\u0441\\u0447\\u0451\\u0442\", \"\\u0441\\u0447\\u0451\\u0442\", \"\\u0441\\u0447\\u0451\\u0442\", \"\\u0441\\u0447\\u0451\\u0442\", \"\\u0441\\u0447\\u0451\\u0442\", \"\\u0441\\u0447\\u0451\\u0442\", \"\\u0442\", \"\\u0442\", \"\\u0442\", \"\\u0442\", \"\\u0442\", \"\\u0442\", \"\\u0442\", \"\\u0442\\u0430\\u043b\\u043e\\u043d\", \"\\u0442\\u0430\\u043b\\u043e\\u043d\", \"\\u0442\\u0430\\u043b\\u043e\\u043d\\u0447\\u0438\\u043a\", \"\\u0442\\u0430\\u043b\\u043e\\u043d\\u0447\\u0438\\u043a\", \"\\u0442\\u0430\\u043b\\u043e\\u043d\\u0447\\u0438\\u043a\", \"\\u0442\\u0435\\u043b\\u0435\\u0444\\u043e\\u043d\", \"\\u0442\\u0435\\u043b\\u0435\\u0444\\u043e\\u043d\", \"\\u0442\\u0435\\u043b\\u0435\\u0444\\u043e\\u043d\", \"\\u0442\\u0435\\u043b\\u0435\\u0444\\u043e\\u043d\", \"\\u0442\\u0435\\u043b\\u0435\\u0444\\u043e\\u043d\", \"\\u0442\\u0435\\u043b\\u0435\\u0444\\u043e\\u043d\", \"\\u0442\\u0435\\u043b\\u0435\\u0444\\u043e\\u043d\", \"\\u0442\\u0435\\u0445\\u043d\\u0438\\u0447\\u0435\\u0441\\u043a\\u0438\\u0439\", \"\\u0442\\u0435\\u0445\\u043d\\u0438\\u0447\\u0435\\u0441\\u043a\\u0438\\u0439\", \"\\u0442\\u0435\\u0445\\u043d\\u0438\\u0447\\u0435\\u0441\\u043a\\u0438\\u0439\", \"\\u0442\\u0435\\u0445\\u043d\\u0438\\u0447\\u0435\\u0441\\u043a\\u0438\\u0439\", \"\\u0442\\u0435\\u0445\\u043d\\u0438\\u0447\\u0435\\u0441\\u043a\\u0438\\u0439\", \"\\u0442\\u0435\\u0445\\u043d\\u0438\\u0447\\u0435\\u0441\\u043a\\u0438\\u0439\", \"\\u0442\\u0435\\u0445\\u043e\\u0432\\u0435\\u0440\", \"\\u0442\\u043e\\u0432\\u0430\\u0440\", \"\\u0442\\u043e\\u0432\\u0430\\u0440\", \"\\u0442\\u043e\\u0432\\u0430\\u0440\", \"\\u0442\\u043e\\u0432\\u0430\\u0440\", \"\\u0442\\u0440\\u0430\\u043d\\u0437\\u0430\\u043a\\u0446\\u0438\\u044f\", \"\\u0442\\u0440\\u0430\\u043d\\u0437\\u0430\\u043a\\u0446\\u0438\\u044f\", \"\\u0442\\u0440\\u0430\\u043d\\u0437\\u0430\\u043a\\u0446\\u0438\\u044f\", \"\\u0442\\u0440\\u0430\\u043d\\u0437\\u0430\\u043a\\u0446\\u0438\\u044f\", \"\\u0442\\u0440\\u0438\\u0441\\u0442\\u0430\", \"\\u0442\\u0443\\u0440\", \"\\u0442\\u0443\\u0440\\u0438\\u0441\\u0442\", \"\\u0442\\u044b\\u0441\\u044f\\u0447\\u0430\", \"\\u0442\\u044b\\u0441\\u044f\\u0447\\u0430\", \"\\u0442\\u044b\\u0441\\u044f\\u0447\\u0430\", \"\\u0442\\u044b\\u0441\\u044f\\u0447\\u0430\", \"\\u0442\\u044b\\u0441\\u044f\\u0447\\u043d\\u044b\\u0439\", \"\\u0442\\u044e\\u043d\\u0438\\u043d\\u0430\", \"\\u0442\\u044f\\u0436\\u0435\\u043b\\u043e\\u0431\\u043e\\u043b\\u044c\\u043d\\u043e\\u0439\", \"\\u0443\\u0432\\u0435\\u043b\\u0438\\u0447\\u0435\\u043d\\u0438\\u0435\", \"\\u0443\\u043b\", \"\\u0443\\u043b\", \"\\u0443\\u043b\", \"\\u0443\\u043b\", \"\\u0443\\u043b\", \"\\u0443\\u043b\", \"\\u0443\\u043b\", \"\\u0443\\u0440\\u043f\\u0444\\u0437\\u043b\", \"\\u0443\\u0441\", \"\\u0443\\u0441\\u043b\\u043e\\u0432\\u0438\\u0435\", \"\\u0443\\u0441\\u043b\\u043e\\u0432\\u0438\\u0435\", \"\\u0443\\u0441\\u043b\\u043e\\u0432\\u0438\\u0435\", \"\\u0443\\u0441\\u043b\\u043e\\u0432\\u0438\\u0435\", \"\\u0443\\u0441\\u043b\\u043e\\u0432\\u0438\\u0435\", \"\\u0443\\u0441\\u043b\\u043e\\u0432\\u0438\\u0435\", \"\\u0443\\u0441\\u043b\\u043e\\u0432\\u0438\\u0435\", \"\\u0443\\u0441\\u043b\\u0443\\u0433\\u0430\", \"\\u0443\\u0441\\u043b\\u0443\\u0433\\u0430\", \"\\u0443\\u0441\\u043b\\u0443\\u0433\\u0430\", \"\\u0443\\u0441\\u043b\\u0443\\u0433\\u0430\", \"\\u0443\\u0441\\u043b\\u0443\\u0433\\u0430\", \"\\u0443\\u0441\\u043b\\u0443\\u0433\\u0430\", \"\\u0443\\u0441\\u043b\\u0443\\u0433\\u0430\", \"\\u0443\\u0441\\u043f\\u0435\\u0445\", \"\\u0443\\u0441\\u043f\\u0435\\u0445\", \"\\u0443\\u0441\\u0442\\u0440\\u043e\\u0439\\u0441\\u0442\\u0432\\u043e\", \"\\u0443\\u0441\\u0442\\u0440\\u043e\\u0439\\u0441\\u0442\\u0432\\u043e\", \"\\u0443\\u0441\\u0442\\u0440\\u043e\\u0439\\u0441\\u0442\\u0432\\u043e\", \"\\u0443\\u0441\\u0442\\u0440\\u043e\\u0439\\u0441\\u0442\\u0432\\u043e\", \"\\u0443\\u0447\\u0440\\u0435\\u0434\\u0438\\u0442\\u0435\\u043b\\u044c\", \"\\u0443\\u0447\\u0440\\u0435\\u0434\\u0438\\u0442\\u0435\\u043b\\u044c\", \"\\u0444\\u0430\\u043c\\u0438\\u043b\\u0438\\u044f\", \"\\u0444\\u0430\\u043c\\u0438\\u043b\\u0438\\u044f\", \"\\u0444\\u0430\\u043c\\u0438\\u043b\\u0438\\u044f\", \"\\u0444\\u0430\\u043c\\u0438\\u043b\\u0438\\u044f\", \"\\u0444\\u0430\\u043c\\u0438\\u043b\\u0438\\u044f\", \"\\u0444\\u0430\\u043c\\u0438\\u043b\\u0438\\u044f\", \"\\u0444\\u0430\\u043c\\u0438\\u043b\\u0438\\u044f\", \"\\u0444\\u0437\", \"\\u0444\\u0437\", \"\\u0444\\u0437\", \"\\u0444\\u0437\", \"\\u0444\\u0437\", \"\\u0444\\u0437\", \"\\u0444\\u0438\\u043b\\u0438\\u0430\\u043b\", \"\\u0444\\u0438\\u043b\\u0438\\u0430\\u043b\", \"\\u0444\\u0438\\u043b\\u0438\\u0430\\u043b\", \"\\u0444\\u0438\\u043b\\u0438\\u0430\\u043b\", \"\\u0444\\u0438\\u043b\\u0438\\u0430\\u043b\", \"\\u0444\\u0438\\u043b\\u0438\\u0430\\u043b\", \"\\u0444\\u0438\\u043b\\u0438\\u0430\\u043b\", \"\\u0444\\u043e\\u0440\\u043c\\u0430\", \"\\u0444\\u043e\\u0440\\u043c\\u0430\", \"\\u0444\\u043e\\u0440\\u043c\\u0430\", \"\\u0444\\u043e\\u0440\\u043c\\u0430\", \"\\u0444\\u043e\\u0440\\u043c\\u0430\", \"\\u0444\\u043e\\u0440\\u043c\\u0430\", \"\\u0444\\u0441\", \"\\u0444\\u0441\\u0441\\u043f\", \"\\u0444\\u0441\\u0441\\u043f\", \"\\u0445\\u043e\\u0440\\u043e\\u0448\\u0438\\u0439\", \"\\u0445\\u043e\\u0440\\u043e\\u0448\\u0438\\u0439\", \"\\u0445\\u043e\\u0440\\u043e\\u0448\\u0438\\u0439\", \"\\u0445\\u043e\\u0440\\u043e\\u0448\\u0438\\u0439\", \"\\u0445\\u043e\\u0440\\u043e\\u0448\\u0438\\u0439\", \"\\u0445\\u043e\\u0440\\u043e\\u0448\\u0438\\u0439\", \"\\u0445\\u043e\\u0440\\u043e\\u0448\\u0438\\u0439\", \"\\u0446\\u0435\\u043d\\u0442\\u0440\", \"\\u0446\\u0435\\u043d\\u0442\\u0440\", \"\\u0446\\u0435\\u043d\\u0442\\u0440\", \"\\u0446\\u0435\\u043d\\u0442\\u0440\", \"\\u0446\\u0435\\u043d\\u0442\\u0440\", \"\\u0446\\u0435\\u043d\\u0442\\u0440\", \"\\u0446\\u0435\\u043d\\u0442\\u0440\", \"\\u0446\\u0441\\u043a\\u043e\", \"\\u0446\\u0441\\u043a\\u043e\", \"\\u0446\\u0441\\u043a\\u043e\", \"\\u0447\\u0430\\u0440\\u0434\\u0436\\u0431\\u0435\\u043a\", \"\\u0447\\u0430\\u0441\\u0442\\u0438\\u0447\\u043d\\u044b\\u0439\", \"\\u0447\\u0435\\u043a\", \"\\u0447\\u0435\\u043b\\u043e\\u0432\\u0435\\u043a\", \"\\u0447\\u0435\\u043b\\u043e\\u0432\\u0435\\u043a\", \"\\u0447\\u0435\\u043b\\u043e\\u0432\\u0435\\u043a\", \"\\u0447\\u0435\\u043b\\u043e\\u0432\\u0435\\u043a\", \"\\u0447\\u0435\\u043b\\u043e\\u0432\\u0435\\u043a\", \"\\u0447\\u0435\\u043b\\u043e\\u0432\\u0435\\u043a\", \"\\u0447\\u0435\\u043b\\u043e\\u0432\\u0435\\u043a\", \"\\u0447\\u0435\\u0440\\u043d\\u043e\\u0432\\u0438\\u043a\", \"\\u0447\\u0443\\u0442\\u043a\\u0438\\u0439\", \"\\u0449\\u0451\\u043b\\u043a\\u043e\\u0432\\u043e\", \"\\u044d\\u043b\\u0435\\u043a\\u0442\\u0440\\u043e\\u043d\\u043d\\u044b\\u0439\", \"\\u044d\\u043b\\u0435\\u043a\\u0442\\u0440\\u043e\\u043d\\u043d\\u044b\\u0439\", \"\\u044d\\u043b\\u0435\\u043a\\u0442\\u0440\\u043e\\u043d\\u043d\\u044b\\u0439\", \"\\u044d\\u043b\\u0435\\u043a\\u0442\\u0440\\u043e\\u043d\\u043d\\u044b\\u0439\", \"\\u044d\\u043b\\u0435\\u043a\\u0442\\u0440\\u043e\\u043d\\u043d\\u044b\\u0439\", \"\\u044d\\u043b\\u0435\\u043a\\u0442\\u0440\\u043e\\u043d\\u043d\\u044b\\u0439\", \"\\u044d\\u043b\\u0435\\u043a\\u0442\\u0440\\u043e\\u043d\\u043d\\u044b\\u0439\", \"\\u044d\\u0442\\u0430\\u0436\\u043d\\u044b\\u0439\", \"\\u044e\\u043b\\u0438\\u044f\", \"\\u044f\\u043a\\u0443\\u0442\\u0441\\u043a\", \"\\u044f\\u043a\\u0443\\u0442\\u0441\\u043a\", \"\\u044f\\u0440\\u043a\\u0438\\u0439\"]}, \"R\": 30, \"lambda.step\": 0.01, \"plot.opts\": {\"xlab\": \"PC1\", \"ylab\": \"PC2\"}, \"topic.order\": [5, 6, 1, 4, 2, 7, 8, 3]};\n",
       "\n",
       "function LDAvis_load_lib(url, callback){\n",
       "  var s = document.createElement('script');\n",
       "  s.src = url;\n",
       "  s.async = true;\n",
       "  s.onreadystatechange = s.onload = callback;\n",
       "  s.onerror = function(){console.warn(\"failed to load library \" + url);};\n",
       "  document.getElementsByTagName(\"head\")[0].appendChild(s);\n",
       "}\n",
       "\n",
       "if(typeof(LDAvis) !== \"undefined\"){\n",
       "   // already loaded: just create the visualization\n",
       "   !function(LDAvis){\n",
       "       new LDAvis(\"#\" + \"ldavis_el9171405261854675686708493894\", ldavis_el9171405261854675686708493894_data);\n",
       "   }(LDAvis);\n",
       "}else if(typeof define === \"function\" && define.amd){\n",
       "   // require.js is available: use it to load d3/LDAvis\n",
       "   require.config({paths: {d3: \"https://d3js.org/d3.v5\"}});\n",
       "   require([\"d3\"], function(d3){\n",
       "      window.d3 = d3;\n",
       "      LDAvis_load_lib(\"https://cdn.jsdelivr.net/gh/bmabey/pyLDAvis@3.3.1/pyLDAvis/js/ldavis.v3.0.0.js\", function(){\n",
       "        new LDAvis(\"#\" + \"ldavis_el9171405261854675686708493894\", ldavis_el9171405261854675686708493894_data);\n",
       "      });\n",
       "    });\n",
       "}else{\n",
       "    // require.js not available: dynamically load d3 & LDAvis\n",
       "    LDAvis_load_lib(\"https://d3js.org/d3.v5.js\", function(){\n",
       "         LDAvis_load_lib(\"https://cdn.jsdelivr.net/gh/bmabey/pyLDAvis@3.3.1/pyLDAvis/js/ldavis.v3.0.0.js\", function(){\n",
       "                 new LDAvis(\"#\" + \"ldavis_el9171405261854675686708493894\", ldavis_el9171405261854675686708493894_data);\n",
       "            })\n",
       "         });\n",
       "}\n",
       "</script>"
      ],
      "text/plain": [
       "PreparedData(topic_coordinates=              x         y  topics  cluster       Freq\n",
       "topic                                                \n",
       "4      0.133133  0.027927       1        1  29.069958\n",
       "5      0.088189  0.029152       2        1  25.428945\n",
       "0      0.132025  0.009508       3        1  17.215603\n",
       "3      0.052027 -0.119188       4        1  15.912272\n",
       "1      0.011178  0.094986       5        1   4.909222\n",
       "6     -0.142966  0.137369       6        1   2.942575\n",
       "7     -0.065630 -0.141552       7        1   2.751925\n",
       "2     -0.207956 -0.038201       8        1   1.769500, topic_info=             Term         Freq        Total Category  logprob  loglift\n",
       "21          карта  4443.000000  4443.000000  Default  30.0000  30.0000\n",
       "439        кредит  1455.000000  1455.000000  Default  29.0000  29.0000\n",
       "11         деньга  2470.000000  2470.000000  Default  28.0000  28.0000\n",
       "1            банк  5027.000000  5027.000000  Default  27.0000  27.0000\n",
       "44       сбербанк  4289.000000  4289.000000  Default  26.0000  26.0000\n",
       "...           ...          ...          ...      ...      ...      ...\n",
       "1493  электронный     8.064055   155.771811   Topic8  -6.2304   1.0735\n",
       "3154        форма     7.347344   104.930961   Topic8  -6.3234   1.3755\n",
       "138        филиал     7.483132   128.578351   Topic8  -6.3051   1.1906\n",
       "258      документ     8.591791   799.090286   Topic8  -6.1670  -0.4982\n",
       "461        делать     7.225939   418.516870   Topic8  -6.3401  -0.0246\n",
       "\n",
       "[632 rows x 6 columns], token_table=      Topic      Freq     Term\n",
       "term                          \n",
       "0         1  0.298183         \n",
       "0         2  0.280394         \n",
       "0         3  0.083864         \n",
       "0         4  0.269382         \n",
       "0         5  0.056757         \n",
       "...     ...       ...      ...\n",
       "2940      7  0.635581  этажный\n",
       "2316      4  0.959592     юлия\n",
       "7852      2  0.246428   якутск\n",
       "7852      7  0.616071   якутск\n",
       "3062      6  0.755776    яркий\n",
       "\n",
       "[1604 rows x 3 columns], R=30, lambda_step=0.01, plot_opts={'xlab': 'PC1', 'ylab': 'PC2'}, topic_order=[5, 6, 1, 4, 2, 7, 8, 3])"
      ]
     },
     "execution_count": 89,
     "metadata": {},
     "output_type": "execute_result"
    }
   ],
   "source": [
    "lda_viz"
   ]
  }
 ],
 "metadata": {
  "kernelspec": {
   "display_name": "Python 3 (ipykernel)",
   "language": "python",
   "name": "python3"
  },
  "language_info": {
   "codemirror_mode": {
    "name": "ipython",
    "version": 3
   },
   "file_extension": ".py",
   "mimetype": "text/x-python",
   "name": "python",
   "nbconvert_exporter": "python",
   "pygments_lexer": "ipython3",
   "version": "3.9.7"
  }
 },
 "nbformat": 4,
 "nbformat_minor": 5
}
